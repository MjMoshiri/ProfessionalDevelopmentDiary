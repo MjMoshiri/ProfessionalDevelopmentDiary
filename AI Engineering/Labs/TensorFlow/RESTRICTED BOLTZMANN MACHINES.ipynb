{
 "cells": [
  {
   "cell_type": "markdown",
   "metadata": {},
   "source": [
    "<img src=\"https://cf-courses-data.s3.us.cloud-object-storage.appdomain.cloud/IBMDeveloperSkillsNetwork-DL0120EN-SkillsNetwork/images/IDSN-logo.png\" width=\"300\" alt=\"cognitiveclass.ai logo\">\n",
    "\n",
    "<h1 align=\"center\"><font size=\"5\">RESTRICTED BOLTZMANN MACHINES</font></h1>\n"
   ]
  },
  {
   "cell_type": "markdown",
   "metadata": {},
   "source": [
    "Estimated time needed: **25** minutes\n"
   ]
  },
  {
   "cell_type": "markdown",
   "metadata": {},
   "source": [
    "<h3>Introduction</h3>\n",
    "<b>Restricted Boltzmann Machine (RBM):</b>  RBMs are shallow neural nets that learn to reconstruct data by themselves in an unsupervised fashion.  \n",
    "\n",
    "\n",
    "<h4>Why are RBMs important?</h4>\n",
    "An RBM are a basic form of autoencoder.  It can automatically extract <b>meaningful</b> features from a given input.\n",
    "\n",
    "\n",
    "<h4>How does it work?</h4>\n",
    "RBM is a 2 layer neural network. Simply, RBM takes the inputs and translates those into a set of binary values that represents them in the hidden layer. Then, these numbers can be translated back to reconstruct the inputs. Through several forward and backward passes, the RBM will be trained, and a trained RBM can reveal which features are the most important ones when detecting patterns.   \n",
    "\n",
    "\n",
    "<h4>What are the applications of an RBM?</h4>\n",
    "RBM is useful for <a href='http://www.cs.utoronto.ca/~hinton/absps/netflixICML.pdf'>  Collaborative Filtering</a>, dimensionality reduction, classification, regression, feature learning, topic modeling and even <b>Deep Belief Networks</b>.\n",
    "\n",
    "<h4>Is RBM a generative or Discriminative model?</h4>\n",
    "RBM is a generative model. Let me explain it by first, see what is different between discriminative and generative models: \n",
    "\n",
    "<b>Discriminative:</b> Consider a classification problem where we want to learn to distinguish between Sedan cars (y = 1) and SUV cars (y = 0), based on some features of cars. Given a training set, an algorithm like logistic regression tries to find a straight line, or <i>decision boundary</i>, that separates the suv and sedan.  \n",
    "\n",
    "<b>Generative:</b> looking at cars, we can build a model of what Sedan cars look like. Then, looking at SUVs, we can build a separate model of what SUV cars look like. Finally, to classify a new car, we can match the new car against the Sedan model, and match it against the SUV model, to see whether the new car looks more like the SUV or Sedan. \n",
    "\n",
    "Generative Models specify a probability distribution over a dataset of input vectors. We can carry out both supervised and unsupervised tasks with generative models:\n",
    "<ul>\n",
    "    <li>In an unsupervised task, we try to form a model for $P(x)$, where $P$ is the probability given $x$ as an input vector.</li>\n",
    "    <li>In the supervised task, we first form a model for $P(x|y)$, where $P$ is the probability of $x$ given $y$(the label for $x$). For example, if $y = 0$ indicates that a car is an SUV, and $y = 1$ indicates that a car is a sedan, then $p(x|y = 0)$ models the distribution of SUV features, and $p(x|y = 1)$ models the distribution of sedan features. If we manage to find $P(x|y)$ and $P(y)$, then we can use <b>Bayes rule</b> to estimate $P(y|x)$, because:   \n",
    "        $$p(y|x) = \\frac{p(x|y)p(y)}{p(x)}$$</li>\n",
    "</ul>\n",
    "Now the question is, can we build a generative model, and then use it to create synthetic data by directly sampling from the modeled probability distributions? Lets see. \n"
   ]
  },
  {
   "cell_type": "markdown",
   "metadata": {},
   "source": [
    "<h2>Table of Contents</h2>\n",
    "<ol>\n",
    "    <li><a href=\"#ref1\">Initialization</a></li>\n",
    "    <li><a href=\"#ref2\">RBM layers</a></li>\n",
    "    <li><a href=\"#ref3\">What RBM can do after training?</a></li>\n",
    "    <li><a href=\"#ref4\">How to train the model?</a></li>\n",
    "    <li><a href=\"#ref5\">Learned features</a></li>\n",
    "</ol>\n",
    "<p></p>\n",
    "</div>\n",
    "<br>\n",
    "\n",
    "<hr>\n"
   ]
  },
  {
   "cell_type": "markdown",
   "metadata": {},
   "source": [
    "<a id=\"ref1\"></a>\n",
    "<h3>Initialization</h3>\n",
    "\n",
    "First, we have to load the utility file which contains different utility functions that are not connected\n",
    "in any way to the networks presented in the tutorials, but rather help in\n",
    "processing the outputs into a more understandable way.\n"
   ]
  },
  {
   "cell_type": "code",
   "execution_count": 1,
   "metadata": {},
   "outputs": [],
   "source": [
    "import urllib.request\n",
    "with urllib.request.urlopen(\"https://cf-courses-data.s3.us.cloud-object-storage.appdomain.cloud/IBMDeveloperSkillsNetwork-DL0120EN-SkillsNetwork/labs/Week4/data/utils.py\") as url:\n",
    "    response = url.read()\n",
    "target = open('utils.py', 'w')\n",
    "target.write(response.decode('utf-8'))\n",
    "target.close()"
   ]
  },
  {
   "cell_type": "markdown",
   "metadata": {},
   "source": [
    "<h2>Installing TensorFlow </h2>\n",
    "\n",
    "We will installing TensorFlow version 2.9.0 and its required prerequistes.  Also installing pillow...\n"
   ]
  },
  {
   "cell_type": "code",
   "execution_count": 2,
   "metadata": {},
   "outputs": [
    {
     "name": "stdout",
     "output_type": "stream",
     "text": [
      "Collecting grpcio==1.24.3\n",
      "  Downloading grpcio-1.24.3-cp37-cp37m-manylinux2010_x86_64.whl (2.2 MB)\n",
      "\u001b[2K     \u001b[90m━━━━━━━━━━━━━━━━━━━━━━━━━━━━━━━━━━━━━━━━\u001b[0m \u001b[32m2.2/2.2 MB\u001b[0m \u001b[31m33.7 MB/s\u001b[0m eta \u001b[36m0:00:00\u001b[0m00:01\u001b[0m\n",
      "\u001b[?25hRequirement already satisfied: six>=1.5.2 in /home/jupyterlab/conda/envs/python/lib/python3.7/site-packages (from grpcio==1.24.3) (1.16.0)\n",
      "Installing collected packages: grpcio\n",
      "  Attempting uninstall: grpcio\n",
      "    Found existing installation: grpcio 1.48.1\n",
      "    Uninstalling grpcio-1.48.1:\n",
      "      Successfully uninstalled grpcio-1.48.1\n",
      "Successfully installed grpcio-1.24.3\n",
      "Requirement already satisfied: tensorflow==2.9.0 in /home/jupyterlab/conda/envs/python/lib/python3.7/site-packages (2.9.0)\n",
      "Requirement already satisfied: absl-py>=1.0.0 in /home/jupyterlab/conda/envs/python/lib/python3.7/site-packages (from tensorflow==2.9.0) (1.4.0)\n",
      "Requirement already satisfied: astunparse>=1.6.0 in /home/jupyterlab/conda/envs/python/lib/python3.7/site-packages (from tensorflow==2.9.0) (1.6.3)\n",
      "Requirement already satisfied: flatbuffers<2,>=1.12 in /home/jupyterlab/conda/envs/python/lib/python3.7/site-packages (from tensorflow==2.9.0) (1.12)\n",
      "Requirement already satisfied: gast<=0.4.0,>=0.2.1 in /home/jupyterlab/conda/envs/python/lib/python3.7/site-packages (from tensorflow==2.9.0) (0.4.0)\n",
      "Requirement already satisfied: google-pasta>=0.1.1 in /home/jupyterlab/conda/envs/python/lib/python3.7/site-packages (from tensorflow==2.9.0) (0.2.0)\n",
      "Requirement already satisfied: grpcio<2.0,>=1.24.3 in /home/jupyterlab/conda/envs/python/lib/python3.7/site-packages (from tensorflow==2.9.0) (1.24.3)\n",
      "Requirement already satisfied: h5py>=2.9.0 in /home/jupyterlab/conda/envs/python/lib/python3.7/site-packages (from tensorflow==2.9.0) (3.8.0)\n",
      "Requirement already satisfied: keras<2.10.0,>=2.9.0rc0 in /home/jupyterlab/conda/envs/python/lib/python3.7/site-packages (from tensorflow==2.9.0) (2.9.0)\n",
      "Requirement already satisfied: keras-preprocessing>=1.1.1 in /home/jupyterlab/conda/envs/python/lib/python3.7/site-packages (from tensorflow==2.9.0) (1.1.2)\n",
      "Requirement already satisfied: libclang>=13.0.0 in /home/jupyterlab/conda/envs/python/lib/python3.7/site-packages (from tensorflow==2.9.0) (18.1.1)\n",
      "Requirement already satisfied: numpy>=1.20 in /home/jupyterlab/conda/envs/python/lib/python3.7/site-packages (from tensorflow==2.9.0) (1.21.4)\n",
      "Requirement already satisfied: opt-einsum>=2.3.2 in /home/jupyterlab/conda/envs/python/lib/python3.7/site-packages (from tensorflow==2.9.0) (3.3.0)\n",
      "Requirement already satisfied: packaging in /home/jupyterlab/conda/envs/python/lib/python3.7/site-packages (from tensorflow==2.9.0) (23.1)\n",
      "Requirement already satisfied: protobuf>=3.9.2 in /home/jupyterlab/conda/envs/python/lib/python3.7/site-packages (from tensorflow==2.9.0) (3.19.6)\n",
      "Requirement already satisfied: setuptools in /home/jupyterlab/conda/envs/python/lib/python3.7/site-packages (from tensorflow==2.9.0) (67.7.2)\n",
      "Requirement already satisfied: six>=1.12.0 in /home/jupyterlab/conda/envs/python/lib/python3.7/site-packages (from tensorflow==2.9.0) (1.16.0)\n",
      "Requirement already satisfied: tensorboard<2.10,>=2.9 in /home/jupyterlab/conda/envs/python/lib/python3.7/site-packages (from tensorflow==2.9.0) (2.9.1)\n",
      "Requirement already satisfied: tensorflow-io-gcs-filesystem>=0.23.1 in /home/jupyterlab/conda/envs/python/lib/python3.7/site-packages (from tensorflow==2.9.0) (0.34.0)\n",
      "Requirement already satisfied: tensorflow-estimator<2.10.0,>=2.9.0rc0 in /home/jupyterlab/conda/envs/python/lib/python3.7/site-packages (from tensorflow==2.9.0) (2.9.0)\n",
      "Requirement already satisfied: termcolor>=1.1.0 in /home/jupyterlab/conda/envs/python/lib/python3.7/site-packages (from tensorflow==2.9.0) (2.3.0)\n",
      "Requirement already satisfied: typing-extensions>=3.6.6 in /home/jupyterlab/conda/envs/python/lib/python3.7/site-packages (from tensorflow==2.9.0) (4.5.0)\n",
      "Requirement already satisfied: wrapt>=1.11.0 in /home/jupyterlab/conda/envs/python/lib/python3.7/site-packages (from tensorflow==2.9.0) (1.14.1)\n",
      "Requirement already satisfied: wheel<1.0,>=0.23.0 in /home/jupyterlab/conda/envs/python/lib/python3.7/site-packages (from astunparse>=1.6.0->tensorflow==2.9.0) (0.40.0)\n",
      "Requirement already satisfied: google-auth<3,>=1.6.3 in /home/jupyterlab/conda/envs/python/lib/python3.7/site-packages (from tensorboard<2.10,>=2.9->tensorflow==2.9.0) (2.30.0)\n",
      "Requirement already satisfied: google-auth-oauthlib<0.5,>=0.4.1 in /home/jupyterlab/conda/envs/python/lib/python3.7/site-packages (from tensorboard<2.10,>=2.9->tensorflow==2.9.0) (0.4.6)\n",
      "Requirement already satisfied: markdown>=2.6.8 in /home/jupyterlab/conda/envs/python/lib/python3.7/site-packages (from tensorboard<2.10,>=2.9->tensorflow==2.9.0) (3.4.3)\n",
      "Requirement already satisfied: requests<3,>=2.21.0 in /home/jupyterlab/conda/envs/python/lib/python3.7/site-packages (from tensorboard<2.10,>=2.9->tensorflow==2.9.0) (2.29.0)\n",
      "Requirement already satisfied: tensorboard-data-server<0.7.0,>=0.6.0 in /home/jupyterlab/conda/envs/python/lib/python3.7/site-packages (from tensorboard<2.10,>=2.9->tensorflow==2.9.0) (0.6.1)\n",
      "Requirement already satisfied: tensorboard-plugin-wit>=1.6.0 in /home/jupyterlab/conda/envs/python/lib/python3.7/site-packages (from tensorboard<2.10,>=2.9->tensorflow==2.9.0) (1.8.1)\n",
      "Requirement already satisfied: werkzeug>=1.0.1 in /home/jupyterlab/conda/envs/python/lib/python3.7/site-packages (from tensorboard<2.10,>=2.9->tensorflow==2.9.0) (2.2.3)\n",
      "Requirement already satisfied: cachetools<6.0,>=2.0.0 in /home/jupyterlab/conda/envs/python/lib/python3.7/site-packages (from google-auth<3,>=1.6.3->tensorboard<2.10,>=2.9->tensorflow==2.9.0) (5.3.3)\n",
      "Requirement already satisfied: pyasn1-modules>=0.2.1 in /home/jupyterlab/conda/envs/python/lib/python3.7/site-packages (from google-auth<3,>=1.6.3->tensorboard<2.10,>=2.9->tensorflow==2.9.0) (0.3.0)\n",
      "Requirement already satisfied: rsa<5,>=3.1.4 in /home/jupyterlab/conda/envs/python/lib/python3.7/site-packages (from google-auth<3,>=1.6.3->tensorboard<2.10,>=2.9->tensorflow==2.9.0) (4.9)\n",
      "Requirement already satisfied: requests-oauthlib>=0.7.0 in /home/jupyterlab/conda/envs/python/lib/python3.7/site-packages (from google-auth-oauthlib<0.5,>=0.4.1->tensorboard<2.10,>=2.9->tensorflow==2.9.0) (2.0.0)\n",
      "Requirement already satisfied: importlib-metadata>=4.4 in /home/jupyterlab/conda/envs/python/lib/python3.7/site-packages (from markdown>=2.6.8->tensorboard<2.10,>=2.9->tensorflow==2.9.0) (4.11.4)\n",
      "Requirement already satisfied: charset-normalizer<4,>=2 in /home/jupyterlab/conda/envs/python/lib/python3.7/site-packages (from requests<3,>=2.21.0->tensorboard<2.10,>=2.9->tensorflow==2.9.0) (3.1.0)\n",
      "Requirement already satisfied: idna<4,>=2.5 in /home/jupyterlab/conda/envs/python/lib/python3.7/site-packages (from requests<3,>=2.21.0->tensorboard<2.10,>=2.9->tensorflow==2.9.0) (3.4)\n",
      "Requirement already satisfied: urllib3<1.27,>=1.21.1 in /home/jupyterlab/conda/envs/python/lib/python3.7/site-packages (from requests<3,>=2.21.0->tensorboard<2.10,>=2.9->tensorflow==2.9.0) (1.26.15)\n",
      "Requirement already satisfied: certifi>=2017.4.17 in /home/jupyterlab/conda/envs/python/lib/python3.7/site-packages (from requests<3,>=2.21.0->tensorboard<2.10,>=2.9->tensorflow==2.9.0) (2023.5.7)\n",
      "Requirement already satisfied: MarkupSafe>=2.1.1 in /home/jupyterlab/conda/envs/python/lib/python3.7/site-packages (from werkzeug>=1.0.1->tensorboard<2.10,>=2.9->tensorflow==2.9.0) (2.1.1)\n",
      "Requirement already satisfied: zipp>=0.5 in /home/jupyterlab/conda/envs/python/lib/python3.7/site-packages (from importlib-metadata>=4.4->markdown>=2.6.8->tensorboard<2.10,>=2.9->tensorflow==2.9.0) (3.15.0)\n",
      "Requirement already satisfied: pyasn1<0.6.0,>=0.4.6 in /home/jupyterlab/conda/envs/python/lib/python3.7/site-packages (from pyasn1-modules>=0.2.1->google-auth<3,>=1.6.3->tensorboard<2.10,>=2.9->tensorflow==2.9.0) (0.5.0)\n",
      "Requirement already satisfied: oauthlib>=3.0.0 in /home/jupyterlab/conda/envs/python/lib/python3.7/site-packages (from requests-oauthlib>=0.7.0->google-auth-oauthlib<0.5,>=0.4.1->tensorboard<2.10,>=2.9->tensorflow==2.9.0) (3.2.2)\n",
      "Requirement already satisfied: pillow==8.1.0 in /home/jupyterlab/conda/envs/python/lib/python3.7/site-packages (8.1.0)\n"
     ]
    }
   ],
   "source": [
    "!pip install grpcio==1.24.3\n",
    "!pip install tensorflow==2.9.0\n",
    "!pip install pillow==8.1.0"
   ]
  },
  {
   "cell_type": "markdown",
   "metadata": {},
   "source": [
    "**Restart kernel for latest version of TensorFlow to be activated, then continue to the next section.**\n"
   ]
  },
  {
   "cell_type": "markdown",
   "metadata": {},
   "source": [
    "<b>Notice:</b> This notebook has been created with TensorFlow version 2.9.0, and might not work with other versions. Therefore we check:\n"
   ]
  },
  {
   "cell_type": "code",
   "execution_count": 1,
   "metadata": {},
   "outputs": [
    {
     "name": "stderr",
     "output_type": "stream",
     "text": [
      "2024-06-16 17:57:22.673663: I tensorflow/core/util/util.cc:169] oneDNN custom operations are on. You may see slightly different numerical results due to floating-point round-off errors from different computation orders. To turn them off, set the environment variable `TF_ENABLE_ONEDNN_OPTS=0`.\n",
      "2024-06-16 17:57:22.688700: W tensorflow/stream_executor/platform/default/dso_loader.cc:64] Could not load dynamic library 'libcudart.so.11.0'; dlerror: libcudart.so.11.0: cannot open shared object file: No such file or directory\n",
      "2024-06-16 17:57:22.688745: I tensorflow/stream_executor/cuda/cudart_stub.cc:29] Ignore above cudart dlerror if you do not have a GPU set up on your machine.\n"
     ]
    }
   ],
   "source": [
    "import tensorflow as tf\n",
    "from IPython.display import Markdown, display\n",
    "\n",
    "def printmd(string):\n",
    "    display(Markdown('# <span style=\"color:red\">'+string+'</span>'))\n",
    "\n",
    "\n",
    "if not tf.__version__ == '2.9.0':\n",
    "    printmd('<<<<<!!!!! ERROR !!!! please upgrade to TensorFlow 2.9.0, or restart your Kernel (Kernel->Restart & Clear Output)>>>>>')"
   ]
  },
  {
   "cell_type": "markdown",
   "metadata": {},
   "source": [
    "Now, we load in all the packages that we use to create the net including the TensorFlow package:\n"
   ]
  },
  {
   "cell_type": "code",
   "execution_count": 2,
   "metadata": {},
   "outputs": [],
   "source": [
    "import tensorflow as tf\n",
    "import numpy as np\n",
    "\n",
    "from PIL import Image\n",
    "from utils import tile_raster_images\n",
    "import matplotlib.pyplot as plt\n",
    "%matplotlib inline"
   ]
  },
  {
   "cell_type": "markdown",
   "metadata": {},
   "source": [
    "<hr>\n"
   ]
  },
  {
   "cell_type": "markdown",
   "metadata": {},
   "source": [
    "<a id=\"ref2\"></a>\n",
    "<h3>RBM layers</h3>\n",
    "\n",
    "An RBM has two layers. The first layer of the RBM is called the <b>visible</b> (or input layer). Imagine that our toy example, has only vectors with 7 values, so the visible layer must have $V=7$ input nodes. \n",
    "The second layer is the <b>hidden</b> layer, which has $H$ neurons in our case. Each hidden node takes on values of either 0 or 1 (i.e., $h_i = 1$ or $h_i$ = 0), with a probability that is a logistic function of the inputs it receives from the other $V$ visible units, called for example, $p(h_i = 1)$. For our toy sample, we'll use 2 nodes in the hidden layer, so $H = 2$.\n",
    "\n",
    "<center><img src=\"https://ibm.box.com/shared/static/eu26opvcefgls6vnwuo29uwp0nudmokh.png\" alt=\"RBM Model\" style=\"width: 400px;\"></center>\n"
   ]
  },
  {
   "cell_type": "markdown",
   "metadata": {},
   "source": [
    "     \n",
    "\n",
    "Each node in the first layer also has a <b>bias</b>. We will denote the bias as $v_{bias}$, and this single value is shared among the $V$ visible units.\n",
    "\n",
    "The <b>bias</b> of the second is defined similarly as $h_{bias}$, and this single value among the $H$ hidden units.\n"
   ]
  },
  {
   "cell_type": "code",
   "execution_count": 3,
   "metadata": {},
   "outputs": [
    {
     "name": "stderr",
     "output_type": "stream",
     "text": [
      "2024-06-16 17:57:31.407922: W tensorflow/stream_executor/platform/default/dso_loader.cc:64] Could not load dynamic library 'libcuda.so.1'; dlerror: libcuda.so.1: cannot open shared object file: No such file or directory\n",
      "2024-06-16 17:57:31.407982: W tensorflow/stream_executor/cuda/cuda_driver.cc:269] failed call to cuInit: UNKNOWN ERROR (303)\n",
      "2024-06-16 17:57:31.408015: I tensorflow/stream_executor/cuda/cuda_diagnostics.cc:156] kernel driver does not appear to be running on this host (jupyterlab-thisismjmosh): /proc/driver/nvidia/version does not exist\n",
      "2024-06-16 17:57:31.408519: I tensorflow/core/platform/cpu_feature_guard.cc:193] This TensorFlow binary is optimized with oneAPI Deep Neural Network Library (oneDNN) to use the following CPU instructions in performance-critical operations:  AVX2 AVX512F AVX512_VNNI FMA\n",
      "To enable them in other operations, rebuild TensorFlow with the appropriate compiler flags.\n"
     ]
    }
   ],
   "source": [
    "v_bias = tf.Variable(tf.zeros([7]), tf.float32)\n",
    "h_bias = tf.Variable(tf.zeros([2]), tf.float32)"
   ]
  },
  {
   "cell_type": "markdown",
   "metadata": {},
   "source": [
    "We have to define weights among the input layer and hidden layer nodes. In the weight matrix, the number of rows are equal to the input nodes, and the number of columns are equal to the output nodes. We define a tensor $\\mathbf{W}$ of shape = (7,2), where the number of visible neurons = 7, and the number of hidden neurons = 2. \n"
   ]
  },
  {
   "cell_type": "code",
   "execution_count": 4,
   "metadata": {},
   "outputs": [],
   "source": [
    "W = tf.constant(np.random.normal(loc=0.0, scale=1.0, size=(7, 2)).astype(np.float32))"
   ]
  },
  {
   "cell_type": "markdown",
   "metadata": {},
   "source": [
    "<hr>\n"
   ]
  },
  {
   "cell_type": "markdown",
   "metadata": {},
   "source": [
    "<a id=\"ref3\"></a>\n",
    "<h3>What RBM can do after training?</h3>\n",
    "Think of RBM as a model that has been trained based on images of a dataset of many SUV and sedan cars. Also, imagine that the RBM network has only two hidden nodes, where one node encodes the weight and, and the other encodes the size.  \n",
    "In a sense, the different configurations represent different cars, where one is an SUV and the other is Sedan.  In a training process, through many forward and backward passes, the RBM adjust its weights to send a stronger signal to either the SUV node (0, 1) or the sedan node (1, 0) in the hidden layer, given the pixels of images. Now, given an SUV in hidden layer, which distribution of pixels should we expect? RBM can give you 2 things. First, it encodes your images in hidden layer. Second, it gives you the probability of observing a case, given some hidden values.\n",
    "\n",
    "\n",
    "<h3>The Inference Process</h3>\n",
    "\n",
    "RBM has two phases:\n",
    "<ul>\n",
    "    <li>Forward Pass</li>  \n",
    "    <li>Backward Pass or Reconstruction</li>\n",
    "</ul>\n",
    "\n",
    "<b>Phase 1) Forward pass:</b>  \n",
    "\n",
    "Input one training sample (one image) $\\mathbf{x}$ through all visible nodes, and pass it to all hidden nodes. Processing happens in each node in the hidden layer. This computation begins by making stochastic decisions about whether to transmit that input or not (i.e. to determine the state of each hidden layer).  First, the probability vector is computed using the input feature vector $\\mathbf{x}$, the weight matrix $\\mathbf{W}$, and the bias term $h_{bias}$, as \n",
    "\n",
    "\n",
    "$$p({h_j}|\\mathbf x)= \\sigma( \\sum_{i=1}^V W_{ij} x_i + h_{bias} )$$, \n",
    "\n",
    "where $\\sigma(z) = (1+e^{-z})^{-1}$ is the logistic function.\n",
    "\n",
    "\n",
    "So, what does $p({h_j})$ represent? It is the <b>probability distribution</b> of the hidden units. That is, RBM uses inputs $x_i$ to make predictions about hidden node activations. For example, imagine that the hidden node activation values are [0.51 0.84] for the first training item. It tells you that the conditional probability for each hidden neuron for Phase 1 is: \n",
    "\n",
    "$$p(h_{1} = 1|\\mathbf{v}) = 0.51$$\n",
    "$$p(h_{2} = 1|\\mathbf{v}) = 0.84$$\n",
    "\n",
    "As a result, for each row in the training set, vector of probabilities is generated.  In TensorFlow, this is referred to as a `tensor` with a shape of (1,2). \n",
    "\n",
    "We then turn unit $j$ with probability $p(h_{j}|\\mathbf{v})$, and turn it off with probability $1 - p(h_{j}|\\mathbf{v})$ by generating a uniform random number vector $\\mathbf{\\xi}$, and comparing it to the activation probability as \n",
    "\n",
    "<center>If $\\xi_j>p(h_{j}|\\mathbf{v})$, then $h_j=1$, else $h_j=0$.</center>\n",
    "\n",
    "\n",
    "Therefore, the conditional probability of a configuration of $\\mathbf{h}$ given $\\mathbf{v}$ (for a training sample) is:\n",
    "\n",
    "$$p(\\mathbf{h} \\mid \\mathbf{v}) = \\prod_{j=1}^H p(h_j \\mid \\mathbf{v})$$\n",
    "\n",
    "\n",
    "where $H$ is the number of hidden units.\n",
    "\n"
   ]
  },
  {
   "cell_type": "markdown",
   "metadata": {},
   "source": [
    "Before we go further, let's look at a toy example for one case out of all input. Assume that we have a trained RBM, and a very simple input vector, such as [1.0, 0.0, 0.0, 1.0, 0.0, 0.0, 0.0].   \n",
    "Let's see what the output of forward pass would look like:\n"
   ]
  },
  {
   "cell_type": "code",
   "execution_count": 5,
   "metadata": {},
   "outputs": [
    {
     "name": "stdout",
     "output_type": "stream",
     "text": [
      "Input:  tf.Tensor([[1. 0. 0. 1. 0. 0. 0.]], shape=(1, 7), dtype=float32)\n",
      "hb:  tf.Tensor([0.1 0.1], shape=(2,), dtype=float32)\n",
      "w:  tf.Tensor(\n",
      "[[ 1.4417058   0.9095613 ]\n",
      " [-0.09767098 -1.0971972 ]\n",
      " [ 0.3480539   0.42333806]\n",
      " [ 1.5921179   1.4663491 ]\n",
      " [-2.0614638  -0.7250703 ]\n",
      " [ 0.5170507  -0.13799597]\n",
      " [-2.2418945  -1.0656999 ]], shape=(7, 2), dtype=float32)\n",
      "p(h|v):  tf.Tensor([[0.95826656 0.9224357 ]], shape=(1, 2), dtype=float32)\n",
      "h0 states: tf.Tensor([[1. 1.]], shape=(1, 2), dtype=float32)\n"
     ]
    }
   ],
   "source": [
    "X = tf.constant([[1.0, 0.0, 0.0, 1.0, 0.0, 0.0, 0.0]], tf.float32)\n",
    "\n",
    "v_state = X\n",
    "print (\"Input: \", v_state)\n",
    "\n",
    "h_bias = tf.constant([0.1, 0.1])\n",
    "print (\"hb: \", h_bias)\n",
    "print (\"w: \", W)\n",
    "\n",
    "# Calculate the probabilities of turning the hidden units on:\n",
    "h_prob = tf.nn.sigmoid(tf.matmul(v_state, W) + h_bias)  #probabilities of the hidden units\n",
    "print (\"p(h|v): \", h_prob)\n",
    "\n",
    "# Draw samples from the distribution:\n",
    "h_state = tf.nn.relu(tf.sign(h_prob - tf.random.uniform(tf.shape(h_prob)))) #states\n",
    "print (\"h0 states:\", h_state)"
   ]
  },
  {
   "cell_type": "markdown",
   "metadata": {},
   "source": [
    "<b>Phase 2) Backward Pass (Reconstruction):</b>\n",
    "The RBM reconstructs data by making several forward and backward passes between the visible and hidden layers.\n",
    "\n",
    "So, in the second phase (i.e. reconstruction phase), the samples from the hidden layer (i.e. $\\mathbf h$) becomes the input in the backward pass. The same weight matrix and visible layer biases are used to passed to the sigmoid function. The reproduced output is a reconstruction which is an approximation of the original input.\n"
   ]
  },
  {
   "cell_type": "code",
   "execution_count": 6,
   "metadata": {},
   "outputs": [
    {
     "name": "stdout",
     "output_type": "stream",
     "text": [
      "b:  tf.Tensor([0.1 0.2 0.1 0.1 0.1 0.2 0.1], shape=(7,), dtype=float32)\n",
      "p(vi∣h):  tf.Tensor(\n",
      "[[0.92065406 0.26995158 0.70503527 0.95924103 0.06377263 0.6408499\n",
      "  0.03888093]], shape=(1, 7), dtype=float32)\n",
      "v probability states:  tf.Tensor([[1. 1. 1. 1. 0. 0. 0.]], shape=(1, 7), dtype=float32)\n"
     ]
    }
   ],
   "source": [
    "vb = tf.constant([0.1, 0.2, 0.1, 0.1, 0.1, 0.2, 0.1])\n",
    "print (\"b: \", vb)\n",
    "v_prob = tf.nn.sigmoid(tf.matmul(h_state, tf.transpose(W)) + vb)\n",
    "print (\"p(vi∣h): \", v_prob)\n",
    "v_state = tf.nn.relu(tf.sign(v_prob - tf.random.uniform(tf.shape(v_prob))))\n",
    "print (\"v probability states: \", v_state)"
   ]
  },
  {
   "cell_type": "markdown",
   "metadata": {},
   "source": [
    "RBM learns a probability distribution over the input, and then, after being trained, the RBM can generate new samples from the learned probability distribution. As you know, <b>probability distribution</b>, is a mathematical function that provides the probabilities of occurrence of different possible outcomes in an experiment.\n",
    "\n",
    "The (conditional) probability distribution over the visible units v is given by\n",
    "\n",
    "$$p(\\mathbf{v} \\mid \\mathbf{h}) = \\prod_{i=1}^V p(v_i \\mid \\mathbf{h}),$$\n",
    "\n",
    "\n",
    "where,\n",
    "\n",
    "$$p(v_i \\mid \\mathbf{h}) = \\sigma\\left(\\sum_{j=1}^H W_{ji} h_j + v_{bias} \\right)$$\n",
    "\n",
    "so, given current state of hidden units and weights, what is the probability of generating [1. 0. 0. 1. 0. 0. 0.] in reconstruction phase, based on the above <b>probability distribution</b> function?\n"
   ]
  },
  {
   "cell_type": "code",
   "execution_count": 7,
   "metadata": {},
   "outputs": [
    {
     "name": "stdout",
     "output_type": "stream",
     "text": [
      "input X: [[1. 0. 0. 1. 0. 0. 0.]]\n",
      "probablity vector: [0.92065406 0.26995158 0.70503527 0.95924103 0.06377263 0.6408499\n",
      " 0.03888093]\n",
      "probability of generating X:  0.061458297\n"
     ]
    }
   ],
   "source": [
    "inp = X\n",
    "print(\"input X:\" , inp.numpy())\n",
    "\n",
    "print(\"probablity vector:\" , v_prob[0].numpy())\n",
    "v_probability = 1\n",
    "\n",
    "for elm, p in zip(inp[0],v_prob[0]) :\n",
    "    if elm ==1:\n",
    "        v_probability *= p\n",
    "    else:\n",
    "        v_probability *= (1-p)\n",
    "\n",
    "print(\"probability of generating X: \" , v_probability.numpy())"
   ]
  },
  {
   "cell_type": "markdown",
   "metadata": {},
   "source": [
    "How similar are vectors $\\mathbf{x}$ and $\\mathbf{v}$? Of course, the reconstructed values most likely will not look anything like the input vector, because our network has not been trained yet. Our objective is to train the model in such a way that the input vector and reconstructed vector to be same. Therefore, based on how different the input values look to the ones that we just reconstructed, the weights are adjusted. \n"
   ]
  },
  {
   "cell_type": "markdown",
   "metadata": {},
   "source": [
    "<hr>\n"
   ]
  },
  {
   "cell_type": "markdown",
   "metadata": {},
   "source": [
    "\n",
    "<h2>MNIST</h2>\n"
   ]
  },
  {
   "cell_type": "markdown",
   "metadata": {},
   "source": [
    "We will be using the MNIST dataset to practice the usage of RBMs. The following cell loads the MNIST dataset.\n"
   ]
  },
  {
   "cell_type": "code",
   "execution_count": 8,
   "metadata": {},
   "outputs": [
    {
     "name": "stdout",
     "output_type": "stream",
     "text": [
      "Downloading data from https://storage.googleapis.com/tensorflow/tf-keras-datasets/mnist.npz\n",
      "11490434/11490434 [==============================] - 0s 0us/step\n"
     ]
    }
   ],
   "source": [
    "#loading training and test data\n",
    "mnist = tf.keras.datasets.mnist\n",
    "(trX, trY), (teX, teY) = mnist.load_data()\n",
    "\n",
    "# showing an example of the Flatten class and operation\n",
    "from tensorflow.keras.layers import Flatten\n",
    "flatten = Flatten(dtype='float32')\n",
    "trX = flatten(trX/255.0)\n",
    "trY = flatten(trY/255.0)"
   ]
  },
  {
   "cell_type": "markdown",
   "metadata": {},
   "source": [
    "Lets look at the dimension of the images.\n"
   ]
  },
  {
   "cell_type": "markdown",
   "metadata": {},
   "source": [
    "MNIST images have 784 pixels, so the visible layer must have 784 input nodes.  For our case, we'll use 50 nodes in the hidden layer, so i = 50.\n"
   ]
  },
  {
   "cell_type": "code",
   "execution_count": 9,
   "metadata": {},
   "outputs": [],
   "source": [
    "vb = tf.Variable(tf.zeros([784]), tf.float32)\n",
    "hb = tf.Variable(tf.zeros([50]), tf.float32)"
   ]
  },
  {
   "cell_type": "markdown",
   "metadata": {},
   "source": [
    "Let $\\mathbf W$ be the Tensor of 784x50 (784 - number of visible neurons, 50 - number of hidden neurons) that represents weights between the neurons. \n"
   ]
  },
  {
   "cell_type": "code",
   "execution_count": 10,
   "metadata": {},
   "outputs": [],
   "source": [
    "W = tf.Variable(tf.zeros([784,50]), tf.float32)"
   ]
  },
  {
   "cell_type": "markdown",
   "metadata": {},
   "source": [
    "Lets define the visible layer:\n"
   ]
  },
  {
   "cell_type": "code",
   "execution_count": 11,
   "metadata": {},
   "outputs": [
    {
     "data": {
      "text/plain": [
       "<tf.Tensor: shape=(1, 50), dtype=float32, numpy=\n",
       "array([[0., 0., 0., 0., 0., 0., 0., 0., 0., 0., 0., 0., 0., 0., 0., 0.,\n",
       "        0., 0., 0., 0., 0., 0., 0., 0., 0., 0., 0., 0., 0., 0., 0., 0.,\n",
       "        0., 0., 0., 0., 0., 0., 0., 0., 0., 0., 0., 0., 0., 0., 0., 0.,\n",
       "        0., 0.]], dtype=float32)>"
      ]
     },
     "execution_count": 11,
     "metadata": {},
     "output_type": "execute_result"
    }
   ],
   "source": [
    "v0_state = tf.Variable(tf.zeros([784]), tf.float32)\n",
    "\n",
    "#testing to see if the matrix product works\n",
    "tf.matmul( [v0_state], W)"
   ]
  },
  {
   "cell_type": "markdown",
   "metadata": {},
   "source": [
    "Now, we can define hidden layer:\n"
   ]
  },
  {
   "cell_type": "code",
   "execution_count": 12,
   "metadata": {},
   "outputs": [
    {
     "name": "stdout",
     "output_type": "stream",
     "text": [
      "h0_state shape:  tf.Tensor([ 1 50], shape=(2,), dtype=int32)\n",
      "first 15 hidden states:  tf.Tensor([0. 1. 0. 1. 0. 0. 1. 1. 1. 0. 1. 0. 0. 1. 1.], shape=(15,), dtype=float32)\n"
     ]
    }
   ],
   "source": [
    "#computing the hidden nodes probability vector and checking shape\n",
    "h0_prob = tf.nn.sigmoid(tf.matmul([v0_state], W) + hb)  #probabilities of the hidden units\n",
    "print(\"h0_state shape: \" , tf.shape(h0_prob))\n",
    "\n",
    "#defining a function to return only the generated hidden states \n",
    "def hidden_layer(v0_state, W, hb):\n",
    "    h0_prob = tf.nn.sigmoid(tf.matmul([v0_state], W) + hb)  #probabilities of the hidden units\n",
    "    h0_state = tf.nn.relu(tf.sign(h0_prob - tf.random.uniform(tf.shape(h0_prob)))) #sample_h_given_X\n",
    "    return h0_state\n",
    "\n",
    "\n",
    "h0_state = hidden_layer(v0_state, W, hb)\n",
    "print(\"first 15 hidden states: \", h0_state[0][0:15])"
   ]
  },
  {
   "cell_type": "markdown",
   "metadata": {},
   "source": [
    "Now, we define reconstruction part:\n"
   ]
  },
  {
   "cell_type": "code",
   "execution_count": 13,
   "metadata": {},
   "outputs": [
    {
     "name": "stdout",
     "output_type": "stream",
     "text": [
      "hidden state shape:  (1, 50)\n",
      "v0 state shape:   (784,)\n",
      "v1 state shape:   (784,)\n"
     ]
    }
   ],
   "source": [
    "def reconstructed_output(h0_state, W, vb):\n",
    "    v1_prob = tf.nn.sigmoid(tf.matmul(h0_state, tf.transpose(W)) + vb) \n",
    "    v1_state = tf.nn.relu(tf.sign(v1_prob - tf.random.uniform(tf.shape(v1_prob)))) #sample_v_given_h\n",
    "    return v1_state[0]\n",
    "\n",
    "v1_state = reconstructed_output(h0_state, W, vb)\n",
    "print(\"hidden state shape: \", h0_state.shape)\n",
    "print(\"v0 state shape:  \", v0_state.shape)\n",
    "print(\"v1 state shape:  \", v1_state.shape)"
   ]
  },
  {
   "cell_type": "markdown",
   "metadata": {},
   "source": [
    "<h3>What is the objective function?</h3>\n",
    "\n",
    "<b>Goal</b>: Maximize the likelihood of our data being drawn from that distribution\n",
    "\n",
    "<b>Calculate error:</b>  \n",
    "In each epoch, we compute the \"error\" as a sum of the squared difference between step 1 and step n,\n",
    "e.g the error shows the difference between the data and its reconstruction.\n",
    "\n",
    "<b>Note:</b> tf.reduce_mean computes the mean of elements across dimensions of a tensor.\n"
   ]
  },
  {
   "cell_type": "code",
   "execution_count": 14,
   "metadata": {},
   "outputs": [
    {
     "name": "stdout",
     "output_type": "stream",
     "text": [
      "error 0.49744898\n"
     ]
    }
   ],
   "source": [
    "def error(v0_state, v1_state):\n",
    "    return tf.reduce_mean(tf.square(v0_state - v1_state))\n",
    "\n",
    "err = tf.reduce_mean(tf.square(v0_state - v1_state))\n",
    "print(\"error\" , err.numpy())"
   ]
  },
  {
   "cell_type": "markdown",
   "metadata": {},
   "source": [
    "<a id=\"ref4\"></a>\n",
    "<h3>Training the Model</h3>\n",
    "<b>Warning...</b> The following part is math-heavy, but you can skip it if you just want to run the cells in the next section.\n",
    "\n",
    "As mentioned, we want to give a high probability to the input data we train on. So, in order to train an RBM, we have to maximize the product of probabilities assigned to all rows $\\mathbf{v}$ (images) in the training set $\\mathbf{V}$ (a matrix, where each row of it is treated as a visible vector $\\mathbf{v}$)\n",
    "\n",
    "$$\\arg \\max_W \\prod_{\\mathbf{v}\\in\\mathbf{V}_T} p(\\mathbf{v})$$\n",
    "\n",
    "\n",
    "which is equivalent to maximizing the expectation of the log probability, given as\n",
    "\n",
    "$$\\arg\\max_W\\left[ \\mathbb{E} \\left(\\prod_{\\mathbf v\\in \\mathbf V}\\text{log} \\left(p(\\mathbf v)\\right) \\right) \\right].$$\n",
    "\n",
    "\n",
    "So, we have to update the weights $W_{ij}$  to increase $p(\\mathbf{v})$ for all $\\mathbf{v}$ in our training data during training. So we have to calculate the derivative:\n",
    "\n",
    "\n",
    "$$\\frac{\\partial \\log p(\\mathbf v)}{\\partial W_{ij}}$$\n",
    "\n",
    "This cannot be easily done by typical <b>gradient descent (SGD)</b>, so we can use another approach, which has 2 steps:\n",
    "<ol>\n",
    "    <li>Gibbs Sampling</li>\n",
    "    <li>Contrastive Divergence</li>\n",
    "</ol>    \n",
    "    \n",
    "<h3>Gibbs Sampling</h3>   \n",
    "\n",
    "<h4>Gibbs Sampling Step 1</h4> \n",
    "Given an input vector $\\mathbf{v}$, we are using $p(\\mathbf{h}|\\mathbf{v})$ to predict the hidden values $\\mathbf{h}$. \n",
    "  $$p({h_j}|\\mathbf v)= \\sigma\\left(\\sum_{i=1}^V W_{ij} v_i + h_{bias} \\right)$$\n",
    "The samples are generated from this distribution by generating the uniform random variate vector $\\mathbf{\\xi} \\sim U[0,1]$ of length $H$ and comparing to the computed probabilities as\n",
    "\n",
    "\n",
    "<center>If $\\xi_j>p(h_{j}|\\mathbf{v})$, then $h_j=1$, else $h_j=0$.</center>\n",
    "\n",
    "\n",
    "<h4>Gibbs Sampling Step 2</h4> \n",
    "Then, knowing the hidden values, we use $p(\\mathbf v| \\mathbf h)$ for reconstructing of new input values v. \n",
    "\n",
    "   $$p({v_i}|\\mathbf h)= \\sigma\\left(\\sum_{j=1}^H W^{T}_{ij} h_j + v_{bias} \\right)$$\n",
    "\n",
    "\n",
    "The samples are generated from this distribution by generating a uniform random variate vector $\\mathbf{\\xi} \\sim U[0,1]$ of length $V$ and comparing to the computed probabilities as\n",
    "\n",
    "<center>If $\\xi_i>p(v_{i}|\\mathbf{h})$, then $v_i=1$, else $v_i=0$.</center>\n",
    "\n",
    "Let vectors $\\mathbf v_k$ and $\\mathbf h_k$ be for the $k$th iteration.  In general, the $kth$ state is generrated as: \n",
    "\n",
    "\n",
    "    \n",
    "<b>Iteration</b> $k$: \n",
    "\n",
    "$$\\mathbf v_{k-1} \\Rightarrow p(\\mathbf h_{k-1}|\\mathbf v_{k-1})\\Rightarrow \\mathbf h_{k-1}\\Rightarrow p(\\mathbf v_{k}|\\mathbf h_{k-1})\\Rightarrow \\mathbf v_k$$       \n",
    "    \n",
    "<h3>Contrastive Divergence (CD-k)</h3>\n",
    "The update of the weight matrix is done during the Contrastive Divergence step. \n",
    "\n",
    "Vectors v0 and vk are used to calculate the activation probabilities for hidden values h0 and hk. The difference between the outer products of those probabilities with input vectors v0 and vk results in the update matrix:\n",
    "\n",
    "\n",
    "$$\\Delta \\mathbf W_k =\\mathbf v_k \\otimes \\mathbf h_k - \\mathbf v_{k-1} \\otimes \\mathbf h_{k-1}$$\n",
    "\n",
    "Contrastive Divergence is actually matrix of values that is computed and used to adjust values of the $\\mathbf W$ matrix. Changing $\\mathbf W$ incrementally leads to training of the  $\\mathbf W$ values. Then, on each step (epoch), $\\mathbf W$ is updated using the following:\n",
    "\n",
    "$$\\mathbf W_k = \\mathbf W_{k-1} + \\alpha * \\Delta \\mathbf W_k$$\n",
    "\n",
    "\n",
    "\n",
    "Reconstruction steps:\n",
    "<ul>\n",
    "    <li> Get one data point from data set, like <i>x</i>, and pass it through the following steps:</li>\n",
    "    \n",
    "<b>Iteration</b> $k=1$: \n",
    "    \n",
    "Sampling (starting with input image)\n",
    "    $$\\mathbf x = \\mathbf v_0 \\Rightarrow p(\\mathbf h_0|\\mathbf v_0)\\Rightarrow \\mathbf h_0 \\Rightarrow p(\\mathbf v_1|\\mathbf h_0)\\Rightarrow \\mathbf v_1$$   \n",
    "    followed by the CD-k step\n",
    "$$\\Delta \\mathbf W_1 =\\mathbf v_1 \\otimes \\mathbf h_1 - \\mathbf v_{0} \\otimes \\mathbf h_{0}$$     \n",
    "$$\\mathbf W_1 = \\mathbf W_{0} + \\alpha * \\Delta \\mathbf W_1$$ \n",
    " \n",
    "<li> $\\mathbf v_1$ is the reconstruction of $\\mathbf x$ sent to the next iteration).</li>\n",
    "\n",
    "<b>Iteration</b> $k=2$: \n",
    "\n",
    "Sampling (starting with $\\mathbf v_1$)\n",
    "\n",
    "$$\\mathbf v_1 \\Rightarrow p(\\mathbf h_1|\\mathbf v_1)\\Rightarrow \\mathbf h_1\\Rightarrow p(\\mathbf v_2|\\mathbf h_1)\\Rightarrow \\mathbf v_2$$   \n",
    "\n",
    "followed by the CD-k step\n",
    "$$\\Delta \\mathbf W_2 =\\mathbf v_2 \\otimes \\mathbf h_2 - \\mathbf v_{1} \\otimes \\mathbf h_{1}$$     \n",
    "$$\\mathbf W_2 = \\mathbf W_{1} + \\alpha * \\Delta \\mathbf W_2$$ \n",
    "\n",
    "<li> $\\mathbf v_2$ is the reconstruction of $\\mathbf v_1$ sent to the next iteration).</li>    \n",
    "      \n",
    "<b>Iteration</b> $k=K$:\n",
    "    \n",
    "Sampling (starting with $\\mathbf v_{K-1}$)\n",
    "\n",
    "$$\\mathbf v_{K-1} \\Rightarrow p(\\mathbf h_{K-1}|\\mathbf v_{K-1})\\Rightarrow \\mathbf h_{K-1}\\Rightarrow p(\\mathbf v_K|\\mathbf h_{K-1})\\Rightarrow \\mathbf v_K$$   \n",
    "\n",
    "followed by the CD-k step\n",
    "$$\\Delta \\mathbf W_K =\\mathbf v_K \\otimes \\mathbf h_K - \\mathbf v_{K-1} \\otimes \\mathbf h_{K-1}$$     \n",
    "$$\\mathbf W_K = \\mathbf W_{K-1} + \\alpha * \\Delta \\mathbf W_K$$ \n",
    "    \n",
    "<b>What is $\\alpha$?</b>  \n",
    "Here, alpha is some small step size, and is also known as the \"learning rate\".\n"
   ]
  },
  {
   "cell_type": "markdown",
   "metadata": {},
   "source": [
    "$K$ is adjustable, and good performance can be achieved with $K=1$, so that we just take one set of sampling steps per image.\n"
   ]
  },
  {
   "cell_type": "code",
   "execution_count": 15,
   "metadata": {},
   "outputs": [],
   "source": [
    "h1_prob = tf.nn.sigmoid(tf.matmul([v1_state], W) + hb)\n",
    "h1_state = tf.nn.relu(tf.sign(h1_prob - tf.random.uniform(tf.shape(h1_prob)))) #sample_h_given_X"
   ]
  },
  {
   "cell_type": "markdown",
   "metadata": {},
   "source": [
    "Lets look at the error of the first run:\n"
   ]
  },
  {
   "cell_type": "code",
   "execution_count": 16,
   "metadata": {},
   "outputs": [
    {
     "name": "stdout",
     "output_type": "stream",
     "text": [
      "error:  tf.Tensor(0.49744898, shape=(), dtype=float32)\n"
     ]
    }
   ],
   "source": [
    "print(\"error: \", error(v0_state, v1_state))"
   ]
  },
  {
   "cell_type": "code",
   "execution_count": 17,
   "metadata": {},
   "outputs": [
    {
     "name": "stdout",
     "output_type": "stream",
     "text": [
      "Epoch: 0 batch #: 1  of 300 sample #: 199 reconstruction error: 0.165634\n",
      "Epoch: 0 batch #: 2  of 300 sample #: 199 reconstruction error: 0.222517\n",
      "Epoch: 0 batch #: 3  of 300 sample #: 199 reconstruction error: 0.115022\n",
      "Epoch: 0 batch #: 4  of 300 sample #: 199 reconstruction error: 0.120109\n",
      "Epoch: 0 batch #: 5  of 300 sample #: 199 reconstruction error: 0.107186\n",
      "Epoch: 0 batch #: 6  of 300 sample #: 199 reconstruction error: 0.178871\n",
      "Epoch: 0 batch #: 7  of 300 sample #: 199 reconstruction error: 0.101939\n",
      "Epoch: 0 batch #: 8  of 300 sample #: 199 reconstruction error: 0.117548\n",
      "Epoch: 0 batch #: 9  of 300 sample #: 199 reconstruction error: 0.099647\n",
      "Epoch: 0 batch #: 10  of 300 sample #: 199 reconstruction error: 0.158124\n",
      "Epoch: 0 batch #: 11  of 300 sample #: 199 reconstruction error: 0.085669\n",
      "Epoch: 0 batch #: 12  of 300 sample #: 199 reconstruction error: 0.139877\n",
      "Epoch: 0 batch #: 13  of 300 sample #: 199 reconstruction error: 0.061638\n",
      "Epoch: 0 batch #: 14  of 300 sample #: 199 reconstruction error: 0.092983\n",
      "Epoch: 0 batch #: 15  of 300 sample #: 199 reconstruction error: 0.119809\n",
      "Epoch: 0 batch #: 16  of 300 sample #: 199 reconstruction error: 0.104701\n",
      "Epoch: 0 batch #: 17  of 300 sample #: 199 reconstruction error: 0.066284\n",
      "Epoch: 0 batch #: 18  of 300 sample #: 199 reconstruction error: 0.110761\n",
      "Epoch: 0 batch #: 19  of 300 sample #: 199 reconstruction error: 0.152270\n",
      "Epoch: 0 batch #: 20  of 300 sample #: 199 reconstruction error: 0.100020\n",
      "Epoch: 0 batch #: 21  of 300 sample #: 199 reconstruction error: 0.088798\n",
      "Epoch: 0 batch #: 22  of 300 sample #: 199 reconstruction error: 0.074858\n",
      "Epoch: 0 batch #: 23  of 300 sample #: 199 reconstruction error: 0.097054\n",
      "Epoch: 0 batch #: 24  of 300 sample #: 199 reconstruction error: 0.129476\n",
      "Epoch: 0 batch #: 25  of 300 sample #: 199 reconstruction error: 0.078326\n",
      "Epoch: 0 batch #: 26  of 300 sample #: 199 reconstruction error: 0.096441\n",
      "Epoch: 0 batch #: 27  of 300 sample #: 199 reconstruction error: 0.104121\n",
      "Epoch: 0 batch #: 28  of 300 sample #: 199 reconstruction error: 0.074797\n",
      "Epoch: 0 batch #: 29  of 300 sample #: 199 reconstruction error: 0.090807\n",
      "Epoch: 0 batch #: 30  of 300 sample #: 199 reconstruction error: 0.071431\n",
      "Epoch: 0 batch #: 31  of 300 sample #: 199 reconstruction error: 0.101888\n",
      "Epoch: 0 batch #: 32  of 300 sample #: 199 reconstruction error: 0.110475\n",
      "Epoch: 0 batch #: 33  of 300 sample #: 199 reconstruction error: 0.056516\n",
      "Epoch: 0 batch #: 34  of 300 sample #: 199 reconstruction error: 0.077396\n",
      "Epoch: 0 batch #: 35  of 300 sample #: 199 reconstruction error: 0.075741\n",
      "Epoch: 0 batch #: 36  of 300 sample #: 199 reconstruction error: 0.098374\n",
      "Epoch: 0 batch #: 37  of 300 sample #: 199 reconstruction error: 0.061053\n",
      "Epoch: 0 batch #: 38  of 300 sample #: 199 reconstruction error: 0.054767\n",
      "Epoch: 0 batch #: 39  of 300 sample #: 199 reconstruction error: 0.104887\n",
      "Epoch: 0 batch #: 40  of 300 sample #: 199 reconstruction error: 0.110518\n",
      "Epoch: 0 batch #: 41  of 300 sample #: 199 reconstruction error: 0.085316\n",
      "Epoch: 0 batch #: 42  of 300 sample #: 199 reconstruction error: 0.061553\n",
      "Epoch: 0 batch #: 43  of 300 sample #: 199 reconstruction error: 0.142565\n",
      "Epoch: 0 batch #: 44  of 300 sample #: 199 reconstruction error: 0.083860\n",
      "Epoch: 0 batch #: 45  of 300 sample #: 199 reconstruction error: 0.064719\n",
      "Epoch: 0 batch #: 46  of 300 sample #: 199 reconstruction error: 0.037018\n",
      "Epoch: 0 batch #: 47  of 300 sample #: 199 reconstruction error: 0.041576\n",
      "Epoch: 0 batch #: 48  of 300 sample #: 199 reconstruction error: 0.047159\n",
      "Epoch: 0 batch #: 49  of 300 sample #: 199 reconstruction error: 0.151804\n",
      "Epoch: 0 batch #: 50  of 300 sample #: 199 reconstruction error: 0.054544\n",
      "Epoch: 0 batch #: 51  of 300 sample #: 199 reconstruction error: 0.065482\n",
      "Epoch: 0 batch #: 52  of 300 sample #: 199 reconstruction error: 0.035350\n",
      "Epoch: 0 batch #: 53  of 300 sample #: 199 reconstruction error: 0.097158\n",
      "Epoch: 0 batch #: 54  of 300 sample #: 199 reconstruction error: 0.062618\n",
      "Epoch: 0 batch #: 55  of 300 sample #: 199 reconstruction error: 0.094508\n",
      "Epoch: 0 batch #: 56  of 300 sample #: 199 reconstruction error: 0.052704\n",
      "Epoch: 0 batch #: 57  of 300 sample #: 199 reconstruction error: 0.053812\n",
      "Epoch: 0 batch #: 58  of 300 sample #: 199 reconstruction error: 0.070330\n",
      "Epoch: 0 batch #: 59  of 300 sample #: 199 reconstruction error: 0.060493\n",
      "Epoch: 0 batch #: 60  of 300 sample #: 199 reconstruction error: 0.100932\n",
      "Epoch: 0 batch #: 61  of 300 sample #: 199 reconstruction error: 0.084919\n",
      "Epoch: 0 batch #: 62  of 300 sample #: 199 reconstruction error: 0.077422\n",
      "Epoch: 0 batch #: 63  of 300 sample #: 199 reconstruction error: 0.054356\n",
      "Epoch: 0 batch #: 64  of 300 sample #: 199 reconstruction error: 0.097747\n",
      "Epoch: 0 batch #: 65  of 300 sample #: 199 reconstruction error: 0.097129\n",
      "Epoch: 0 batch #: 66  of 300 sample #: 199 reconstruction error: 0.058075\n",
      "Epoch: 0 batch #: 67  of 300 sample #: 199 reconstruction error: 0.047924\n",
      "Epoch: 0 batch #: 68  of 300 sample #: 199 reconstruction error: 0.077744\n",
      "Epoch: 0 batch #: 69  of 300 sample #: 199 reconstruction error: 0.101229\n",
      "Epoch: 0 batch #: 70  of 300 sample #: 199 reconstruction error: 0.077331\n",
      "Epoch: 0 batch #: 71  of 300 sample #: 199 reconstruction error: 0.084388\n",
      "Epoch: 0 batch #: 72  of 300 sample #: 199 reconstruction error: 0.069243\n",
      "Epoch: 0 batch #: 73  of 300 sample #: 199 reconstruction error: 0.086073\n",
      "Epoch: 0 batch #: 74  of 300 sample #: 199 reconstruction error: 0.089422\n",
      "Epoch: 0 batch #: 75  of 300 sample #: 199 reconstruction error: 0.055541\n",
      "Epoch: 0 batch #: 76  of 300 sample #: 199 reconstruction error: 0.068257\n",
      "Epoch: 0 batch #: 77  of 300 sample #: 199 reconstruction error: 0.095962\n",
      "Epoch: 0 batch #: 78  of 300 sample #: 199 reconstruction error: 0.103064\n",
      "Epoch: 0 batch #: 79  of 300 sample #: 199 reconstruction error: 0.127039\n",
      "Epoch: 0 batch #: 80  of 300 sample #: 199 reconstruction error: 0.034007\n",
      "Epoch: 0 batch #: 81  of 300 sample #: 199 reconstruction error: 0.060848\n",
      "Epoch: 0 batch #: 82  of 300 sample #: 199 reconstruction error: 0.034838\n",
      "Epoch: 0 batch #: 83  of 300 sample #: 199 reconstruction error: 0.075284\n",
      "Epoch: 0 batch #: 84  of 300 sample #: 199 reconstruction error: 0.087086\n",
      "Epoch: 0 batch #: 85  of 300 sample #: 199 reconstruction error: 0.040726\n",
      "Epoch: 0 batch #: 86  of 300 sample #: 199 reconstruction error: 0.085439\n",
      "Epoch: 0 batch #: 87  of 300 sample #: 199 reconstruction error: 0.090816\n",
      "Epoch: 0 batch #: 88  of 300 sample #: 199 reconstruction error: 0.024995\n",
      "Epoch: 0 batch #: 89  of 300 sample #: 199 reconstruction error: 0.057117\n",
      "Epoch: 0 batch #: 90  of 300 sample #: 199 reconstruction error: 0.073374\n",
      "Epoch: 0 batch #: 91  of 300 sample #: 199 reconstruction error: 0.058350\n",
      "Epoch: 0 batch #: 92  of 300 sample #: 199 reconstruction error: 0.048532\n",
      "Epoch: 0 batch #: 93  of 300 sample #: 199 reconstruction error: 0.115322\n",
      "Epoch: 0 batch #: 94  of 300 sample #: 199 reconstruction error: 0.119257\n",
      "Epoch: 0 batch #: 95  of 300 sample #: 199 reconstruction error: 0.057117\n",
      "Epoch: 0 batch #: 96  of 300 sample #: 199 reconstruction error: 0.044872\n",
      "Epoch: 0 batch #: 97  of 300 sample #: 199 reconstruction error: 0.114839\n",
      "Epoch: 0 batch #: 98  of 300 sample #: 199 reconstruction error: 0.101514\n",
      "Epoch: 0 batch #: 99  of 300 sample #: 199 reconstruction error: 0.058431\n",
      "Epoch: 0 batch #: 100  of 300 sample #: 199 reconstruction error: 0.107117\n",
      "Epoch: 0 batch #: 101  of 300 sample #: 199 reconstruction error: 0.080540\n",
      "Epoch: 0 batch #: 102  of 300 sample #: 199 reconstruction error: 0.084758\n",
      "Epoch: 0 batch #: 103  of 300 sample #: 199 reconstruction error: 0.070186\n",
      "Epoch: 0 batch #: 104  of 300 sample #: 199 reconstruction error: 0.057247\n",
      "Epoch: 0 batch #: 105  of 300 sample #: 199 reconstruction error: 0.068294\n",
      "Epoch: 0 batch #: 106  of 300 sample #: 199 reconstruction error: 0.117256\n",
      "Epoch: 0 batch #: 107  of 300 sample #: 199 reconstruction error: 0.145151\n",
      "Epoch: 0 batch #: 108  of 300 sample #: 199 reconstruction error: 0.061694\n",
      "Epoch: 0 batch #: 109  of 300 sample #: 199 reconstruction error: 0.120849\n",
      "Epoch: 0 batch #: 110  of 300 sample #: 199 reconstruction error: 0.068195\n",
      "Epoch: 0 batch #: 111  of 300 sample #: 199 reconstruction error: 0.117834\n",
      "Epoch: 0 batch #: 112  of 300 sample #: 199 reconstruction error: 0.049289\n",
      "Epoch: 0 batch #: 113  of 300 sample #: 199 reconstruction error: 0.089925\n",
      "Epoch: 0 batch #: 114  of 300 sample #: 199 reconstruction error: 0.068617\n",
      "Epoch: 0 batch #: 115  of 300 sample #: 199 reconstruction error: 0.066914\n",
      "Epoch: 0 batch #: 116  of 300 sample #: 199 reconstruction error: 0.064496\n",
      "Epoch: 0 batch #: 117  of 300 sample #: 199 reconstruction error: 0.046779\n",
      "Epoch: 0 batch #: 118  of 300 sample #: 199 reconstruction error: 0.075081\n",
      "Epoch: 0 batch #: 119  of 300 sample #: 199 reconstruction error: 0.117541\n",
      "Epoch: 0 batch #: 120  of 300 sample #: 199 reconstruction error: 0.083909\n",
      "Epoch: 0 batch #: 121  of 300 sample #: 199 reconstruction error: 0.037060\n",
      "Epoch: 0 batch #: 122  of 300 sample #: 199 reconstruction error: 0.107005\n",
      "Epoch: 0 batch #: 123  of 300 sample #: 199 reconstruction error: 0.076458\n",
      "Epoch: 0 batch #: 124  of 300 sample #: 199 reconstruction error: 0.075260\n",
      "Epoch: 0 batch #: 125  of 300 sample #: 199 reconstruction error: 0.053780\n",
      "Epoch: 0 batch #: 126  of 300 sample #: 199 reconstruction error: 0.070611\n",
      "Epoch: 0 batch #: 127  of 300 sample #: 199 reconstruction error: 0.081566\n",
      "Epoch: 0 batch #: 128  of 300 sample #: 199 reconstruction error: 0.070638\n",
      "Epoch: 0 batch #: 129  of 300 sample #: 199 reconstruction error: 0.059884\n",
      "Epoch: 0 batch #: 130  of 300 sample #: 199 reconstruction error: 0.068601\n",
      "Epoch: 0 batch #: 131  of 300 sample #: 199 reconstruction error: 0.065298\n",
      "Epoch: 0 batch #: 132  of 300 sample #: 199 reconstruction error: 0.047636\n",
      "Epoch: 0 batch #: 133  of 300 sample #: 199 reconstruction error: 0.058561\n",
      "Epoch: 0 batch #: 134  of 300 sample #: 199 reconstruction error: 0.120527\n",
      "Epoch: 0 batch #: 135  of 300 sample #: 199 reconstruction error: 0.083914\n",
      "Epoch: 0 batch #: 136  of 300 sample #: 199 reconstruction error: 0.108872\n",
      "Epoch: 0 batch #: 137  of 300 sample #: 199 reconstruction error: 0.053650\n",
      "Epoch: 0 batch #: 138  of 300 sample #: 199 reconstruction error: 0.057216\n",
      "Epoch: 0 batch #: 139  of 300 sample #: 199 reconstruction error: 0.110420\n",
      "Epoch: 0 batch #: 140  of 300 sample #: 199 reconstruction error: 0.093723\n",
      "Epoch: 0 batch #: 141  of 300 sample #: 199 reconstruction error: 0.088027\n",
      "Epoch: 0 batch #: 142  of 300 sample #: 199 reconstruction error: 0.065993\n",
      "Epoch: 0 batch #: 143  of 300 sample #: 199 reconstruction error: 0.044412\n",
      "Epoch: 0 batch #: 144  of 300 sample #: 199 reconstruction error: 0.065237\n",
      "Epoch: 0 batch #: 145  of 300 sample #: 199 reconstruction error: 0.088865\n",
      "Epoch: 0 batch #: 146  of 300 sample #: 199 reconstruction error: 0.111468\n",
      "Epoch: 0 batch #: 147  of 300 sample #: 199 reconstruction error: 0.077818\n",
      "Epoch: 0 batch #: 148  of 300 sample #: 199 reconstruction error: 0.087114\n",
      "Epoch: 0 batch #: 149  of 300 sample #: 199 reconstruction error: 0.047929\n",
      "Epoch: 0 batch #: 150  of 300 sample #: 199 reconstruction error: 0.051248\n",
      "Epoch: 0 batch #: 151  of 300 sample #: 199 reconstruction error: 0.118146\n",
      "Epoch: 0 batch #: 152  of 300 sample #: 199 reconstruction error: 0.104813\n",
      "Epoch: 0 batch #: 153  of 300 sample #: 199 reconstruction error: 0.078985\n",
      "Epoch: 0 batch #: 154  of 300 sample #: 199 reconstruction error: 0.062913\n",
      "Epoch: 0 batch #: 155  of 300 sample #: 199 reconstruction error: 0.066559\n",
      "Epoch: 0 batch #: 156  of 300 sample #: 199 reconstruction error: 0.076677\n",
      "Epoch: 0 batch #: 157  of 300 sample #: 199 reconstruction error: 0.112882\n",
      "Epoch: 0 batch #: 158  of 300 sample #: 199 reconstruction error: 0.044639\n",
      "Epoch: 0 batch #: 159  of 300 sample #: 199 reconstruction error: 0.055430\n",
      "Epoch: 0 batch #: 160  of 300 sample #: 199 reconstruction error: 0.076610\n",
      "Epoch: 0 batch #: 161  of 300 sample #: 199 reconstruction error: 0.077858\n",
      "Epoch: 0 batch #: 162  of 300 sample #: 199 reconstruction error: 0.107086\n",
      "Epoch: 0 batch #: 163  of 300 sample #: 199 reconstruction error: 0.050331\n",
      "Epoch: 0 batch #: 164  of 300 sample #: 199 reconstruction error: 0.068176\n",
      "Epoch: 0 batch #: 165  of 300 sample #: 199 reconstruction error: 0.082801\n",
      "Epoch: 0 batch #: 166  of 300 sample #: 199 reconstruction error: 0.059865\n",
      "Epoch: 0 batch #: 167  of 300 sample #: 199 reconstruction error: 0.083158\n",
      "Epoch: 0 batch #: 168  of 300 sample #: 199 reconstruction error: 0.055069\n",
      "Epoch: 0 batch #: 169  of 300 sample #: 199 reconstruction error: 0.044939\n",
      "Epoch: 0 batch #: 170  of 300 sample #: 199 reconstruction error: 0.046709\n",
      "Epoch: 0 batch #: 171  of 300 sample #: 199 reconstruction error: 0.030551\n",
      "Epoch: 0 batch #: 172  of 300 sample #: 199 reconstruction error: 0.041993\n",
      "Epoch: 0 batch #: 173  of 300 sample #: 199 reconstruction error: 0.089265\n",
      "Epoch: 0 batch #: 174  of 300 sample #: 199 reconstruction error: 0.107108\n",
      "Epoch: 0 batch #: 175  of 300 sample #: 199 reconstruction error: 0.080541\n",
      "Epoch: 0 batch #: 176  of 300 sample #: 199 reconstruction error: 0.041855\n",
      "Epoch: 0 batch #: 177  of 300 sample #: 199 reconstruction error: 0.029429\n",
      "Epoch: 0 batch #: 178  of 300 sample #: 199 reconstruction error: 0.103759\n",
      "Epoch: 0 batch #: 179  of 300 sample #: 199 reconstruction error: 0.075144\n",
      "Epoch: 0 batch #: 180  of 300 sample #: 199 reconstruction error: 0.078609\n",
      "Epoch: 0 batch #: 181  of 300 sample #: 199 reconstruction error: 0.092231\n",
      "Epoch: 0 batch #: 182  of 300 sample #: 199 reconstruction error: 0.073955\n",
      "Epoch: 0 batch #: 183  of 300 sample #: 199 reconstruction error: 0.105002\n",
      "Epoch: 0 batch #: 184  of 300 sample #: 199 reconstruction error: 0.064633\n",
      "Epoch: 0 batch #: 185  of 300 sample #: 199 reconstruction error: 0.073769\n",
      "Epoch: 0 batch #: 186  of 300 sample #: 199 reconstruction error: 0.121251\n",
      "Epoch: 0 batch #: 187  of 300 sample #: 199 reconstruction error: 0.060154\n",
      "Epoch: 0 batch #: 188  of 300 sample #: 199 reconstruction error: 0.095739\n",
      "Epoch: 0 batch #: 189  of 300 sample #: 199 reconstruction error: 0.076376\n",
      "Epoch: 0 batch #: 190  of 300 sample #: 199 reconstruction error: 0.066134\n",
      "Epoch: 0 batch #: 191  of 300 sample #: 199 reconstruction error: 0.110890\n",
      "Epoch: 0 batch #: 192  of 300 sample #: 199 reconstruction error: 0.110400\n",
      "Epoch: 0 batch #: 193  of 300 sample #: 199 reconstruction error: 0.108021\n",
      "Epoch: 0 batch #: 194  of 300 sample #: 199 reconstruction error: 0.080970\n",
      "Epoch: 0 batch #: 195  of 300 sample #: 199 reconstruction error: 0.056122\n",
      "Epoch: 0 batch #: 196  of 300 sample #: 199 reconstruction error: 0.053501\n",
      "Epoch: 0 batch #: 197  of 300 sample #: 199 reconstruction error: 0.061127\n",
      "Epoch: 0 batch #: 198  of 300 sample #: 199 reconstruction error: 0.094471\n",
      "Epoch: 0 batch #: 199  of 300 sample #: 199 reconstruction error: 0.081985\n",
      "Epoch: 0 batch #: 200  of 300 sample #: 199 reconstruction error: 0.102681\n",
      "Epoch: 0 batch #: 201  of 300 sample #: 199 reconstruction error: 0.117133\n",
      "Epoch: 0 batch #: 202  of 300 sample #: 199 reconstruction error: 0.030814\n",
      "Epoch: 0 batch #: 203  of 300 sample #: 199 reconstruction error: 0.095889\n",
      "Epoch: 0 batch #: 204  of 300 sample #: 199 reconstruction error: 0.067101\n",
      "Epoch: 0 batch #: 205  of 300 sample #: 199 reconstruction error: 0.028083\n",
      "Epoch: 0 batch #: 206  of 300 sample #: 199 reconstruction error: 0.070480\n",
      "Epoch: 0 batch #: 207  of 300 sample #: 199 reconstruction error: 0.086550\n",
      "Epoch: 0 batch #: 208  of 300 sample #: 199 reconstruction error: 0.047887\n",
      "Epoch: 0 batch #: 209  of 300 sample #: 199 reconstruction error: 0.028595\n",
      "Epoch: 0 batch #: 210  of 300 sample #: 199 reconstruction error: 0.121411\n",
      "Epoch: 0 batch #: 211  of 300 sample #: 199 reconstruction error: 0.092384\n",
      "Epoch: 0 batch #: 212  of 300 sample #: 199 reconstruction error: 0.094326\n",
      "Epoch: 0 batch #: 213  of 300 sample #: 199 reconstruction error: 0.098347\n",
      "Epoch: 0 batch #: 214  of 300 sample #: 199 reconstruction error: 0.097037\n",
      "Epoch: 0 batch #: 215  of 300 sample #: 199 reconstruction error: 0.026176\n",
      "Epoch: 0 batch #: 216  of 300 sample #: 199 reconstruction error: 0.110116\n",
      "Epoch: 0 batch #: 217  of 300 sample #: 199 reconstruction error: 0.090690\n",
      "Epoch: 0 batch #: 218  of 300 sample #: 199 reconstruction error: 0.077860\n",
      "Epoch: 0 batch #: 219  of 300 sample #: 199 reconstruction error: 0.084476\n",
      "Epoch: 0 batch #: 220  of 300 sample #: 199 reconstruction error: 0.058465\n",
      "Epoch: 0 batch #: 221  of 300 sample #: 199 reconstruction error: 0.084972\n",
      "Epoch: 0 batch #: 222  of 300 sample #: 199 reconstruction error: 0.100742\n",
      "Epoch: 0 batch #: 223  of 300 sample #: 199 reconstruction error: 0.062799\n",
      "Epoch: 0 batch #: 224  of 300 sample #: 199 reconstruction error: 0.068273\n",
      "Epoch: 0 batch #: 225  of 300 sample #: 199 reconstruction error: 0.079732\n",
      "Epoch: 0 batch #: 226  of 300 sample #: 199 reconstruction error: 0.116348\n",
      "Epoch: 0 batch #: 227  of 300 sample #: 199 reconstruction error: 0.083298\n",
      "Epoch: 0 batch #: 228  of 300 sample #: 199 reconstruction error: 0.070887\n",
      "Epoch: 0 batch #: 229  of 300 sample #: 199 reconstruction error: 0.084318\n",
      "Epoch: 0 batch #: 230  of 300 sample #: 199 reconstruction error: 0.038780\n",
      "Epoch: 0 batch #: 231  of 300 sample #: 199 reconstruction error: 0.022183\n",
      "Epoch: 0 batch #: 232  of 300 sample #: 199 reconstruction error: 0.073795\n",
      "Epoch: 0 batch #: 233  of 300 sample #: 199 reconstruction error: 0.070945\n",
      "Epoch: 0 batch #: 234  of 300 sample #: 199 reconstruction error: 0.071214\n",
      "Epoch: 0 batch #: 235  of 300 sample #: 199 reconstruction error: 0.062947\n",
      "Epoch: 0 batch #: 236  of 300 sample #: 199 reconstruction error: 0.092608\n",
      "Epoch: 0 batch #: 237  of 300 sample #: 199 reconstruction error: 0.074848\n",
      "Epoch: 0 batch #: 238  of 300 sample #: 199 reconstruction error: 0.110484\n",
      "Epoch: 0 batch #: 239  of 300 sample #: 199 reconstruction error: 0.041511\n",
      "Epoch: 0 batch #: 240  of 300 sample #: 199 reconstruction error: 0.104414\n",
      "Epoch: 0 batch #: 241  of 300 sample #: 199 reconstruction error: 0.063823\n",
      "Epoch: 0 batch #: 242  of 300 sample #: 199 reconstruction error: 0.064403\n",
      "Epoch: 0 batch #: 243  of 300 sample #: 199 reconstruction error: 0.060756\n",
      "Epoch: 0 batch #: 244  of 300 sample #: 199 reconstruction error: 0.064677\n",
      "Epoch: 0 batch #: 245  of 300 sample #: 199 reconstruction error: 0.073858\n",
      "Epoch: 0 batch #: 246  of 300 sample #: 199 reconstruction error: 0.084453\n",
      "Epoch: 0 batch #: 247  of 300 sample #: 199 reconstruction error: 0.051222\n",
      "Epoch: 0 batch #: 248  of 300 sample #: 199 reconstruction error: 0.084609\n",
      "Epoch: 0 batch #: 249  of 300 sample #: 199 reconstruction error: 0.041569\n",
      "Epoch: 0 batch #: 250  of 300 sample #: 199 reconstruction error: 0.101852\n",
      "Epoch: 0 batch #: 251  of 300 sample #: 199 reconstruction error: 0.052368\n",
      "Epoch: 0 batch #: 252  of 300 sample #: 199 reconstruction error: 0.064500\n",
      "Epoch: 0 batch #: 253  of 300 sample #: 199 reconstruction error: 0.071571\n",
      "Epoch: 0 batch #: 254  of 300 sample #: 199 reconstruction error: 0.037281\n",
      "Epoch: 0 batch #: 255  of 300 sample #: 199 reconstruction error: 0.054412\n",
      "Epoch: 0 batch #: 256  of 300 sample #: 199 reconstruction error: 0.066020\n",
      "Epoch: 0 batch #: 257  of 300 sample #: 199 reconstruction error: 0.086542\n",
      "Epoch: 0 batch #: 258  of 300 sample #: 199 reconstruction error: 0.066995\n",
      "Epoch: 0 batch #: 259  of 300 sample #: 199 reconstruction error: 0.076874\n",
      "Epoch: 0 batch #: 260  of 300 sample #: 199 reconstruction error: 0.102845\n",
      "Epoch: 0 batch #: 261  of 300 sample #: 199 reconstruction error: 0.030921\n",
      "Epoch: 0 batch #: 262  of 300 sample #: 199 reconstruction error: 0.039913\n",
      "Epoch: 0 batch #: 263  of 300 sample #: 199 reconstruction error: 0.068258\n",
      "Epoch: 0 batch #: 264  of 300 sample #: 199 reconstruction error: 0.074280\n",
      "Epoch: 0 batch #: 265  of 300 sample #: 199 reconstruction error: 0.064346\n",
      "Epoch: 0 batch #: 266  of 300 sample #: 199 reconstruction error: 0.041256\n",
      "Epoch: 0 batch #: 267  of 300 sample #: 199 reconstruction error: 0.050634\n",
      "Epoch: 0 batch #: 268  of 300 sample #: 199 reconstruction error: 0.025475\n",
      "Epoch: 0 batch #: 269  of 300 sample #: 199 reconstruction error: 0.100258\n",
      "Epoch: 0 batch #: 270  of 300 sample #: 199 reconstruction error: 0.066020\n",
      "Epoch: 0 batch #: 271  of 300 sample #: 199 reconstruction error: 0.054502\n",
      "Epoch: 0 batch #: 272  of 300 sample #: 199 reconstruction error: 0.061686\n",
      "Epoch: 0 batch #: 273  of 300 sample #: 199 reconstruction error: 0.048380\n",
      "Epoch: 0 batch #: 274  of 300 sample #: 199 reconstruction error: 0.055527\n",
      "Epoch: 0 batch #: 275  of 300 sample #: 199 reconstruction error: 0.107354\n",
      "Epoch: 0 batch #: 276  of 300 sample #: 199 reconstruction error: 0.084016\n",
      "Epoch: 0 batch #: 277  of 300 sample #: 199 reconstruction error: 0.071453\n",
      "Epoch: 0 batch #: 278  of 300 sample #: 199 reconstruction error: 0.064627\n",
      "Epoch: 0 batch #: 279  of 300 sample #: 199 reconstruction error: 0.045358\n",
      "Epoch: 0 batch #: 280  of 300 sample #: 199 reconstruction error: 0.081706\n",
      "Epoch: 0 batch #: 281  of 300 sample #: 199 reconstruction error: 0.096103\n",
      "Epoch: 0 batch #: 282  of 300 sample #: 199 reconstruction error: 0.115710\n",
      "Epoch: 0 batch #: 283  of 300 sample #: 199 reconstruction error: 0.047977\n",
      "Epoch: 0 batch #: 284  of 300 sample #: 199 reconstruction error: 0.043650\n",
      "Epoch: 0 batch #: 285  of 300 sample #: 199 reconstruction error: 0.070353\n",
      "Epoch: 0 batch #: 286  of 300 sample #: 199 reconstruction error: 0.079492\n",
      "Epoch: 0 batch #: 287  of 300 sample #: 199 reconstruction error: 0.067133\n",
      "Epoch: 0 batch #: 288  of 300 sample #: 199 reconstruction error: 0.023506\n",
      "Epoch: 0 batch #: 289  of 300 sample #: 199 reconstruction error: 0.106405\n",
      "Epoch: 0 batch #: 290  of 300 sample #: 199 reconstruction error: 0.098159\n",
      "Epoch: 0 batch #: 291  of 300 sample #: 199 reconstruction error: 0.113745\n",
      "Epoch: 0 batch #: 292  of 300 sample #: 199 reconstruction error: 0.067121\n",
      "Epoch: 0 batch #: 293  of 300 sample #: 199 reconstruction error: 0.058356\n",
      "Epoch: 0 batch #: 294  of 300 sample #: 199 reconstruction error: 0.100133\n",
      "Epoch: 0 batch #: 295  of 300 sample #: 199 reconstruction error: 0.061612\n",
      "Epoch: 0 batch #: 296  of 300 sample #: 199 reconstruction error: 0.031420\n",
      "Epoch: 0 batch #: 297  of 300 sample #: 199 reconstruction error: 0.098214\n",
      "Epoch: 0 batch #: 298  of 300 sample #: 199 reconstruction error: 0.044369\n",
      "Epoch: 0 batch #: 299  of 300 sample #: 199 reconstruction error: 0.046469\n",
      "Epoch: 0 batch #: 300  of 300 sample #: 199 reconstruction error: 0.080344\n"
     ]
    }
   ],
   "source": [
    "#Parameters\n",
    "alpha = 0.01\n",
    "epochs = 1\n",
    "batchsize = 200\n",
    "weights = []\n",
    "errors = []\n",
    "batch_number = 0\n",
    "K = 1\n",
    "\n",
    "#creating datasets\n",
    "train_ds = \\\n",
    "    tf.data.Dataset.from_tensor_slices((trX, trY)).batch(batchsize)\n",
    "\n",
    "for epoch in range(epochs):\n",
    "    for batch_x, batch_y in train_ds:\n",
    "        batch_number += 1\n",
    "        for i_sample in range(batchsize):           \n",
    "            for k in range(K):\n",
    "                v0_state = batch_x[i_sample]\n",
    "                h0_state = hidden_layer(v0_state, W, hb)\n",
    "                v1_state = reconstructed_output(h0_state, W, vb)\n",
    "                h1_state = hidden_layer(v1_state, W, hb)\n",
    "\n",
    "                delta_W = tf.matmul(tf.transpose([v0_state]), h0_state) - tf.matmul(tf.transpose([v1_state]), h1_state)\n",
    "                W = W + alpha * delta_W\n",
    "\n",
    "                vb = vb + alpha * tf.reduce_mean(v0_state - v1_state, 0)\n",
    "                hb = hb + alpha * tf.reduce_mean(h0_state - h1_state, 0) \n",
    "\n",
    "                v0_state = v1_state\n",
    "\n",
    "            if i_sample == batchsize-1:\n",
    "                err = error(batch_x[i_sample], v1_state)\n",
    "                errors.append(err)\n",
    "                weights.append(W)\n",
    "                print ( 'Epoch: %d' % epoch, \n",
    "                       \"batch #: %i \" % batch_number, \"of %i\" % int(60e3/batchsize), \n",
    "                       \"sample #: %i\" % i_sample,\n",
    "                       'reconstruction error: %f' % err)\n",
    "\n"
   ]
  },
  {
   "cell_type": "markdown",
   "metadata": {},
   "source": [
    "Let's take a look at the errors at the end of each batch:\n"
   ]
  },
  {
   "cell_type": "code",
   "execution_count": 18,
   "metadata": {},
   "outputs": [
    {
     "data": {
      "image/png": "[encoded data removed]",
      "text/plain": [
       "<Figure size 640x480 with 1 Axes>"
      ]
     },
     "metadata": {},
     "output_type": "display_data"
    }
   ],
   "source": [
    "plt.plot(errors)\n",
    "plt.xlabel(\"Batch Number\")\n",
    "plt.ylabel(\"Error\")\n",
    "plt.show()"
   ]
  },
  {
   "cell_type": "markdown",
   "metadata": {},
   "source": [
    "What is the final weight matrix $W$ after training?\n"
   ]
  },
  {
   "cell_type": "code",
   "execution_count": 19,
   "metadata": {},
   "outputs": [
    {
     "name": "stdout",
     "output_type": "stream",
     "text": [
      "[[-0.30999997 -0.27       -0.3899999  ... -0.69999963 -0.18\n",
      "  -0.3899999 ]\n",
      " [-0.27       -0.21000002 -0.33999994 ... -0.7199996  -0.17\n",
      "  -0.4799998 ]\n",
      " [-0.26000002 -0.23000003 -0.32999995 ... -0.68999964 -0.14999999\n",
      "  -0.46999982]\n",
      " ...\n",
      " [-0.23000003 -0.22000003 -0.31999996 ... -0.7399996  -0.21000002\n",
      "  -0.43999985]\n",
      " [-0.17       -0.29999998 -0.32999995 ... -0.66999966 -0.21000002\n",
      "  -0.3999999 ]\n",
      " [-0.27       -0.25000003 -0.33999994 ... -0.7399996  -0.16\n",
      "  -0.46999982]]\n"
     ]
    }
   ],
   "source": [
    "print(W.numpy()) # a weight matrix of shape (50,784)"
   ]
  },
  {
   "cell_type": "markdown",
   "metadata": {},
   "source": [
    "<a id=\"ref5\"></a>\n",
    "<h3>Learned features</h3> \n"
   ]
  },
  {
   "cell_type": "markdown",
   "metadata": {},
   "source": [
    "We can take each hidden unit and visualize the connections between that hidden unit and each element in the input vector. In our case, we have 50 hidden units. Lets visualize those.\n"
   ]
  },
  {
   "cell_type": "markdown",
   "metadata": {},
   "source": [
    "Let's plot the current weights:\n",
    "<b>tile_raster_images</b> helps in generating an easy to grasp image from a set of samples or weights. It transforms the <b>uw</b> (with one flattened image per row of size 784), into an array (of size $28\\times28$) in which images are reshaped and laid out like tiles on a floor.\n"
   ]
  },
  {
   "cell_type": "code",
   "execution_count": 20,
   "metadata": {},
   "outputs": [
    {
     "data": {
      "image/png": "[encoded data removed]",
      "text/plain": [
       "<Figure size 1800x1800 with 1 Axes>"
      ]
     },
     "metadata": {},
     "output_type": "display_data"
    }
   ],
   "source": [
    "tile_raster_images(X=W.numpy().T, img_shape=(28, 28), tile_shape=(5, 10), tile_spacing=(1, 1))\n",
    "import matplotlib.pyplot as plt\n",
    "from PIL import Image\n",
    "%matplotlib inline\n",
    "image = Image.fromarray(tile_raster_images(X=W.numpy().T, img_shape=(28, 28) ,tile_shape=(5, 10), tile_spacing=(1, 1)))\n",
    "### Plot image\n",
    "plt.rcParams['figure.figsize'] = (18.0, 18.0)\n",
    "imgplot = plt.imshow(image)\n",
    "imgplot.set_cmap('gray')  "
   ]
  },
  {
   "cell_type": "markdown",
   "metadata": {},
   "source": [
    "Each tile in the above visualization corresponds to a vector of connections between a hidden unit and visible layer's units. \n"
   ]
  },
  {
   "cell_type": "markdown",
   "metadata": {},
   "source": [
    "Let's look at one of the learned weights corresponding to one of hidden units for example. In this particular square, the gray color represents weight = 0, and the whiter it is, the more positive the weights are (closer to 1). Conversely, the darker pixels are, the more negative the weights. The positive pixels will increase the probability of activation in hidden units (after multiplying by input/visible pixels), and negative pixels will decrease the probability of a unit hidden to be 1 (activated). So, why is this important?  So we can see that this specific square (hidden unit) can detect a feature (e.g. a \"/\" shape) and if it exists in the input.\n"
   ]
  },
  {
   "cell_type": "code",
   "execution_count": 21,
   "metadata": {},
   "outputs": [
    {
     "data": {
      "image/png": "[encoded data removed]",
      "text/plain": [
       "<Figure size 400x400 with 1 Axes>"
      ]
     },
     "metadata": {},
     "output_type": "display_data"
    }
   ],
   "source": [
    "from PIL import Image\n",
    "image = Image.fromarray(tile_raster_images(X =W.numpy().T[10:11], img_shape=(28, 28),tile_shape=(1, 1), tile_spacing=(1, 1)))\n",
    "### Plot image\n",
    "plt.rcParams['figure.figsize'] = (4.0, 4.0)\n",
    "imgplot = plt.imshow(image)\n",
    "imgplot.set_cmap('gray')  "
   ]
  },
  {
   "cell_type": "markdown",
   "metadata": {},
   "source": [
    "Let's look at the reconstruction of an image now. Imagine that we have a destructed image of figure 3. Lets see if our trained network can fix it:\n",
    "\n",
    "First we plot the image:\n"
   ]
  },
  {
   "cell_type": "code",
   "execution_count": 22,
   "metadata": {},
   "outputs": [
    {
     "name": "stdout",
     "output_type": "stream",
     "text": [
      "--2024-06-16 18:06:26--  https://ibm.box.com/shared/static/vvm1b63uvuxq88vbw9znpwu5ol380mco.jpg\n",
      "Resolving ibm.box.com (ibm.box.com)... 74.112.186.144, 74.112.186.144\n",
      "Connecting to ibm.box.com (ibm.box.com)|74.112.186.144|:443... connected.\n",
      "HTTP request sent, awaiting response... 301 Moved Permanently\n",
      "Location: /public/static/vvm1b63uvuxq88vbw9znpwu5ol380mco.jpg [following]\n",
      "--2024-06-16 18:06:26--  https://ibm.box.com/public/static/vvm1b63uvuxq88vbw9znpwu5ol380mco.jpg\n",
      "Reusing existing connection to ibm.box.com:443.\n",
      "HTTP request sent, awaiting response... 301 Moved Permanently\n",
      "Location: https://ibm.ent.box.com/public/static/vvm1b63uvuxq88vbw9znpwu5ol380mco.jpg [following]\n",
      "--2024-06-16 18:06:26--  https://ibm.ent.box.com/public/static/vvm1b63uvuxq88vbw9znpwu5ol380mco.jpg\n",
      "Resolving ibm.ent.box.com (ibm.ent.box.com)... 74.112.186.144, 74.112.186.144\n",
      "Connecting to ibm.ent.box.com (ibm.ent.box.com)|74.112.186.144|:443... connected.\n",
      "HTTP request sent, awaiting response... 302 Found\n",
      "Location: https://public.boxcloud.com/d/1/b1!ReA2ybEtqnCthg6QoTlowCZJQUFG-qhDHynF-k6qM9QBxNzEuSX9yRBdmBNSeu01nkRFtEJIrjugrJWDhyExjxy5NOUdorD87dgcawBXHhUNGdD_cBNEiFuGBpHvMRUDZ0vRbfyRyFfgBCpUPL2dcblMSSvsnwwhuBwP-bnMN7dLsNiEvk9gnf4yEudtshRJs02X-4G4jkL2RH8_ecIplBbkujfe3HMaE8p5ySpzm5mIHxDWOlurxdNCsrjXjjr76afpMFGpodxliEaE1kwWtnekUZVeI774N3BopD2cgeZPD-T87ViWUdFLftPdiWHq0KRKu2qN9nfkJ_8r7_7lk5lWY1Kqv0oT_9n8b_6g9SmJgnx0pkF2UU3ozYTN0PXZYJLCEZZyntvcuT48uUjoJ2f0X1acegFPGl6IVedqgCrjCFLYDS0iNTfaUpMEXoHh6fWpKaTg286JsKn2KkCUuF9dwAZ0c-brU1CqmitxWMsczS2_76kzolW8kezjJHHUO4CpS46i61wdfOdOKWGo1IyfuxfL-HdKKcYG1ic3FaaH0GRLPUP_s3sNwnmkDH0HiDea5YCzF_AkiwkWv7v5giGvb7pkz8K2HXArOSLe2hUS3cF3oCmdNUDv0z2HkpZnN__CXlA8rCvJSATNmjAuHgyMjSmSRDQ1plKD14TGnGwkNCooZeWInWk_EYzW0UoKKi81PXp2rXduAGI6o6L4bvNiDGe4_wPYafNbsD73rJtGiqyVkktAfdsrNYInu-cv7MdCoRy9TaHwOvFTlyUQZCro2ZPF__5Fw3t-7QxpUh98bhgaDaS76weqlBK27l3YNWHay29RCk17hgb-ukC0OXjb3bHuZOdaHI0urHfoeMvREGsXBW84K1iwZb6xKzlCVIwkOraesrLu6YloDA1SmtzRM6_r3zKXXrao0IYq2sYAQRgz11FTFuYt4_epEGu2poGCfRS_g_TBJdBOTUgli3Z5HYqkCv2sfB0IrW5G3_d4eZoZ5ZodpCECV-_gGMptv1RMLcdpn0KsJF8ehBQTYLJMJvWB7cRQLXhdIpry20JiQxCAWP27kS9R6VPxqdAr2-vm0sPjRePsBQ-1wjpKEB4FWMxgJ-zS75MQ7wsryjhRr9xE6tQz9kX46Iq2oBiq7hxW6sd61Dmdl2FgssY9HUx-hL11htuYIVfRbHih8WUrJ51DfY22wEYa64KtqMzREdUBzPhYJxpTBmq7zfOWljCcQ2IWHAASjZGZcvVwdHJi20btPOgNQQyVkH-llWq0fbs5gQMFUNm6nHevFIMV24x9HwGxY6fX_nP7wwcmgrgkBHML9gvNwLIwQeasji1WSIWtw_vWvFQUp-V_oFuBuV77ANy3kwFp89LS8Na-ogsQVFodqXVCmmRMoyqpkiRHZcotCUtu9NHjrQ9CzkY./download [following]\n",
      "--2024-06-16 18:06:27--  https://public.boxcloud.com/d/1/b1!ReA2ybEtqnCthg6QoTlowCZJQUFG-qhDHynF-k6qM9QBxNzEuSX9yRBdmBNSeu01nkRFtEJIrjugrJWDhyExjxy5NOUdorD87dgcawBXHhUNGdD_cBNEiFuGBpHvMRUDZ0vRbfyRyFfgBCpUPL2dcblMSSvsnwwhuBwP-bnMN7dLsNiEvk9gnf4yEudtshRJs02X-4G4jkL2RH8_ecIplBbkujfe3HMaE8p5ySpzm5mIHxDWOlurxdNCsrjXjjr76afpMFGpodxliEaE1kwWtnekUZVeI774N3BopD2cgeZPD-T87ViWUdFLftPdiWHq0KRKu2qN9nfkJ_8r7_7lk5lWY1Kqv0oT_9n8b_6g9SmJgnx0pkF2UU3ozYTN0PXZYJLCEZZyntvcuT48uUjoJ2f0X1acegFPGl6IVedqgCrjCFLYDS0iNTfaUpMEXoHh6fWpKaTg286JsKn2KkCUuF9dwAZ0c-brU1CqmitxWMsczS2_76kzolW8kezjJHHUO4CpS46i61wdfOdOKWGo1IyfuxfL-HdKKcYG1ic3FaaH0GRLPUP_s3sNwnmkDH0HiDea5YCzF_AkiwkWv7v5giGvb7pkz8K2HXArOSLe2hUS3cF3oCmdNUDv0z2HkpZnN__CXlA8rCvJSATNmjAuHgyMjSmSRDQ1plKD14TGnGwkNCooZeWInWk_EYzW0UoKKi81PXp2rXduAGI6o6L4bvNiDGe4_wPYafNbsD73rJtGiqyVkktAfdsrNYInu-cv7MdCoRy9TaHwOvFTlyUQZCro2ZPF__5Fw3t-7QxpUh98bhgaDaS76weqlBK27l3YNWHay29RCk17hgb-ukC0OXjb3bHuZOdaHI0urHfoeMvREGsXBW84K1iwZb6xKzlCVIwkOraesrLu6YloDA1SmtzRM6_r3zKXXrao0IYq2sYAQRgz11FTFuYt4_epEGu2poGCfRS_g_TBJdBOTUgli3Z5HYqkCv2sfB0IrW5G3_d4eZoZ5ZodpCECV-_gGMptv1RMLcdpn0KsJF8ehBQTYLJMJvWB7cRQLXhdIpry20JiQxCAWP27kS9R6VPxqdAr2-vm0sPjRePsBQ-1wjpKEB4FWMxgJ-zS75MQ7wsryjhRr9xE6tQz9kX46Iq2oBiq7hxW6sd61Dmdl2FgssY9HUx-hL11htuYIVfRbHih8WUrJ51DfY22wEYa64KtqMzREdUBzPhYJxpTBmq7zfOWljCcQ2IWHAASjZGZcvVwdHJi20btPOgNQQyVkH-llWq0fbs5gQMFUNm6nHevFIMV24x9HwGxY6fX_nP7wwcmgrgkBHML9gvNwLIwQeasji1WSIWtw_vWvFQUp-V_oFuBuV77ANy3kwFp89LS8Na-ogsQVFodqXVCmmRMoyqpkiRHZcotCUtu9NHjrQ9CzkY./download\n",
      "Resolving public.boxcloud.com (public.boxcloud.com)... 74.112.186.130, 74.112.186.130\n",
      "Connecting to public.boxcloud.com (public.boxcloud.com)|74.112.186.130|:443... connected.\n",
      "HTTP request sent, awaiting response... 200 OK\n",
      "Length: 24383 (24K) [image/jpeg]\n",
      "Saving to: ‘destructed3.jpg’\n",
      "\n",
      "destructed3.jpg     100%[===================>]  23.81K  --.-KB/s    in 0.04s   \n",
      "\n",
      "2024-06-16 18:06:27 (601 KB/s) - ‘destructed3.jpg’ saved [24383/24383]\n",
      "\n"
     ]
    },
    {
     "data": {
      "image/png": "[encoded data removed]",
      "text/plain": [
       "<PIL.JpegImagePlugin.JpegImageFile image mode=RGB size=181x181 at 0x7F07449B3AD0>"
      ]
     },
     "execution_count": 22,
     "metadata": {},
     "output_type": "execute_result"
    }
   ],
   "source": [
    "!wget -O destructed3.jpg  https://ibm.box.com/shared/static/vvm1b63uvuxq88vbw9znpwu5ol380mco.jpg\n",
    "img = Image.open('destructed3.jpg')\n",
    "img"
   ]
  },
  {
   "cell_type": "markdown",
   "metadata": {},
   "source": [
    "Now let's pass this image through the neural net:\n"
   ]
  },
  {
   "cell_type": "code",
   "execution_count": 23,
   "metadata": {},
   "outputs": [],
   "source": [
    "# convert the image to a 1d numpy array\n",
    "sample_case = np.array(img.convert('I').resize((28,28))).ravel().reshape((1, -1))/255.0\n",
    "\n",
    "sample_case = tf.cast(sample_case, dtype=tf.float32)"
   ]
  },
  {
   "cell_type": "markdown",
   "metadata": {},
   "source": [
    "Feed the sample case into the network and reconstruct the output:\n"
   ]
  },
  {
   "cell_type": "code",
   "execution_count": 24,
   "metadata": {},
   "outputs": [
    {
     "name": "stdout",
     "output_type": "stream",
     "text": [
      "Probability nodes in hidden layer: tf.Tensor(\n",
      "[[2.3234347e-18 4.7942617e-10 9.3130159e-01 4.0528082e-08 7.1489908e-02\n",
      "  6.5547492e-06 9.9972057e-01 9.9948168e-01 3.7954527e-01 1.0000000e+00\n",
      "  7.8567576e-01 9.9998969e-01 1.0000000e+00 9.9793994e-01 1.3065137e-05\n",
      "  2.4262947e-06 9.4338975e-06 5.1841702e-17 3.4386910e-10 3.3392934e-11\n",
      "  9.3325764e-01 8.9763334e-15 9.9989140e-01 3.5347341e-15 1.4956190e-01\n",
      "  9.9925876e-01 5.4111138e-20 7.0106201e-03 1.1763511e-05 9.2863256e-10\n",
      "  5.4929045e-04 9.9999964e-01 2.8785424e-10 8.7284977e-03 1.4475917e-12\n",
      "  1.0000000e+00 2.7195465e-08 9.9543262e-01 6.3460417e-02 9.5610726e-01\n",
      "  4.6595403e-09 3.5582439e-06 4.9671239e-06 9.9999821e-01 1.2888292e-12\n",
      "  1.5161974e-13 9.9996108e-01 1.0000000e+00 5.2047727e-07 2.5285560e-01]], shape=(1, 50), dtype=float32)\n",
      "activated nodes in hidden layer: tf.Tensor(\n",
      "[[0. 0. 1. 0. 0. 0. 1. 1. 0. 1. 1. 1. 1. 1. 0. 0. 0. 0. 0. 0. 1. 0. 1. 0.\n",
      "  0. 1. 0. 0. 0. 0. 0. 1. 0. 0. 0. 1. 0. 1. 0. 1. 0. 0. 0. 1. 0. 0. 1. 1.\n",
      "  0. 0.]], shape=(1, 50), dtype=float32)\n",
      "tf.Tensor(\n",
      "[[2.39479021e-04 2.75456609e-04 1.90283565e-04 1.67090984e-04\n",
      "  1.81004973e-04 2.10291546e-04 2.46770593e-04 2.06128447e-04\n",
      "  2.56838888e-04 2.08199679e-04 2.08199679e-04 2.46770360e-04\n",
      "  1.83592449e-04 1.45344864e-04 1.51317130e-04 1.48513413e-04\n",
      "  2.67317868e-04 2.62025889e-04 2.51754303e-04 2.18872025e-04\n",
      "  1.72178901e-04 1.75656445e-04 1.77421723e-04 1.36806819e-04\n",
      "  2.23292620e-04 1.18936223e-04 1.73908906e-04 1.75656445e-04\n",
      "  1.43819940e-04 2.62025889e-04 1.88390521e-04 1.88390695e-04\n",
      "  2.47856427e-04 1.98872483e-04 1.48915715e-04 2.81273329e-04\n",
      "  1.67012462e-04 2.16762608e-04 2.69127166e-04 3.51826806e-04\n",
      "  2.92462704e-04 1.64652345e-04 1.94706372e-04 1.98786802e-04\n",
      "  3.27124901e-04 2.64431175e-04 2.07198027e-04 2.28392557e-04\n",
      "  1.98140959e-04 1.87373880e-04 1.63359829e-04 1.38084011e-04\n",
      "  2.46770593e-04 2.44315743e-04 2.98391707e-04 2.49250123e-04\n",
      "  1.62153548e-04 1.36806688e-04 1.86063378e-04 1.34150745e-04\n",
      "  1.88560531e-04 1.72706219e-04 2.42027832e-04 3.58256977e-04\n",
      "  2.81704590e-04 2.69549579e-04 2.05596705e-04 2.10655984e-04\n",
      "  1.06888481e-04 1.11669804e-04 6.42115629e-05 6.41136648e-05\n",
      "  9.49739333e-05 9.51977054e-05 3.00353659e-05 9.94247457e-05\n",
      "  5.68188734e-05 1.03639541e-04 2.27490178e-04 3.21378640e-04\n",
      "  2.10077691e-04 2.47778691e-04 1.81004973e-04 1.12010646e-04\n",
      "  2.56838888e-04 1.72178901e-04 1.82573131e-04 1.72030559e-04\n",
      "  1.21119949e-04 2.54693237e-04 4.13803558e-04 4.10863024e-04\n",
      "  2.43475792e-04 1.14660368e-04 8.65801921e-05 8.72168457e-05\n",
      "  5.04066957e-05 9.31450486e-05 7.55150395e-05 1.14791539e-04\n",
      "  1.17935291e-04 2.40142297e-04 1.39228709e-04 9.05589768e-05\n",
      "  9.63848070e-05 1.06976382e-04 2.72995298e-04 3.92520102e-04\n",
      "  2.25553929e-04 3.84042505e-04 1.94958266e-04 1.98047826e-04\n",
      "  2.18871821e-04 1.58607174e-04 1.07135013e-04 2.72107922e-04\n",
      "  3.92627873e-04 3.42303887e-04 5.10332640e-04 3.56298988e-04\n",
      "  4.81064722e-04 7.72959087e-04 1.60444120e-03 7.18372699e-04\n",
      "  5.09355275e-04 9.51560098e-04 2.97575677e-03 5.58586325e-03\n",
      "  6.06467761e-03 5.78664616e-03 4.45578340e-03 4.78821108e-03\n",
      "  2.35725311e-03 1.35811139e-03 1.26258249e-03 7.11864035e-04\n",
      "  9.39931837e-04 2.56235973e-04 2.11118051e-04 2.52525497e-04\n",
      "  1.75656620e-04 1.52711975e-04 2.07735080e-04 2.74798716e-04\n",
      "  7.67662423e-04 6.27294241e-04 1.63948117e-03 6.65411679e-03\n",
      "  9.23525542e-03 1.70185491e-02 9.11103189e-03 2.49004122e-02\n",
      "  3.63118835e-02 8.88076574e-02 2.76185006e-01 5.78462422e-01\n",
      "  5.33583105e-01 5.11640966e-01 1.93783820e-01 1.35870546e-01\n",
      "  2.78447121e-02 2.61827614e-02 1.09948311e-02 4.87127807e-03\n",
      "  2.78523774e-03 2.71433382e-03 6.35582197e-04 2.09501610e-04\n",
      "  2.10291735e-04 1.53588742e-04 2.11159102e-04 1.02972740e-03\n",
      "  1.56760146e-03 4.40465892e-03 7.10518658e-03 2.02627219e-02\n",
      "  2.65348274e-02 8.86111185e-02 1.62131637e-01 2.53525525e-01\n",
      "  4.51051116e-01 6.90959096e-01 8.58112693e-01 9.60090935e-01\n",
      "  9.60035145e-01 9.20344412e-01 7.65364468e-01 5.17901778e-01\n",
      "  3.32401097e-01 1.95789993e-01 9.02528018e-02 1.66118238e-02\n",
      "  3.57896090e-03 2.64001894e-03 1.80414424e-03 1.39581098e-04\n",
      "  1.59699208e-04 2.82821420e-04 3.04120011e-04 1.56992651e-03\n",
      "  4.12818324e-03 6.48191292e-03 1.70522127e-02 2.85566170e-02\n",
      "  6.26152232e-02 1.69174641e-01 3.10505420e-01 4.35365617e-01\n",
      "  7.43918717e-01 8.55683804e-01 9.47142005e-01 9.76505876e-01\n",
      "  9.59027648e-01 7.54391909e-01 4.82685506e-01 6.98077977e-01\n",
      "  8.43875647e-01 5.17452121e-01 1.79324821e-01 6.02461286e-02\n",
      "  6.31657941e-03 1.44947227e-03 1.01173262e-03 2.74734281e-04\n",
      "  1.91136205e-04 2.05579840e-04 1.00765890e-03 1.41385838e-03\n",
      "  3.06652929e-03 6.45822845e-03 2.50707604e-02 5.23855798e-02\n",
      "  9.99068916e-02 3.04270238e-01 3.49814892e-01 4.77827281e-01\n",
      "  6.65315032e-01 8.27054024e-01 7.93147326e-01 6.41483188e-01\n",
      "  5.24514139e-01 3.02975684e-01 3.15805644e-01 7.61521280e-01\n",
      "  7.95364738e-01 7.08722889e-01 3.20306599e-01 3.57764661e-02\n",
      "  1.06039103e-02 4.82990732e-03 6.27169618e-04 2.37683547e-04\n",
      "  2.63189402e-04 3.37439997e-04 4.12977388e-04 1.41613500e-03\n",
      "  6.51265960e-03 7.76267005e-03 2.08903942e-02 4.02571745e-02\n",
      "  1.75886214e-01 3.22202235e-01 2.11012870e-01 2.25734666e-01\n",
      "  2.52901077e-01 2.81587720e-01 2.38013253e-01 2.10642695e-01\n",
      "  1.28514841e-01 2.27663577e-01 5.27146757e-01 7.56988704e-01\n",
      "  8.15411627e-01 8.09438586e-01 3.48919362e-01 5.31411879e-02\n",
      "  1.37298284e-02 2.50579696e-03 1.31865416e-03 1.49571177e-04\n",
      "  3.41325009e-04 3.78467957e-04 7.78965536e-04 9.74466733e-04\n",
      "  3.10394331e-03 8.39048531e-03 1.24787726e-02 6.27494901e-02\n",
      "  1.07394889e-01 1.41089424e-01 1.02463514e-01 8.60475600e-02\n",
      "  4.36407626e-02 6.90921992e-02 1.07287616e-01 1.48041189e-01\n",
      "  1.56392127e-01 3.44882548e-01 8.40999305e-01 8.78914297e-01\n",
      "  8.79043579e-01 3.79210830e-01 2.04490408e-01 3.15247178e-02\n",
      "  6.22518826e-03 1.37331267e-03 5.87481132e-04 2.00084993e-04\n",
      "  1.75099427e-04 2.67265626e-04 7.55725720e-04 1.09410298e-03\n",
      "  6.97863055e-03 1.22431722e-02 2.48910859e-02 5.12791127e-02\n",
      "  5.51710948e-02 3.46998200e-02 1.58250351e-02 1.10771470e-02\n",
      "  5.58888763e-02 2.79755682e-01 2.83250928e-01 3.55409950e-01\n",
      "  5.59088051e-01 8.49371731e-01 8.91802073e-01 8.19661200e-01\n",
      "  4.08622801e-01 1.17430739e-01 4.59504724e-02 1.43219102e-02\n",
      "  3.60419368e-03 1.24171458e-03 4.34788817e-04 3.23806715e-04\n",
      "  2.03654432e-04 2.75046943e-04 4.39415453e-04 7.98249792e-04\n",
      "  2.56449333e-03 6.17210940e-03 3.11678220e-02 7.32388347e-02\n",
      "  2.61963680e-02 7.04857102e-03 1.20911673e-02 6.79775998e-02\n",
      "  4.26483899e-01 6.67333245e-01 8.33818972e-01 8.83565545e-01\n",
      "  9.51495528e-01 9.02716219e-01 5.65339684e-01 4.42692399e-01\n",
      "  6.04050234e-02 1.48961507e-02 6.25055283e-03 2.84466473e-03\n",
      "  5.21313224e-04 6.30348921e-04 2.02055846e-04 2.35079118e-04\n",
      "  1.97319125e-04 1.36041912e-04 3.67589382e-04 3.98364587e-04\n",
      "  2.47238437e-03 1.19251590e-02 2.10555997e-02 1.63665526e-02\n",
      "  1.33575620e-02 9.84155852e-03 2.08960623e-02 3.67206752e-01\n",
      "  9.03081894e-01 9.62816417e-01 9.24193263e-01 9.38933372e-01\n",
      "  9.13658261e-01 7.57373571e-01 3.53075385e-01 7.52117708e-02\n",
      "  1.07377851e-02 2.04691780e-03 4.84753912e-03 9.56611533e-04\n",
      "  4.65466379e-04 4.88892721e-04 3.57162644e-04 1.66620215e-04\n",
      "  2.53676553e-04 1.28861066e-04 2.95852165e-04 5.48195152e-04\n",
      "  1.35913084e-03 3.21462285e-03 1.00493040e-02 5.91202406e-03\n",
      "  1.19470516e-02 9.84292571e-03 9.84499753e-02 6.29585385e-01\n",
      "  9.52991307e-01 9.80050862e-01 9.62386608e-01 9.70239282e-01\n",
      "  9.02777493e-01 6.27169371e-01 1.92340598e-01 3.91029641e-02\n",
      "  6.51579443e-03 2.15622014e-03 1.44734606e-03 1.17882481e-03\n",
      "  3.32012161e-04 3.90021945e-04 2.96015525e-04 1.51412256e-04\n",
      "  2.87077331e-04 1.07307307e-04 3.81686143e-04 9.01906809e-04\n",
      "  2.07365281e-03 5.17330179e-03 3.87929520e-03 3.20268143e-03\n",
      "  7.20828958e-03 1.02624251e-02 1.00501098e-01 4.65562165e-01\n",
      "  8.16515684e-01 8.45495582e-01 7.84888327e-01 6.60543919e-01\n",
      "  5.51483631e-01 5.04426599e-01 2.30592906e-01 6.76074103e-02\n",
      "  7.02248095e-03 1.92189286e-03 1.70781778e-03 5.29116020e-04\n",
      "  4.00135701e-04 2.93820136e-04 2.68010714e-04 2.20517410e-04\n",
      "  1.58011215e-04 1.56875380e-04 3.21694097e-04 1.24629366e-03\n",
      "  2.83610495e-03 4.43540281e-03 4.67881281e-03 3.66890640e-03\n",
      "  1.88406440e-03 6.03816798e-03 5.76080829e-02 1.21895626e-01\n",
      "  2.88812906e-01 1.78372175e-01 2.85475165e-01 2.62258708e-01\n",
      "  4.23682958e-01 5.97211957e-01 5.13659418e-01 2.03270465e-01\n",
      "  2.86584962e-02 5.67205111e-03 2.10869033e-03 3.97604628e-04\n",
      "  3.44097731e-04 3.15426994e-04 3.77593475e-04 1.67931939e-04\n",
      "  2.30091275e-04 1.79190218e-04 6.25916757e-04 2.94054975e-03\n",
      "  6.99013285e-03 7.65468180e-03 1.52109619e-02 8.15920904e-03\n",
      "  2.07257085e-03 3.77460266e-03 9.94390901e-03 2.37559695e-02\n",
      "  2.92805191e-02 4.58241329e-02 6.91800639e-02 9.62863117e-02\n",
      "  2.13209108e-01 5.89807332e-01 6.42234862e-01 3.02460819e-01\n",
      "  1.30997092e-01 1.08596189e-02 2.55989074e-03 7.25499238e-04\n",
      "  5.75141574e-04 3.10823525e-04 3.80864891e-04 2.27695258e-04\n",
      "  1.37274386e-04 2.00894181e-04 1.73325639e-03 3.75509984e-03\n",
      "  1.69341862e-02 5.36575317e-02 4.47100066e-02 1.25361467e-02\n",
      "  4.26342851e-03 2.72565265e-03 4.82475106e-03 1.44232940e-02\n",
      "  2.12546512e-02 2.05123406e-02 7.69258663e-02 4.48924266e-02\n",
      "  2.20287651e-01 7.61098981e-01 8.27279329e-01 4.81730372e-01\n",
      "  1.11289755e-01 1.52709698e-02 2.52078171e-03 6.89469918e-04\n",
      "  5.15324587e-04 7.36663351e-04 3.92274349e-04 1.23174643e-04\n",
      "  1.59880845e-04 1.86063728e-04 1.68455369e-03 1.17239477e-02\n",
      "  4.45394740e-02 1.44915193e-01 1.43623829e-01 3.34193334e-02\n",
      "  9.31317080e-03 1.27423862e-02 1.54784489e-02 6.21150900e-03\n",
      "  2.01714057e-02 1.98272839e-02 1.78180784e-02 4.79844771e-02\n",
      "  2.52593219e-01 7.86038756e-01 7.33018458e-01 1.83328286e-01\n",
      "  3.92938517e-02 2.59251520e-03 1.09801535e-03 4.70773259e-04\n",
      "  3.78475524e-04 6.09745621e-04 4.35931550e-04 1.78265342e-04\n",
      "  2.08199679e-04 1.82974487e-04 3.19227669e-03 2.47577801e-02\n",
      "  1.72181115e-01 3.72754246e-01 2.90415376e-01 2.15852588e-01\n",
      "  1.21055394e-01 2.94444654e-02 2.13285554e-02 2.44040061e-02\n",
      "  2.04790216e-02 4.66306135e-02 3.19266170e-02 1.69927463e-01\n",
      "  5.92021465e-01 8.55385542e-01 5.12139797e-01 8.54682475e-02\n",
      "  6.54792599e-03 9.13026452e-04 3.68256529e-04 4.96877823e-04\n",
      "  8.18144123e-04 8.05789896e-04 4.91041574e-04 1.74530534e-04\n",
      "  3.14880745e-04 1.91661442e-04 3.32277385e-03 3.98855880e-02\n",
      "  2.02313885e-01 5.50848842e-01 5.39929986e-01 4.86827552e-01\n",
      "  2.63317883e-01 5.26816808e-02 1.00890666e-01 8.72084722e-02\n",
      "  2.22135544e-01 1.95288926e-01 3.54181409e-01 6.49058044e-01\n",
      "  8.11662614e-01 6.86015368e-01 1.42139718e-01 8.91660340e-03\n",
      "  1.77292048e-03 4.06722364e-04 6.42988482e-04 1.06828485e-03\n",
      "  7.92020874e-04 1.19612599e-03 4.64912475e-04 1.56384005e-04\n",
      "  1.10163819e-04 2.38589026e-04 1.68217928e-03 2.07290296e-02\n",
      "  1.29522711e-01 3.03663462e-01 5.21650016e-01 6.57467306e-01\n",
      "  7.26483524e-01 4.92171317e-01 5.75006068e-01 5.89713156e-01\n",
      "  7.13054895e-01 7.47318447e-01 7.32452631e-01 7.78699040e-01\n",
      "  6.14029109e-01 2.06932187e-01 2.22620927e-02 3.34662641e-03\n",
      "  1.71808375e-03 1.73490983e-03 1.35803432e-03 1.50889694e-03\n",
      "  1.08982879e-03 6.64049468e-04 2.01952993e-04 1.85662662e-04\n",
      "  1.60540294e-04 1.12010537e-04 4.64129640e-04 4.02454007e-03\n",
      "  4.05761413e-02 2.86694556e-01 4.08354998e-01 7.21237719e-01\n",
      "  8.08562100e-01 8.94081414e-01 9.70891356e-01 9.47963178e-01\n",
      "  9.07617211e-01 8.82258654e-01 8.52586031e-01 7.05542624e-01\n",
      "  2.35733122e-01 1.83261372e-02 3.33229848e-03 3.72692966e-03\n",
      "  1.91850320e-03 1.87264569e-03 1.62293634e-03 6.91404508e-04\n",
      "  5.64946560e-04 2.98649538e-04 2.69823911e-04 2.12404600e-04\n",
      "  1.10896224e-04 1.60540148e-04 2.01099465e-04 1.10275077e-03\n",
      "  6.89300243e-03 6.42405301e-02 2.76202142e-01 3.83920610e-01\n",
      "  6.61446810e-01 9.45515275e-01 9.35367167e-01 8.17252576e-01\n",
      "  7.14408994e-01 6.65180504e-01 2.09891766e-01 1.37628913e-01\n",
      "  1.70104634e-02 4.80959984e-03 3.35203554e-03 1.84762478e-03\n",
      "  2.06354470e-03 5.85642934e-04 7.09019427e-04 7.11830740e-04\n",
      "  4.46883729e-04 2.69845041e-04 1.56524984e-04 1.57361981e-04\n",
      "  2.14538886e-04 2.25536103e-04 1.71330423e-04 2.73219746e-04\n",
      "  4.58595867e-04 2.63566710e-03 2.76502152e-03 1.25235608e-02\n",
      "  3.69201526e-02 4.66971472e-02 5.18745296e-02 1.00540653e-01\n",
      "  4.50813137e-02 3.13627385e-02 1.03732068e-02 5.15352236e-03\n",
      "  3.99624323e-03 3.40870419e-03 8.04218114e-04 5.31443337e-04\n",
      "  3.50879738e-04 3.33679374e-04 3.33574106e-04 2.92153127e-04\n",
      "  1.61278615e-04 1.36624440e-04 2.59043358e-04 2.04077805e-04\n",
      "  1.51192668e-04 1.96077381e-04 1.30135391e-04 2.18409201e-04\n",
      "  1.82058415e-04 1.03656715e-03 9.71491507e-04 7.61882518e-04\n",
      "  1.40326656e-03 2.10580253e-03 9.60306264e-04 2.05075229e-03\n",
      "  1.68149162e-03 9.56211938e-04 6.68869296e-04 5.56082290e-04\n",
      "  5.80551336e-04 3.12816177e-04 4.53521294e-04 3.31957068e-04\n",
      "  2.66534043e-04 3.79776640e-04 1.87948259e-04 2.40929599e-04\n",
      "  1.27399078e-04 2.62849091e-04 1.40972581e-04 1.81004973e-04\n",
      "  1.84660938e-04 1.73908906e-04 1.67091144e-04 1.36806688e-04\n",
      "  1.81609517e-04 3.20573541e-04 2.02492098e-04 2.80953886e-04\n",
      "  5.68833668e-04 6.17970829e-04 1.06576283e-03 6.90699439e-04\n",
      "  6.58711593e-04 6.11419557e-04 2.74380640e-04 4.07941261e-04\n",
      "  5.30856487e-04 7.76619709e-04 2.80283391e-04 1.90134495e-04\n",
      "  2.09962338e-04 2.31939062e-04 1.73582055e-04 1.72367974e-04\n",
      "  1.75656620e-04 1.62153548e-04 2.75456609e-04 2.23292416e-04]], shape=(1, 784), dtype=float32)\n"
     ]
    }
   ],
   "source": [
    "hh0_p = tf.nn.sigmoid(tf.matmul(sample_case, W) + hb)\n",
    "hh0_s = tf.round(hh0_p)\n",
    "\n",
    "print(\"Probability nodes in hidden layer:\" ,hh0_p)\n",
    "print(\"activated nodes in hidden layer:\" ,hh0_s)\n",
    "\n",
    "# reconstruct\n",
    "vv1_p = tf.nn.sigmoid(tf.matmul(hh0_s, tf.transpose(W)) + vb)\n",
    "\n",
    "print(vv1_p)\n",
    "#rec_prob = sess.run(vv1_p, feed_dict={ hh0_s: hh0_s_val, W: prv_w, vb: prv_vb})"
   ]
  },
  {
   "cell_type": "markdown",
   "metadata": {},
   "source": [
    "Here we plot the reconstructed image:\n"
   ]
  },
  {
   "cell_type": "code",
   "execution_count": 25,
   "metadata": {},
   "outputs": [
    {
     "data": {
      "image/png": "[encoded data removed]",
      "text/plain": [
       "<Figure size 400x400 with 1 Axes>"
      ]
     },
     "metadata": {},
     "output_type": "display_data"
    }
   ],
   "source": [
    "img = Image.fromarray(tile_raster_images(X=vv1_p.numpy(), img_shape=(28, 28),tile_shape=(1, 1), tile_spacing=(1, 1)))\n",
    "plt.rcParams['figure.figsize'] = (4.0, 4.0)\n",
    "imgplot = plt.imshow(img)\n",
    "imgplot.set_cmap('gray') "
   ]
  },
  {
   "cell_type": "markdown",
   "metadata": {},
   "source": [
    "### Thanks for completing this lesson!\n",
    "\n",
    "Notebook created by: <a href = \"https://ca.linkedin.com/in/saeedaghabozorgi\">Saeed Aghabozorgi</a>\n",
    "\n",
    "Updated to TF 2.X by  <a href=\"https://ca.linkedin.com/in/nilmeier\"> Jerome Nilmeier</a><br />\n"
   ]
  },
  {
   "cell_type": "markdown",
   "metadata": {},
   "source": [
    "### References:\n",
    "https://en.wikipedia.org/wiki/Restricted_Boltzmann_machine  \n",
    "http://deeplearning.net/tutorial/rbm.html  \n",
    "http://www.cs.utoronto.ca/~hinton/absps/netflixICML.pdf<br>\n",
    "http://imonad.com/rbm/restricted-boltzmann-machine/  \n"
   ]
  },
  {
   "cell_type": "markdown",
   "metadata": {},
   "source": [
    "<hr>\n",
    "\n",
    "Copyright &copy; 2018 [Cognitive Class](https://cocl.us/DX0108EN_CC). This notebook and its source code are released under the terms of the [MIT License](https://bigdatauniversity.com/mit-license/).\n"
   ]
  }
 ],
 "metadata": {
  "kernelspec": {
   "display_name": "Python",
   "language": "python",
   "name": "conda-env-python-py"
  },
  "language_info": {
   "codemirror_mode": {
    "name": "ipython",
    "version": 3
   },
   "file_extension": ".py",
   "mimetype": "text/x-python",
   "name": "python",
   "nbconvert_exporter": "python",
   "pygments_lexer": "ipython3",
   "version": "3.7.12"
  }
 },
 "nbformat": 4,
 "nbformat_minor": 4
}
