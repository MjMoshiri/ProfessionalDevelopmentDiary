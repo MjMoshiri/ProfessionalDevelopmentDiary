{
 "cells": [
  {
   "cell_type": "markdown",
   "metadata": {},
   "source": [
    "<img src=\"https://cf-courses-data.s3.us.cloud-object-storage.appdomain.cloud/IBMDeveloperSkillsNetwork-DL0120EN-SkillsNetwork/images/IDSN-logo.png\" width=\"300\" alt=\"cognitiveclass.ai logo\">\n",
    "\n",
    "<h1 align=\"center\"><font size=\"5\">RECURRENT NETWORKS and LSTM IN DEEP LEARNING</font></h1>\n"
   ]
  },
  {
   "cell_type": "markdown",
   "metadata": {},
   "source": [
    "Estimated time needed: **30** minutes\n"
   ]
  },
  {
   "cell_type": "markdown",
   "metadata": {},
   "source": [
    "<h2>Applying Recurrent Neural Networks/LSTM for Language Modeling</h2>\n",
    "Hello and welcome to this part. In this notebook, we will go over the topic of Language Modelling, and create a Recurrent Neural Network model based on the Long Short-Term Memory unit to train and benchmark on the Penn Treebank dataset. By the end of this notebook, you should be able to understand how TensorFlow builds and executes a RNN model for Language Modelling.\n"
   ]
  },
  {
   "cell_type": "markdown",
   "metadata": {},
   "source": [
    "<h2>The Objective</h2>\n",
    "By now, you should have an understanding of how Recurrent Networks work -- a specialized model to process sequential data by keeping track of the \"state\" or context. In this notebook, we go over a TensorFlow code snippet for creating a model focused on <b>Language Modelling</b> -- a very relevant task that is the cornerstone of many different linguistic problems such as <b>Speech Recognition, Machine Translation and Image Captioning</b>. For this, we will be using the Penn Treebank dataset, which is an often-used dataset for benchmarking Language Modelling models.\n"
   ]
  },
  {
   "cell_type": "markdown",
   "metadata": {},
   "source": [
    "\n",
    "<h2>Table of Contents</h2>\n",
    "<ol>\n",
    "    <li><a href=\"#language_modelling\">What exactly is Language Modelling?</a></li>\n",
    "    <li><a href=\"#treebank_dataset\">The Penn Treebank dataset</a></li>\n",
    "    <li><a href=\"#word_embedding\">Word Embedding</a></li>\n",
    "    <li><a href=\"#building_lstm_model\">Building the LSTM model for Language Modeling</a></li>\n",
    "    <li><a href=\"#ltsm\">LTSM</a></li>\n",
    "</ol>\n",
    "<p></p>\n",
    "</div>\n",
    "<br>\n"
   ]
  },
  {
   "cell_type": "markdown",
   "metadata": {},
   "source": [
    "--------\n"
   ]
  },
  {
   "cell_type": "markdown",
   "metadata": {},
   "source": [
    "<a id=\"language_modelling\"></a>\n",
    "<h2>What exactly is Language Modelling?</h2>\n",
    "Language Modelling, to put it simply, <b>is the task of assigning probabilities to sequences of words</b>. This means that, given a context of one or a sequence of words in the language the model was trained on, the model should provide the next most probable words or sequence of words that follows from the given sequence of words the sentence. Language Modelling is one of the most important tasks in Natural Language Processing.\n",
    "\n",
    "<img src=\"https://ibm.box.com/shared/static/1d1i5gub6wljby2vani2vzxp0xsph702.png\" width=\"1080\">\n",
    "<center><i>Example of a sentence being predicted</i></center>\n",
    "<br><br>\n",
    "In this example, one can see the predictions for the next word of a sentence, given the context \"This is an\". As you can see, this boils down to a sequential data analysis task -- you are given a word or a sequence of words (the input data), and, given the context (the state), you need to find out what is the next word (the prediction). This kind of analysis is very important for language-related tasks such as <b>Speech Recognition, Machine Translation, Image Captioning, Text Correction</b> and many other very relevant problems. \n",
    "\n",
    "<img src=\"https://ibm.box.com/shared/static/az39idf9ipfdpc5ugifpgxnydelhyf3i.png\" width=\"1080\">\n",
    "<center><i>The above example is a schema of an RNN in execution</i></center>\n",
    "<br><br>\n",
    "As the above image shows, Recurrent Network models fit this problem like a glove. Alongside LSTM and its capacity to maintain the model's state for over one thousand time steps, we have all the tools we need to undertake this problem. The goal for this notebook is to create a model that can reach <b>low levels of perplexity</b> on our desired dataset.\n",
    "\n",
    "For Language Modelling problems, <b>perplexity</b> is the way to gauge efficiency. Perplexity is simply a measure of how well a probabilistic model is able to predict its sample. A higher-level way to explain this would be saying that <b>low perplexity means a higher degree of trust in the predictions the model makes</b>. Therefore, the lower perplexity is, the better.\n"
   ]
  },
  {
   "cell_type": "markdown",
   "metadata": {},
   "source": [
    "<a id=\"treebank_dataset\"></a>\n",
    "<h2>The Penn Treebank dataset</h2>\n",
    "Historically, datasets big enough for Natural Language Processing are hard to come by. This is in part due to the necessity of the sentences to be broken down and tagged with a certain degree of correctness -- or else the models trained on it won't be able to be correct at all. This means that we need a <b>large amount of data, annotated by or at least corrected by humans</b>. This is, of course, not an easy task at all.\n",
    "\n",
    "The Penn Treebank, or PTB for short, is a dataset maintained by the University of Pennsylvania. It is <i>huge</i> -- there are over <b>four million and eight hundred thousand</b> annotated words in it, all corrected by humans. It is composed of many different sources, from abstracts of Department of Energy papers to texts from the Library of America. Since it is verifiably correct and of such a huge size, the Penn Treebank is commonly used as a benchmark dataset for Language Modelling.\n",
    "\n",
    "The dataset is divided in different kinds of annotations, such as Piece-of-Speech, Syntactic and Semantic skeletons. For this example, we will simply use a sample of clean, non-annotated words (with the exception of one tag --<code>&lt;unk&gt;</code>\n",
    ", which is used for rare words such as uncommon proper nouns) for our model. This means that we just want to predict what the next words would be, not what they mean in context or their classes on a given sentence.\n",
    "\n",
    "<center>Example of text from the dataset we are going to use, <b>ptb.train</b></center>\n",
    "<br><br>\n",
    "\n",
    "<div class=\"alert alert-block alert-info\" style=\"margin-top: 20px\">\n",
    "    <center>the percentage of lung cancer deaths among the workers at the west <code>&lt;unk&gt;</code> mass. paper factory appears to be the highest for any asbestos workers studied in western industrialized countries he said \n",
    " the plant which is owned by <code>&lt;unk&gt;</code> & <code>&lt;unk&gt;</code> co. was under contract with <code>&lt;unk&gt;</code> to make the cigarette filters \n",
    " the finding probably will support those who argue that the U.S. should regulate the class of asbestos including <code>&lt;unk&gt;</code> more <code>&lt;unk&gt;</code> than the common kind of asbestos <code>&lt;unk&gt;</code> found in most schools and other buildings dr. <code>&lt;unk&gt;</code> said</center>\n",
    "</div>\n"
   ]
  },
  {
   "cell_type": "markdown",
   "metadata": {},
   "source": [
    "<a id=\"word_embedding\"></a>\n",
    "<h2>Word Embeddings</h2><br/>\n",
    "\n",
    "For better processing, in this example, we will make use of <a href=\"https://www.tensorflow.org/tutorials/word2vec/?utm_medium=Exinfluencer&utm_source=Exinfluencer&utm_content=000026UJ&utm_term=10006555&utm_id=NA-SkillsNetwork-Channel-SkillsNetworkCoursesIBMDeveloperSkillsNetworkDL0120ENSkillsNetwork954-2023-01-01\"><b>word embeddings</b></a>, which is <b>a way of representing sentence structures or words as n-dimensional vectors (where n is a reasonably high number, such as 200 or 500) of real numbers</b>. Basically, we will assign each word a randomly-initialized vector, and input those into the network to be processed. After a number of iterations, these vectors are expected to assume values that help the network to correctly predict what it needs to -- in our case, the probable next word in the sentence. This is shown to be a very effective task in Natural Language Processing, and is a commonplace practice.\n",
    "<br><br>\n",
    "<font size=\"4\"><strong>\n",
    "$$Vec(\"Example\") = [0.02, 0.00, 0.00, 0.92, 0.30, \\ldots]$$\n",
    "</strong></font>\n",
    "<br>\n",
    "Word Embedding tends to group up similarly used words <i>reasonably</i> close together in the vectorial space. For example, if we use T-SNE (a dimensional reduction visualization algorithm) to flatten the dimensions of our vectors into a 2-dimensional space and plot these words in a 2-dimensional space, we might see something like this:\n",
    "\n",
    "<img src=\"https://ibm.box.com/shared/static/bqhc5dg879gcoabzhxra1w8rkg3od1cu.png\" width=\"800\">\n",
    "<center><i>T-SNE Mockup with clusters marked for easier visualization</i></center>\n",
    "<br><br>\n",
    "As you can see, words that are frequently used together, in place of each other, or in the same places as them tend to be grouped together -- being closer together the higher they are correlated. For example, \"None\" is pretty semantically close to \"Zero\", while a phrase that uses \"Italy\", you could probably also fit \"Germany\" in it, with little damage to the sentence structure. The vectorial \"closeness\" for similar words like this is a great indicator of a well-built model.\n",
    "\n",
    "<hr>\n",
    " \n"
   ]
  },
  {
   "cell_type": "markdown",
   "metadata": {},
   "source": [
    "We need to import the necessary modules for our code. We need <b><code>numpy</code></b> and <b><code>tensorflow</code></b>, obviously. Additionally, we can import directly the <b><code>tensorflow.models.rnn</code></b> model, which includes the function for building RNNs, and <b><code>tensorflow.models.rnn.ptb.reader</code></b> which is the helper module for getting the input data from the dataset we just downloaded.\n",
    "\n",
    "If you want to learn more take a look at https://github.com/tensorflow/models/blob/master/tutorials/rnn/ptb/reader.py\n"
   ]
  },
  {
   "cell_type": "code",
   "execution_count": 2,
   "metadata": {},
   "outputs": [],
   "source": [
    "import time\n",
    "import numpy as np\n",
    "import tensorflow as tf\n",
    "tf.config.threading.set_intra_op_parallelism_threads(8)"
   ]
  },
  {
   "cell_type": "markdown",
   "metadata": {},
   "source": [
    "IMPORTANT! => Please restart the kernel by clicking on \"Kernel\"->\"Restart and Clear Outout\" and wait until all output disapears. Then your changes are beeing picked up\n"
   ]
  },
  {
   "cell_type": "code",
   "execution_count": 3,
   "metadata": {},
   "outputs": [
    {
     "name": "stdout",
     "output_type": "stream",
     "text": [
      "mkdir: cannot create directory ‘data’: File exists\n",
      "mkdir: cannot create directory ‘data/ptb’: File exists\n"
     ]
    }
   ],
   "source": [
    "!mkdir data\n",
    "!mkdir data/ptb\n",
    "!wget -q -O data/ptb/reader.py https://cf-courses-data.s3.us.cloud-object-storage.appdomain.cloud/IBMDeveloperSkillsNetwork-DL0120EN-SkillsNetwork/labs/Week3/data/ptb/reader.py\n",
    "!cp data/ptb/reader.py .\n",
    "\n"
   ]
  },
  {
   "cell_type": "code",
   "execution_count": 4,
   "metadata": {},
   "outputs": [],
   "source": [
    "# Copyright 2015 The TensorFlow Authors. All Rights Reserved.\n",
    "#\n",
    "# Licensed under the Apache License, Version 2.0 (the \"License\");\n",
    "# you may not use this file except in compliance with the License.\n",
    "# You may obtain a copy of the License at\n",
    "#\n",
    "#     http://www.apache.org/licenses/LICENSE-2.0\n",
    "#\n",
    "# Unless required by applicable law or agreed to in writing, software\n",
    "# distributed under the License is distributed on an \"AS IS\" BASIS,\n",
    "# WITHOUT WARRANTIES OR CONDITIONS OF ANY KIND, either express or implied.\n",
    "# See the License for the specific language governing permissions and\n",
    "# limitations under the License.\n",
    "# ==============================================================================\n",
    "\n",
    "\n",
    "\"\"\"Utilities for parsing PTB text files.\"\"\"\n",
    "from __future__ import absolute_import\n",
    "from __future__ import division\n",
    "from __future__ import print_function\n",
    "\n",
    "import collections\n",
    "import os\n",
    "\n",
    "import numpy as np\n",
    "import tensorflow as tf\n",
    "\n",
    "\n",
    "def _read_words(filename):\n",
    "  with tf.io.gfile.GFile(filename, \"r\") as f:\n",
    "    return f.read().replace(\"\\n\", \"<eos>\").split()\n",
    "\n",
    "\n",
    "def _build_vocab(filename):\n",
    "  data = _read_words(filename)\n",
    "\n",
    "  counter = collections.Counter(data)\n",
    "  count_pairs = sorted(counter.items(), key=lambda x: (-x[1], x[0]))\n",
    "\n",
    "  words, _ = list(zip(*count_pairs))\n",
    "  word_to_id = dict(zip(words, range(len(words))))\n",
    "\n",
    "  return word_to_id\n",
    "\n",
    "\n",
    "def _file_to_word_ids(filename, word_to_id):\n",
    "  data = _read_words(filename)\n",
    "  return [word_to_id[word] for word in data if word in word_to_id]\n",
    "\n",
    "\n",
    "def ptb_raw_data(data_path=None):\n",
    "  \"\"\"Load PTB raw data from data directory \"data_path\".\n",
    "\n",
    "  Reads PTB text files, converts strings to integer ids,\n",
    "  and performs mini-batching of the inputs.\n",
    "\n",
    "  The PTB dataset comes from Tomas Mikolov's webpage:\n",
    "\n",
    "  http://www.fit.vutbr.cz/~imikolov/rnnlm/simple-examples.tgz\n",
    "\n",
    "  Args:\n",
    "    data_path: string path to the directory where simple-examples.tgz has\n",
    "      been extracted.\n",
    "\n",
    "  Returns:\n",
    "    tuple (train_data, valid_data, test_data, vocabulary)\n",
    "    where each of the data objects can be passed to PTBIterator.\n",
    "  \"\"\"\n",
    "\n",
    "  train_path = os.path.join(data_path, \"ptb.train.txt\")\n",
    "  valid_path = os.path.join(data_path, \"ptb.valid.txt\")\n",
    "  test_path = os.path.join(data_path, \"ptb.test.txt\")\n",
    "\n",
    "  word_to_id = _build_vocab(train_path)\n",
    "  train_data = _file_to_word_ids(train_path, word_to_id)\n",
    "  valid_data = _file_to_word_ids(valid_path, word_to_id)\n",
    "  test_data = _file_to_word_ids(test_path, word_to_id)\n",
    "  vocabulary = len(word_to_id)\n",
    "  return train_data, valid_data, test_data, vocabulary, word_to_id\n",
    "\n",
    "\n",
    "def ptb_iterator(raw_data, batch_size, num_steps):\n",
    "  \"\"\"Iterate on the raw PTB data.\n",
    "\n",
    "  This generates batch_size pointers into the raw PTB data, and allows\n",
    "  minibatch iteration along these pointers.\n",
    "\n",
    "  Args:\n",
    "    raw_data: one of the raw data outputs from ptb_raw_data.\n",
    "    batch_size: int, the batch size.\n",
    "    num_steps: int, the number of unrolls.\n",
    "\n",
    "  Yields:\n",
    "    Pairs of the batched data, each a matrix of shape [batch_size, num_steps].\n",
    "    The second element of the tuple is the same data time-shifted to the\n",
    "    right by one.\n",
    "\n",
    "  Raises:\n",
    "    ValueError: if batch_size or num_steps are too high.\n",
    "  \"\"\"\n",
    "  raw_data = np.array(raw_data, dtype=np.int32)\n",
    "\n",
    "  data_len = len(raw_data)\n",
    "  batch_len = data_len // batch_size\n",
    "  data = np.zeros([batch_size, batch_len], dtype=np.int32)\n",
    "  for i in range(batch_size):\n",
    "    data[i] = raw_data[batch_len * i:batch_len * (i + 1)]\n",
    "\n",
    "  epoch_size = (batch_len - 1) // num_steps\n",
    "\n",
    "  if epoch_size == 0:\n",
    "    raise ValueError(\"epoch_size == 0, decrease batch_size or num_steps\")\n",
    "\n",
    "  for i in range(epoch_size):\n",
    "    x = data[:, i*num_steps:(i+1)*num_steps]\n",
    "    y = data[:, i*num_steps+1:(i+1)*num_steps+1]\n",
    "    yield (x, y)"
   ]
  },
  {
   "cell_type": "markdown",
   "metadata": {},
   "source": [
    "<a id=\"building_lstm_model\"></a>\n",
    "<h2>Building the LSTM model for Language Modeling</h2>\n",
    "Now that we know exactly what we are doing, we can start building our model using TensorFlow. The very first thing we need to do is download and extract the <code>simple-examples</code> dataset, which can be done by executing the code cell below.\n"
   ]
  },
  {
   "cell_type": "code",
   "execution_count": 5,
   "metadata": {},
   "outputs": [
    {
     "name": "stdout",
     "output_type": "stream",
     "text": [
      "--2024-06-16 11:45:11--  http://www.fit.vutbr.cz/~imikolov/rnnlm/simple-examples.tgz\n",
      "Resolving www.fit.vutbr.cz (www.fit.vutbr.cz)... 147.229.9.23, 2001:67c:1220:809::93e5:917\n",
      "Connecting to www.fit.vutbr.cz (www.fit.vutbr.cz)|147.229.9.23|:80... connected.\n",
      "HTTP request sent, awaiting response... 200 OK\n",
      "Length: 34869662 (33M) [application/x-gtar]\n",
      "Saving to: ‘simple-examples.tgz.5’\n",
      "\n",
      "simple-examples.tgz 100%[===================>]  33.25M  6.07MB/s    in 11s     \n",
      "\n",
      "2024-06-16 11:45:23 (3.00 MB/s) - ‘simple-examples.tgz.5’ saved [34869662/34869662]\n",
      "\n"
     ]
    }
   ],
   "source": [
    "!wget http://www.fit.vutbr.cz/~imikolov/rnnlm/simple-examples.tgz \n",
    "!tar xzf simple-examples.tgz -C data/"
   ]
  },
  {
   "cell_type": "markdown",
   "metadata": {},
   "source": [
    "Additionally, for the sake of making it easy to play around with the model's hyperparameters, we can declare them beforehand. Feel free to change these -- you will see a difference in performance each time you change those!  \n"
   ]
  },
  {
   "cell_type": "code",
   "execution_count": 6,
   "metadata": {},
   "outputs": [],
   "source": [
    "#Initial weight scale\n",
    "init_scale = 0.1\n",
    "#Initial learning rate\n",
    "learning_rate = 1.0\n",
    "#Maximum permissible norm for the gradient (For gradient clipping -- another measure against Exploding Gradients)\n",
    "max_grad_norm = 5\n",
    "#The number of layers in our model\n",
    "num_layers = 2\n",
    "#The total number of recurrence steps, also known as the number of layers when our RNN is \"unfolded\"\n",
    "num_steps = 20\n",
    "#The number of processing units (neurons) in the hidden layers\n",
    "hidden_size_l1 = 256\n",
    "hidden_size_l2 = 128\n",
    "#The maximum number of epochs trained with the initial learning rate\n",
    "max_epoch_decay_lr = 4\n",
    "#The total number of epochs in training\n",
    "max_epoch = 15\n",
    "#The probability for keeping data in the Dropout Layer (This is an optimization, but is outside our scope for this notebook!)\n",
    "#At 1, we ignore the Dropout Layer wrapping.\n",
    "keep_prob = 1\n",
    "#The decay for the learning rate\n",
    "decay = 0.5\n",
    "#The size for each batch of data\n",
    "batch_size = 30\n",
    "#The size of our vocabulary\n",
    "vocab_size = 10000\n",
    "embeding_vector_size= 200\n",
    "#Training flag to separate training from testing\n",
    "is_training = 1\n",
    "#Data directory for our dataset\n",
    "data_dir = \"data/simple-examples/data/\""
   ]
  },
  {
   "cell_type": "markdown",
   "metadata": {},
   "source": [
    "Some clarifications for LSTM architecture based on the arguments:\n",
    "\n",
    "Network structure:\n",
    "<ul>\n",
    "    <li>In this network, the number of LSTM cells are 2. To give the model more expressive power, we can add multiple layers of LSTMs to process the data. The output of the first layer will become the input of the second and so on.\n",
    "    </li>\n",
    "    <li>The recurrence steps is 20, that is, when our RNN is \"Unfolded\", the recurrence step is 20.</li>   \n",
    "    <li>the structure is like:\n",
    "        <ul>\n",
    "            <li>200 input units -> [200x200] Weight -> 200 Hidden units (first layer) -> [200x200] Weight matrix  -> 200 Hidden units (second layer) ->  [200] weight Matrix -> 200 unit output</li>\n",
    "        </ul>\n",
    "    </li>\n",
    "</ul>\n",
    "<br>\n",
    "\n",
    "Input layer: \n",
    "<ul>\n",
    "    <li>The network has 200 input units.</li>\n",
    "    <li>Suppose each word is represented by an embedding vector of dimensionality e=200. The input layer of each cell will have 200 linear units. These e=200 linear units are connected to each of the h=200 LSTM units in the hidden layer (assuming there is only one hidden layer, though our case has 2 layers).\n",
    "    </li>\n",
    "    <li>The input shape is [batch_size, num_steps], that is [30x20]. It will turn into [30x20x200] after embedding, and then 20x[30x200]\n",
    "    </li>\n",
    "</ul>\n",
    "<br>\n",
    "\n",
    "Hidden layer:\n",
    "<ul>\n",
    "    <li>Each LSTM has 200 hidden units which is equivalent to the dimensionality of the embedding words and output.</li>\n",
    "</ul>\n",
    "<br>\n"
   ]
  },
  {
   "cell_type": "markdown",
   "metadata": {},
   "source": [
    "There is a lot to be done and a ton of information to process at the same time, so go over this code slowly. It may seem complex at first, but if you try to apply what you just learned about language modelling to the code you see, you should be able to understand it.\n",
    "\n",
    "This code is adapted from the <a href=\"https://github.com/tensorflow/models\">PTBModel</a> example bundled with the TensorFlow source code.\n",
    "\n",
    "\n",
    "<h3>Training data</h3>\n",
    "The story starts from data:\n",
    "<ul>\n",
    "    <li>Train data is a list of words, of size 929589, represented by numbers, e.g. [9971, 9972, 9974, 9975,...]</li>\n",
    "    <li>We read data as mini-batch of size b=30. Assume the size of each sentence is 20 words (num_steps = 20). Then it will take $$floor(\\frac{N}{b \\times h})+1=1548$$ iterations for the learner to go through all sentences once. Where N is the size of the list of words, b is batch size, and h is size of each sentence. So, the number of iterators is 1548\n",
    "    </li>\n",
    "    <li>Each batch data is read from train dataset of size 600, and shape of [30x20]</li>\n",
    "</ul>\n"
   ]
  },
  {
   "cell_type": "code",
   "execution_count": 7,
   "metadata": {},
   "outputs": [],
   "source": [
    "# Reads the data and separates it into training data, validation data and testing data\n",
    "raw_data = ptb_raw_data(data_dir)\n",
    "train_data, valid_data, test_data, vocab, word_to_id = raw_data"
   ]
  },
  {
   "cell_type": "code",
   "execution_count": 8,
   "metadata": {},
   "outputs": [
    {
     "data": {
      "text/plain": [
       "929589"
      ]
     },
     "execution_count": 8,
     "metadata": {},
     "output_type": "execute_result"
    }
   ],
   "source": [
    "len(train_data)"
   ]
  },
  {
   "cell_type": "code",
   "execution_count": 9,
   "metadata": {},
   "outputs": [
    {
     "name": "stdout",
     "output_type": "stream",
     "text": [
      "['aer', 'banknote', 'berlitz', 'calloway', 'centrust', 'cluett', 'fromstein', 'gitano', 'guterman', 'hydro-quebec', 'ipo', 'kia', 'memotec', 'mlx', 'nahb', 'punts', 'rake', 'regatta', 'rubens', 'sim', 'snack-food', 'ssangyong', 'swapo', 'wachter', '<eos>', 'pierre', '<unk>', 'N', 'years', 'old', 'will', 'join', 'the', 'board', 'as', 'a', 'nonexecutive', 'director', 'nov.', 'N', '<eos>', 'mr.', '<unk>', 'is', 'chairman', 'of', '<unk>', 'n.v.', 'the', 'dutch', 'publishing', 'group', '<eos>', 'rudolph', '<unk>', 'N', 'years', 'old', 'and', 'former', 'chairman', 'of', 'consolidated', 'gold', 'fields', 'plc', 'was', 'named', 'a', 'nonexecutive', 'director', 'of', 'this', 'british', 'industrial', 'conglomerate', '<eos>', 'a', 'form', 'of', 'asbestos', 'once', 'used', 'to', 'make', 'kent', 'cigarette', 'filters', 'has', 'caused', 'a', 'high', 'percentage', 'of', 'cancer', 'deaths', 'among', 'a', 'group', 'of']\n"
     ]
    }
   ],
   "source": [
    "def id_to_word(id_list):\n",
    "    line = []\n",
    "    for w in id_list:\n",
    "        for word, wid in word_to_id.items():\n",
    "            if wid == w:\n",
    "                line.append(word)\n",
    "    return line            \n",
    "                \n",
    "\n",
    "print(id_to_word(train_data[0:100]))"
   ]
  },
  {
   "cell_type": "markdown",
   "metadata": {},
   "source": [
    "Lets just read one mini-batch now and feed our network:\n"
   ]
  },
  {
   "cell_type": "code",
   "execution_count": 10,
   "metadata": {},
   "outputs": [],
   "source": [
    "itera = ptb_iterator(train_data, batch_size, num_steps)\n",
    "first_touple = itera.__next__()\n",
    "_input_data = first_touple[0]\n",
    "_targets = first_touple[1]"
   ]
  },
  {
   "cell_type": "code",
   "execution_count": 11,
   "metadata": {},
   "outputs": [
    {
     "data": {
      "text/plain": [
       "(30, 20)"
      ]
     },
     "execution_count": 11,
     "metadata": {},
     "output_type": "execute_result"
    }
   ],
   "source": [
    "_input_data.shape"
   ]
  },
  {
   "cell_type": "code",
   "execution_count": 12,
   "metadata": {},
   "outputs": [
    {
     "data": {
      "text/plain": [
       "(30, 20)"
      ]
     },
     "execution_count": 12,
     "metadata": {},
     "output_type": "execute_result"
    }
   ],
   "source": [
    "_targets.shape"
   ]
  },
  {
   "cell_type": "markdown",
   "metadata": {},
   "source": [
    "Lets look at 3 sentences of our input x:\n"
   ]
  },
  {
   "cell_type": "code",
   "execution_count": 13,
   "metadata": {},
   "outputs": [
    {
     "data": {
      "text/plain": [
       "array([[9970, 9971, 9972, 9974, 9975, 9976, 9980, 9981, 9982, 9983, 9984,\n",
       "        9986, 9987, 9988, 9989, 9991, 9992, 9993, 9994, 9995],\n",
       "       [2654,    6,  334, 2886,    4,    1,  233,  711,  834,   11,  130,\n",
       "         123,    7,  514,    2,   63,   10,  514,    8,  605],\n",
       "       [   0, 1071,    4,    0,  185,   24,  368,   20,   31, 3109,  954,\n",
       "          12,    3,   21,    2, 2915,    2,   12,    3,   21]],\n",
       "      dtype=int32)"
      ]
     },
     "execution_count": 13,
     "metadata": {},
     "output_type": "execute_result"
    }
   ],
   "source": [
    "_input_data[0:3]"
   ]
  },
  {
   "cell_type": "code",
   "execution_count": 14,
   "metadata": {},
   "outputs": [
    {
     "name": "stdout",
     "output_type": "stream",
     "text": [
      "['aer', 'banknote', 'berlitz', 'calloway', 'centrust', 'cluett', 'fromstein', 'gitano', 'guterman', 'hydro-quebec', 'ipo', 'kia', 'memotec', 'mlx', 'nahb', 'punts', 'rake', 'regatta', 'rubens', 'sim']\n"
     ]
    }
   ],
   "source": [
    "print(id_to_word(_input_data[0,:]))"
   ]
  },
  {
   "cell_type": "markdown",
   "metadata": {},
   "source": [
    "<h3>Embeddings</h3>\n",
    "We have to convert the words in our dataset to vectors of numbers. The traditional approach is to use one-hot encoding method that is usually used for converting categorical values to numerical values. However, One-hot encoded vectors are high-dimensional, sparse and in a big dataset, computationally inefficient. So, we use word2vec approach. It is, in fact, a layer in our LSTM network, where the word IDs will be represented as a dense representation before feeding to the LSTM. \n",
    "\n",
    "The embedded vectors also get updated during the training process of the deep neural network.\n",
    "We create the embeddings for our input data. <b>embedding_vocab</b> is matrix of [10000x200] for all 10000 unique words.\n"
   ]
  },
  {
   "cell_type": "markdown",
   "metadata": {},
   "source": [
    "<b>embedding_lookup()</b> finds the embedded values for our batch of 30x20 words. It  goes to each row of <code>input_data</code>, and for each word in the row/sentence, finds the correspond vector in <code>embedding_dic<code>. <br>\n",
    "It creates a [30x20x200] tensor, so, the first element of <b>inputs</b> (the first sentence), is a matrix of 20x200, which each row of it, is vector representing a word in the sentence.\n"
   ]
  },
  {
   "cell_type": "code",
   "execution_count": 15,
   "metadata": {},
   "outputs": [],
   "source": [
    "embedding_layer = tf.keras.layers.Embedding(vocab_size, embeding_vector_size,batch_input_shape=(batch_size, num_steps),trainable=True,name=\"embedding_vocab\")  "
   ]
  },
  {
   "cell_type": "code",
   "execution_count": 16,
   "metadata": {},
   "outputs": [
    {
     "name": "stderr",
     "output_type": "stream",
     "text": [
      "2024-06-16 11:45:27.870953: I tensorflow/stream_executor/cuda/cuda_gpu_executor.cc:961] could not open file to read NUMA node: /sys/bus/pci/devices/0000:01:00.0/numa_node\n",
      "Your kernel may have been built without NUMA support.\n",
      "2024-06-16 11:45:27.874035: W tensorflow/stream_executor/platform/default/dso_loader.cc:64] Could not load dynamic library 'libcudart.so.11.0'; dlerror: libcudart.so.11.0: cannot open shared object file: No such file or directory\n",
      "2024-06-16 11:45:27.874115: W tensorflow/stream_executor/platform/default/dso_loader.cc:64] Could not load dynamic library 'libcublas.so.11'; dlerror: libcublas.so.11: cannot open shared object file: No such file or directory\n",
      "2024-06-16 11:45:27.874186: W tensorflow/stream_executor/platform/default/dso_loader.cc:64] Could not load dynamic library 'libcublasLt.so.11'; dlerror: libcublasLt.so.11: cannot open shared object file: No such file or directory\n",
      "2024-06-16 11:45:27.874246: W tensorflow/stream_executor/platform/default/dso_loader.cc:64] Could not load dynamic library 'libcufft.so.10'; dlerror: libcufft.so.10: cannot open shared object file: No such file or directory\n",
      "2024-06-16 11:45:27.874341: W tensorflow/stream_executor/platform/default/dso_loader.cc:64] Could not load dynamic library 'libcurand.so.10'; dlerror: libcurand.so.10: cannot open shared object file: No such file or directory\n",
      "2024-06-16 11:45:27.874411: W tensorflow/stream_executor/platform/default/dso_loader.cc:64] Could not load dynamic library 'libcusolver.so.11'; dlerror: libcusolver.so.11: cannot open shared object file: No such file or directory\n",
      "2024-06-16 11:45:27.874470: W tensorflow/stream_executor/platform/default/dso_loader.cc:64] Could not load dynamic library 'libcusparse.so.11'; dlerror: libcusparse.so.11: cannot open shared object file: No such file or directory\n",
      "2024-06-16 11:45:27.874527: W tensorflow/stream_executor/platform/default/dso_loader.cc:64] Could not load dynamic library 'libcudnn.so.8'; dlerror: libcudnn.so.8: cannot open shared object file: No such file or directory\n",
      "2024-06-16 11:45:27.874545: W tensorflow/core/common_runtime/gpu/gpu_device.cc:1850] Cannot dlopen some GPU libraries. Please make sure the missing libraries mentioned above are installed properly if you would like to use GPU. Follow the guide at https://www.tensorflow.org/install/gpu for how to download and setup the required libraries for your platform.\n",
      "Skipping registering GPU devices...\n",
      "2024-06-16 11:45:27.875597: I tensorflow/core/platform/cpu_feature_guard.cc:193] This TensorFlow binary is optimized with oneAPI Deep Neural Network Library (oneDNN) to use the following CPU instructions in performance-critical operations:  AVX2 FMA\n",
      "To enable them in other operations, rebuild TensorFlow with the appropriate compiler flags.\n"
     ]
    },
    {
     "data": {
      "text/plain": [
       "<tf.Tensor: shape=(30, 20, 200), dtype=float32, numpy=\n",
       "array([[[ 0.00843611, -0.01219351, -0.0038744 , ..., -0.0390128 ,\n",
       "         -0.041238  ,  0.04473485],\n",
       "        [-0.04765476, -0.02163219, -0.00542708, ..., -0.01318236,\n",
       "          0.02590725,  0.0306729 ],\n",
       "        [ 0.02359618,  0.03711314,  0.02680511, ...,  0.04828065,\n",
       "          0.03223801, -0.03735813],\n",
       "        ...,\n",
       "        [-0.03790847, -0.03740015,  0.01178044, ..., -0.04469879,\n",
       "         -0.02790401,  0.04804501],\n",
       "        [-0.0159222 ,  0.02228394,  0.02634606, ...,  0.03557023,\n",
       "         -0.04596089, -0.01537292],\n",
       "        [ 0.02986188,  0.0142107 ,  0.03926207, ..., -0.03552683,\n",
       "          0.00866479, -0.00296676]],\n",
       "\n",
       "       [[ 0.0100686 ,  0.04931417,  0.01284796, ...,  0.03607522,\n",
       "          0.0040713 , -0.02397559],\n",
       "        [-0.04056497, -0.03812686, -0.02642941, ..., -0.03665758,\n",
       "          0.01610697, -0.04690177],\n",
       "        [ 0.0295154 , -0.02209808, -0.00525028, ...,  0.00068193,\n",
       "          0.02066741, -0.03867822],\n",
       "        ...,\n",
       "        [ 0.02631683,  0.02676335, -0.01883548, ..., -0.03859053,\n",
       "          0.03446922, -0.02323586],\n",
       "        [ 0.01653353,  0.0111837 , -0.01514963, ..., -0.04698746,\n",
       "          0.04247619,  0.04290679],\n",
       "        [ 0.03682283,  0.04376509, -0.0431575 , ...,  0.03605913,\n",
       "          0.01499927,  0.04022591]],\n",
       "\n",
       "       [[-0.03342676, -0.00075787,  0.00531427, ...,  0.02216364,\n",
       "         -0.01175349, -0.01147664],\n",
       "        [ 0.04766115,  0.01644905,  0.01013187, ..., -0.03469957,\n",
       "          0.02984879, -0.04518117],\n",
       "        [ 0.04889616, -0.04821851,  0.03040193, ..., -0.01213843,\n",
       "         -0.03519678, -0.0325524 ],\n",
       "        ...,\n",
       "        [-0.0201097 , -0.00441978,  0.03501273, ...,  0.01081527,\n",
       "         -0.0454532 , -0.00050448],\n",
       "        [ 0.0198288 , -0.02426757,  0.03076415, ...,  0.0030385 ,\n",
       "         -0.03425344,  0.01947277],\n",
       "        [ 0.01254356, -0.04815523, -0.03632908, ..., -0.03901236,\n",
       "         -0.02372025,  0.03354974]],\n",
       "\n",
       "       ...,\n",
       "\n",
       "       [[-0.00031265,  0.03982296, -0.01014403, ...,  0.02635073,\n",
       "         -0.01561452, -0.02344743],\n",
       "        [-0.02507303,  0.00827855, -0.02712368, ..., -0.03443807,\n",
       "         -0.04516227,  0.01881215],\n",
       "        [ 0.02294112, -0.04721555,  0.03757441, ..., -0.02589243,\n",
       "         -0.0060153 , -0.02442986],\n",
       "        ...,\n",
       "        [-0.0391591 , -0.04699725,  0.02322089, ..., -0.03470155,\n",
       "          0.02248479,  0.01865088],\n",
       "        [-0.03322855,  0.04444248, -0.02747822, ...,  0.00728904,\n",
       "          0.01069863, -0.02629488],\n",
       "        [-0.01677923,  0.00770443,  0.02213348, ..., -0.04377453,\n",
       "         -0.04396447, -0.01878926]],\n",
       "\n",
       "       [[ 0.03760726,  0.00414467,  0.0216012 , ..., -0.03737921,\n",
       "         -0.01071073,  0.03452836],\n",
       "        [ 0.00459106,  0.01768753,  0.02001122, ...,  0.03296879,\n",
       "         -0.02810022, -0.02800785],\n",
       "        [ 0.04889616, -0.04821851,  0.03040193, ..., -0.01213843,\n",
       "         -0.03519678, -0.0325524 ],\n",
       "        ...,\n",
       "        [ 0.0102572 ,  0.00913382,  0.0243772 , ...,  0.03762909,\n",
       "          0.04120798, -0.00280759],\n",
       "        [-0.04056497, -0.03812686, -0.02642941, ..., -0.03665758,\n",
       "          0.01610697, -0.04690177],\n",
       "        [ 0.012008  , -0.00694672, -0.01086603, ..., -0.03862457,\n",
       "          0.02137278,  0.0234126 ]],\n",
       "\n",
       "       [[ 0.0343623 ,  0.01747696, -0.03067127, ...,  0.00672419,\n",
       "          0.01746087, -0.02254407],\n",
       "        [-0.00198536, -0.01579738, -0.00589097, ..., -0.01381712,\n",
       "         -0.01819391,  0.02573195],\n",
       "        [ 0.02269938, -0.04476256,  0.01925316, ..., -0.01379794,\n",
       "          0.04924509,  0.0292585 ],\n",
       "        ...,\n",
       "        [ 0.04815536, -0.04917506,  0.04335881, ...,  0.02147285,\n",
       "          0.0272707 , -0.04925035],\n",
       "        [-0.01154144, -0.00715486, -0.03880812, ..., -0.00549408,\n",
       "         -0.00286216, -0.04909184],\n",
       "        [-0.01616482, -0.01063382,  0.0173786 , ..., -0.0370675 ,\n",
       "          0.01292226, -0.01076499]]], dtype=float32)>"
      ]
     },
     "execution_count": 16,
     "metadata": {},
     "output_type": "execute_result"
    }
   ],
   "source": [
    "# Define where to get the data for our embeddings from\n",
    "inputs = embedding_layer(_input_data)\n",
    "inputs"
   ]
  },
  {
   "cell_type": "markdown",
   "metadata": {},
   "source": [
    "<h3>Constructing Recurrent Neural Networks</h3>\n"
   ]
  },
  {
   "cell_type": "markdown",
   "metadata": {},
   "source": [
    "In this step, we create the stacked LSTM using <b>tf.keras.layers.StackedRNNCells</b>, which is a 2 layer LSTM network:\n"
   ]
  },
  {
   "cell_type": "code",
   "execution_count": 17,
   "metadata": {},
   "outputs": [],
   "source": [
    "lstm_cell_l1 = tf.keras.layers.LSTMCell(hidden_size_l1)\n",
    "lstm_cell_l2 = tf.keras.layers.LSTMCell(hidden_size_l2)"
   ]
  },
  {
   "cell_type": "code",
   "execution_count": 18,
   "metadata": {},
   "outputs": [],
   "source": [
    "stacked_lstm = tf.keras.layers.StackedRNNCells([lstm_cell_l1, lstm_cell_l2])"
   ]
  },
  {
   "cell_type": "markdown",
   "metadata": {},
   "source": [
    "<b>tf.keras.layers.RNN</b> creates a recurrent neural network using <b>stacked_lstm</b>. \n",
    "\n",
    "The input should be a Tensor of shape: [batch_size, max_time, embedding_vector_size], in our case it would be (30, 20, 200)\n"
   ]
  },
  {
   "cell_type": "code",
   "execution_count": 19,
   "metadata": {},
   "outputs": [],
   "source": [
    "layer  =  tf.keras.layers.RNN(stacked_lstm,[batch_size, num_steps],return_state=False,stateful=True,trainable=True)"
   ]
  },
  {
   "cell_type": "markdown",
   "metadata": {},
   "source": [
    "Also, we initialize the states of the nework:\n",
    "\n",
    "<h4>_initial_state</h4>\n",
    "\n",
    "For each LSTM, there are 2 state matrices, c\\_state and m\\_state.  c_state and m_state represent \"Memory State\" and \"Cell State\". Each hidden layer, has a vector of size 30, which keeps the states. so, for 200 hidden units in each LSTM, we have a matrix of size [30x200]\n"
   ]
  },
  {
   "cell_type": "code",
   "execution_count": 20,
   "metadata": {},
   "outputs": [],
   "source": [
    "init_state = tf.Variable(tf.zeros([batch_size,embeding_vector_size]),trainable=False)"
   ]
  },
  {
   "cell_type": "code",
   "execution_count": 21,
   "metadata": {},
   "outputs": [],
   "source": [
    "layer.inital_state = init_state"
   ]
  },
  {
   "cell_type": "code",
   "execution_count": 22,
   "metadata": {},
   "outputs": [
    {
     "data": {
      "text/plain": [
       "<tf.Variable 'Variable:0' shape=(30, 200) dtype=float32, numpy=\n",
       "array([[0., 0., 0., ..., 0., 0., 0.],\n",
       "       [0., 0., 0., ..., 0., 0., 0.],\n",
       "       [0., 0., 0., ..., 0., 0., 0.],\n",
       "       ...,\n",
       "       [0., 0., 0., ..., 0., 0., 0.],\n",
       "       [0., 0., 0., ..., 0., 0., 0.],\n",
       "       [0., 0., 0., ..., 0., 0., 0.]], dtype=float32)>"
      ]
     },
     "execution_count": 22,
     "metadata": {},
     "output_type": "execute_result"
    }
   ],
   "source": [
    "layer.inital_state"
   ]
  },
  {
   "cell_type": "markdown",
   "metadata": {},
   "source": [
    "so, lets look at the outputs. The output of the stackedLSTM comes from 128 hidden_layer, and in each time step(=20), one of them get activated. we use the linear activation to map the 128 hidden layer to a [30X20 matrix]\n"
   ]
  },
  {
   "cell_type": "code",
   "execution_count": 23,
   "metadata": {},
   "outputs": [],
   "source": [
    "outputs = layer(inputs)"
   ]
  },
  {
   "cell_type": "code",
   "execution_count": 24,
   "metadata": {},
   "outputs": [
    {
     "data": {
      "text/plain": [
       "<tf.Tensor: shape=(30, 20, 128), dtype=float32, numpy=\n",
       "array([[[ 1.51085726e-03,  1.01502787e-03, -7.94875668e-04, ...,\n",
       "          1.59097137e-03, -3.09209834e-04,  1.31721597e-03],\n",
       "        [-6.33234973e-04,  2.70133559e-03, -4.94238571e-04, ...,\n",
       "          3.01434193e-03, -1.09654742e-04,  2.14942801e-03],\n",
       "        [-1.72592863e-03,  3.08498368e-03, -2.57182022e-04, ...,\n",
       "          3.19692260e-03, -9.72932030e-04,  1.11880642e-03],\n",
       "        ...,\n",
       "        [-1.02324884e-04, -5.05517470e-04,  1.12384412e-04, ...,\n",
       "         -4.67452873e-03,  1.24276790e-03,  3.16296262e-03],\n",
       "        [-8.39476706e-04, -6.72631868e-05, -5.71071869e-04, ...,\n",
       "         -4.83322982e-03,  1.78028538e-03,  2.76011205e-03],\n",
       "        [-1.36531296e-03, -3.85900930e-04, -8.21411959e-04, ...,\n",
       "         -4.53912839e-03,  2.60488759e-03,  2.45621731e-03]],\n",
       "\n",
       "       [[-6.78584271e-04, -3.13341501e-04, -5.22678363e-07, ...,\n",
       "          5.82193788e-05,  9.74578725e-05, -2.30200210e-04],\n",
       "        [-2.23830645e-03, -1.05521944e-03, -1.58400198e-05, ...,\n",
       "         -1.06132165e-05,  1.27148014e-04, -9.80984652e-04],\n",
       "        [-2.80551077e-03, -1.10764848e-03,  2.08018697e-03, ...,\n",
       "         -4.08116903e-04, -4.28415864e-04, -7.29667547e-04],\n",
       "        ...,\n",
       "        [-7.42037082e-03, -5.20485686e-03, -2.96871271e-03, ...,\n",
       "          5.07573970e-03,  8.61914456e-03, -6.27402973e-04],\n",
       "        [-7.60042015e-03, -4.89746407e-03, -3.81623930e-03, ...,\n",
       "          4.60229954e-03,  8.41336511e-03,  4.26481740e-04],\n",
       "        [-7.40643078e-03, -4.79539065e-03, -4.96144220e-03, ...,\n",
       "          4.74474765e-03,  8.24627187e-03,  1.25424133e-03]],\n",
       "\n",
       "       [[-6.99282828e-05,  1.04246115e-04, -8.53794452e-04, ...,\n",
       "          4.28641943e-04, -7.47445913e-04,  1.08216191e-03],\n",
       "        [ 4.91781568e-04, -2.11595878e-04, -1.79962593e-03, ...,\n",
       "          5.03671239e-04, -1.25924684e-03,  2.26530177e-03],\n",
       "        [ 8.86572525e-06, -1.75941305e-03, -1.91574916e-03, ...,\n",
       "          5.33715240e-04, -1.53218093e-03,  2.33719102e-03],\n",
       "        ...,\n",
       "        [ 3.35391960e-03, -4.82546678e-03,  3.85346852e-04, ...,\n",
       "          1.55561778e-03,  6.15573023e-03, -7.16875028e-03],\n",
       "        [ 2.60497793e-03, -4.81271092e-03, -5.02320880e-04, ...,\n",
       "          2.37235124e-03,  5.67710865e-03, -7.64082465e-03],\n",
       "        [ 9.60152538e-04, -6.05280045e-03, -4.75333742e-04, ...,\n",
       "          2.17104866e-03,  4.64190869e-03, -7.37819076e-03]],\n",
       "\n",
       "       ...,\n",
       "\n",
       "       [[ 1.02849875e-03,  6.21646526e-04, -3.83095787e-04, ...,\n",
       "          3.06117174e-04,  1.43636949e-03,  2.16307439e-04],\n",
       "        [ 2.20964733e-03,  2.01056222e-03,  2.09740945e-04, ...,\n",
       "          2.62837787e-03,  3.62458080e-03, -9.35525823e-05],\n",
       "        [ 1.35942316e-03,  2.12649209e-03,  1.59175752e-03, ...,\n",
       "          4.25240304e-03,  4.38713981e-03, -1.13077019e-03],\n",
       "        ...,\n",
       "        [ 1.71660540e-05, -5.75653790e-03,  1.29650114e-03, ...,\n",
       "          3.35676625e-04, -3.83884110e-03, -5.40678250e-03],\n",
       "        [ 6.88217173e-04, -5.63664502e-03,  1.76529645e-03, ...,\n",
       "         -9.73929476e-04, -3.23181646e-03, -6.81277690e-03],\n",
       "        [ 3.14634410e-04, -4.01911000e-03,  2.85469717e-03, ...,\n",
       "         -3.21489945e-03, -2.20615417e-03, -8.52135662e-03]],\n",
       "\n",
       "       [[ 4.30877903e-04, -1.15061463e-04,  1.43941189e-03, ...,\n",
       "         -1.71413017e-03,  1.29809673e-03, -2.36065898e-04],\n",
       "        [ 7.91424769e-04, -1.07807189e-03,  2.71149748e-03, ...,\n",
       "         -1.94379559e-03,  2.60855490e-03,  7.53805391e-04],\n",
       "        [-8.96309211e-05, -2.74218782e-03,  3.41985235e-03, ...,\n",
       "         -2.03280593e-03,  2.73493328e-03,  1.21351564e-03],\n",
       "        ...,\n",
       "        [ 3.81250097e-03, -2.35358835e-03, -5.16803237e-03, ...,\n",
       "          2.53435131e-03,  1.29208399e-03,  7.55004818e-03],\n",
       "        [ 1.80534925e-03, -2.37546908e-03, -4.85802488e-03, ...,\n",
       "          2.10278830e-03,  5.63474547e-04,  7.02146301e-03],\n",
       "        [ 1.21641802e-04, -4.65568760e-03, -5.55099361e-03, ...,\n",
       "          2.51908135e-03,  5.17636829e-04,  4.47009271e-03]],\n",
       "\n",
       "       [[-3.83629304e-05,  8.35770043e-05, -5.49940101e-04, ...,\n",
       "         -3.66784370e-04,  1.05639757e-03, -4.64072480e-04],\n",
       "        [-4.38374176e-04, -7.00389326e-04, -2.76114239e-04, ...,\n",
       "         -3.17958271e-04,  1.40401069e-03,  7.62627053e-04],\n",
       "        [ 1.70265586e-04, -1.63539371e-03,  2.43414950e-04, ...,\n",
       "         -7.73939770e-04,  1.41811743e-03,  2.19054567e-03],\n",
       "        ...,\n",
       "        [-3.65588698e-03, -6.48755487e-03, -2.39359841e-04, ...,\n",
       "          2.74422788e-03,  4.57979925e-03,  2.64673634e-03],\n",
       "        [-4.42571845e-03, -7.80238817e-03,  1.10971407e-04, ...,\n",
       "          3.55245778e-03,  6.90626865e-03,  4.75963671e-03],\n",
       "        [-5.30337263e-03, -6.91807689e-03,  1.01701671e-03, ...,\n",
       "          2.17743241e-03,  8.00648984e-03,  6.85283309e-03]]],\n",
       "      dtype=float32)>"
      ]
     },
     "execution_count": 24,
     "metadata": {},
     "output_type": "execute_result"
    }
   ],
   "source": [
    "outputs"
   ]
  },
  {
   "cell_type": "markdown",
   "metadata": {},
   "source": [
    "<h2>Dense layer</h2>\n",
    "We now create densely-connected neural network layer that would reshape the outputs tensor from  [30 x 20 x 128] to [30 x 20 x 10000].\n"
   ]
  },
  {
   "cell_type": "code",
   "execution_count": 25,
   "metadata": {},
   "outputs": [],
   "source": [
    "dense = tf.keras.layers.Dense(vocab_size)"
   ]
  },
  {
   "cell_type": "code",
   "execution_count": 26,
   "metadata": {},
   "outputs": [],
   "source": [
    "logits_outputs  = dense(outputs)"
   ]
  },
  {
   "cell_type": "code",
   "execution_count": 27,
   "metadata": {},
   "outputs": [
    {
     "name": "stdout",
     "output_type": "stream",
     "text": [
      "shape of the output from dense layer:  (30, 20, 10000)\n"
     ]
    }
   ],
   "source": [
    "print(\"shape of the output from dense layer: \", logits_outputs.shape) #(batch_size, sequence_length, vocab_size)"
   ]
  },
  {
   "cell_type": "markdown",
   "metadata": {},
   "source": [
    "<h2>Activation layer</h2>\n",
    "\n",
    "\n",
    "A softmax activation layers is also then applied to derive the probability of the output being in any of the multiclass(10000 in this case) possibilities. \n"
   ]
  },
  {
   "cell_type": "code",
   "execution_count": 28,
   "metadata": {},
   "outputs": [],
   "source": [
    "activation = tf.keras.layers.Activation('softmax')"
   ]
  },
  {
   "cell_type": "code",
   "execution_count": 29,
   "metadata": {},
   "outputs": [],
   "source": [
    "output_words_prob = activation(logits_outputs)"
   ]
  },
  {
   "cell_type": "code",
   "execution_count": 30,
   "metadata": {},
   "outputs": [
    {
     "name": "stdout",
     "output_type": "stream",
     "text": [
      "shape of the output from the activation layer:  (30, 20, 10000)\n"
     ]
    }
   ],
   "source": [
    "print(\"shape of the output from the activation layer: \", output_words_prob.shape) #(batch_size, sequence_length, vocab_size)"
   ]
  },
  {
   "cell_type": "markdown",
   "metadata": {},
   "source": [
    "Lets look at the probability of observing words for t=0 to t=20:\n"
   ]
  },
  {
   "cell_type": "code",
   "execution_count": 31,
   "metadata": {},
   "outputs": [
    {
     "name": "stdout",
     "output_type": "stream",
     "text": [
      "The probability of observing words in t=0 to t=20 tf.Tensor(\n",
      "[[9.99912954e-05 9.99841141e-05 1.00018129e-04 ... 1.00010708e-04\n",
      "  1.00010431e-04 9.99972035e-05]\n",
      " [9.99957338e-05 9.99732074e-05 9.99831536e-05 ... 9.99998447e-05\n",
      "  1.00032274e-04 9.99909316e-05]\n",
      " [9.99852127e-05 9.99644617e-05 9.99559561e-05 ... 9.99755866e-05\n",
      "  1.00044133e-04 1.00003876e-04]\n",
      " ...\n",
      " [1.00014673e-04 9.99500917e-05 1.00061850e-04 ... 9.99867261e-05\n",
      "  1.00024117e-04 1.00046243e-04]\n",
      " [1.00034129e-04 9.99508484e-05 1.00042649e-04 ... 9.99913245e-05\n",
      "  1.00012956e-04 1.00014506e-04]\n",
      " [1.00041492e-04 9.99396580e-05 1.00021796e-04 ... 1.00003388e-04\n",
      "  1.00008467e-04 1.00000798e-04]], shape=(20, 10000), dtype=float32)\n"
     ]
    }
   ],
   "source": [
    "print(\"The probability of observing words in t=0 to t=20\", output_words_prob[0,0:num_steps])"
   ]
  },
  {
   "cell_type": "markdown",
   "metadata": {},
   "source": [
    "<h3>Prediction</h3>\n",
    "What is the word correspond to the probability output? Lets use the maximum probability:\n"
   ]
  },
  {
   "cell_type": "code",
   "execution_count": 32,
   "metadata": {},
   "outputs": [
    {
     "data": {
      "text/plain": [
       "array([ 495,  986, 7226, 8684, 9832, 1891, 1891, 1891, 1891, 1891, 1891,\n",
       "       1891, 3385, 9235, 9235, 9235, 7400, 9928, 9928, 6904])"
      ]
     },
     "execution_count": 32,
     "metadata": {},
     "output_type": "execute_result"
    }
   ],
   "source": [
    "np.argmax(output_words_prob[0,0:num_steps], axis=1)"
   ]
  },
  {
   "cell_type": "markdown",
   "metadata": {},
   "source": [
    "So, what is the ground truth for the first word of first sentence? You can get it from target tensor, if you want to find the embedding vector: \n"
   ]
  },
  {
   "cell_type": "code",
   "execution_count": 33,
   "metadata": {},
   "outputs": [
    {
     "data": {
      "text/plain": [
       "array([9971, 9972, 9974, 9975, 9976, 9980, 9981, 9982, 9983, 9984, 9986,\n",
       "       9987, 9988, 9989, 9991, 9992, 9993, 9994, 9995, 9996], dtype=int32)"
      ]
     },
     "execution_count": 33,
     "metadata": {},
     "output_type": "execute_result"
    }
   ],
   "source": [
    "_targets[0]"
   ]
  },
  {
   "cell_type": "markdown",
   "metadata": {},
   "source": [
    "<h4>Objective function</h4>\n",
    "\n",
    "\n",
    "How similar the predicted words are to the target words?\n",
    "\n",
    "\n",
    "Now we have to define our objective function, to calculate the similarity of predicted values to ground truth, and then, penalize the model with the error. Our objective is to minimize loss function, that is, to minimize the average negative log probability of the target words:\n",
    "\n",
    "$$\\text{loss} = -\\frac{1}{N}\\sum_{i=1}^{N} \\ln p_{\\text{target}_i}$$\n",
    "\n",
    "This function is already implemented and available in TensorFlow through *tf.keras.losses.sparse_categorical_crossentropy*. It calculates the categorical cross-entropy loss for <b>logits</b> and the <b>target</b> sequence.  \n",
    "\n",
    "The arguments of this function are:  \n",
    "<ul>\n",
    "    <li>logits: List of 2D Tensors of shape [batch_size x num_decoder_symbols].</li>  \n",
    "    <li>targets: List of 1D batch-sized int32 Tensors of the same length as logits.</li>   \n",
    "</ul>\n"
   ]
  },
  {
   "cell_type": "code",
   "execution_count": 34,
   "metadata": {},
   "outputs": [],
   "source": [
    "def crossentropy(y_true, y_pred):\n",
    "    return tf.keras.losses.sparse_categorical_crossentropy(y_true, y_pred)"
   ]
  },
  {
   "cell_type": "code",
   "execution_count": 35,
   "metadata": {},
   "outputs": [],
   "source": [
    "loss  = crossentropy(_targets, output_words_prob)"
   ]
  },
  {
   "cell_type": "markdown",
   "metadata": {},
   "source": [
    "Lets look at the first 10 values of loss:\n"
   ]
  },
  {
   "cell_type": "code",
   "execution_count": 36,
   "metadata": {},
   "outputs": [
    {
     "data": {
      "text/plain": [
       "<tf.Tensor: shape=(10,), dtype=float32, numpy=\n",
       "array([9.210333, 9.210375, 9.210701, 9.209871, 9.21096 , 9.209991,\n",
       "       9.210178, 9.210489, 9.210176, 9.21036 ], dtype=float32)>"
      ]
     },
     "execution_count": 36,
     "metadata": {},
     "output_type": "execute_result"
    }
   ],
   "source": [
    "loss[0,:10]"
   ]
  },
  {
   "cell_type": "markdown",
   "metadata": {},
   "source": [
    "Now, we define cost as average of the losses:\n"
   ]
  },
  {
   "cell_type": "code",
   "execution_count": 37,
   "metadata": {},
   "outputs": [
    {
     "data": {
      "text/plain": [
       "<tf.Tensor: shape=(), dtype=float32, numpy=184.20645>"
      ]
     },
     "execution_count": 37,
     "metadata": {},
     "output_type": "execute_result"
    }
   ],
   "source": [
    "cost = tf.reduce_sum(loss / batch_size)\n",
    "cost"
   ]
  },
  {
   "cell_type": "markdown",
   "metadata": {},
   "source": [
    "<h3>Training</h3>\n",
    "\n",
    "To do training for our network, we have to take the following steps:\n",
    "<ol>\n",
    "    <li>Define the optimizer.</li>\n",
    "    <li>Assemble layers to build model.</li>\n",
    "    <li>Calculate the gradients based on the loss function.</li>\n",
    "    <li>Apply the optimizer to the variables/gradients tuple.</li>\n",
    "</ol>\n"
   ]
  },
  {
   "cell_type": "markdown",
   "metadata": {},
   "source": [
    "<h4>1. Define Optimizer</h4>\n",
    "\n"
   ]
  },
  {
   "cell_type": "code",
   "execution_count": 38,
   "metadata": {},
   "outputs": [
    {
     "name": "stderr",
     "output_type": "stream",
     "text": [
      "/home/mj/.local/lib/python3.10/site-packages/keras/optimizers/optimizer_v2/gradient_descent.py:108: UserWarning: The `lr` argument is deprecated, use `learning_rate` instead.\n",
      "  super(SGD, self).__init__(name, **kwargs)\n"
     ]
    }
   ],
   "source": [
    "# Create a variable for the learning rate\n",
    "lr = tf.Variable(0.0, trainable=False)\n",
    "optimizer = tf.keras.optimizers.SGD(lr=lr, clipnorm=max_grad_norm)"
   ]
  },
  {
   "cell_type": "markdown",
   "metadata": {},
   "source": [
    "<h4>2. Assemble layers to build model.</h4>\n"
   ]
  },
  {
   "cell_type": "code",
   "execution_count": 39,
   "metadata": {},
   "outputs": [
    {
     "name": "stdout",
     "output_type": "stream",
     "text": [
      "Model: \"sequential\"\n",
      "_________________________________________________________________\n",
      " Layer (type)                Output Shape              Param #   \n",
      "=================================================================\n",
      " embedding_vocab (Embedding)  (30, 20, 200)            2000000   \n",
      "                                                                 \n",
      " rnn (RNN)                   (30, 20, 128)             671088    \n",
      "                                                                 \n",
      " dense (Dense)               (30, 20, 10000)           1290000   \n",
      "                                                                 \n",
      " activation (Activation)     (30, 20, 10000)           0         \n",
      "                                                                 \n",
      "=================================================================\n",
      "Total params: 3,961,088\n",
      "Trainable params: 3,955,088\n",
      "Non-trainable params: 6,000\n",
      "_________________________________________________________________\n"
     ]
    }
   ],
   "source": [
    "model = tf.keras.Sequential()\n",
    "model.add(embedding_layer)\n",
    "model.add(layer)\n",
    "model.add(dense)\n",
    "model.add(activation)\n",
    "model.compile(loss=crossentropy, optimizer=optimizer)\n",
    "model.summary()"
   ]
  },
  {
   "cell_type": "markdown",
   "metadata": {},
   "source": [
    "\n",
    "<h4>2. Trainable Variables</h4>\n"
   ]
  },
  {
   "cell_type": "markdown",
   "metadata": {},
   "source": [
    "Defining a variable, if you passed <i>trainable=True</i>, the variable constructor automatically adds new variables to the graph collection <b>GraphKeys.TRAINABLE_VARIABLES</b>. Now, using <i>tf.trainable_variables()</i> you can get all variables created with <b>trainable=True</b>.\n"
   ]
  },
  {
   "cell_type": "code",
   "execution_count": 40,
   "metadata": {},
   "outputs": [],
   "source": [
    "# Get all TensorFlow variables marked as \"trainable\" (i.e. all of them except _lr, which we just created)\n",
    "tvars = model.trainable_variables"
   ]
  },
  {
   "cell_type": "markdown",
   "metadata": {},
   "source": [
    "Note: we can find the name and scope of all variables:\n"
   ]
  },
  {
   "cell_type": "code",
   "execution_count": 41,
   "metadata": {},
   "outputs": [
    {
     "data": {
      "text/plain": [
       "['embedding_vocab/embeddings:0',\n",
       " 'rnn/stacked_rnn_cells/lstm_cell/kernel:0',\n",
       " 'rnn/stacked_rnn_cells/lstm_cell/recurrent_kernel:0',\n",
       " 'rnn/stacked_rnn_cells/lstm_cell/bias:0',\n",
       " 'rnn/stacked_rnn_cells/lstm_cell_1/kernel:0',\n",
       " 'rnn/stacked_rnn_cells/lstm_cell_1/recurrent_kernel:0',\n",
       " 'rnn/stacked_rnn_cells/lstm_cell_1/bias:0',\n",
       " 'dense/kernel:0',\n",
       " 'dense/bias:0']"
      ]
     },
     "execution_count": 41,
     "metadata": {},
     "output_type": "execute_result"
    }
   ],
   "source": [
    "[v.name for v in tvars] "
   ]
  },
  {
   "cell_type": "markdown",
   "metadata": {},
   "source": [
    "<h4>3. Calculate the gradients based on the loss function</h4>\n"
   ]
  },
  {
   "cell_type": "markdown",
   "metadata": {},
   "source": [
    "**Gradient**: The gradient of a function is the slope of its derivative (line), or in other words, the rate of change of a function. It's a vector (a direction to move) that points in the direction of greatest increase of the function, and calculated by the <b>derivative</b> operation.\n"
   ]
  },
  {
   "cell_type": "markdown",
   "metadata": {},
   "source": [
    "First lets recall the gradient function using an toy example:\n",
    "$$ z = \\left(2x^2 + 3xy\\right)$$\n"
   ]
  },
  {
   "cell_type": "code",
   "execution_count": 42,
   "metadata": {},
   "outputs": [],
   "source": [
    "x = tf.constant(1.0)\n",
    "y =  tf.constant(2.0)\n",
    "with tf.GradientTape(persistent=True) as g:\n",
    "    g.watch(x)\n",
    "    g.watch(y)\n",
    "    func_test = 2 * x * x + 3 * x * y"
   ]
  },
  {
   "cell_type": "markdown",
   "metadata": {},
   "source": [
    "The <b>tf.gradients()</b> function allows you to compute the symbolic gradient of one tensor with respect to one or more other tensors—including variables. <b>tf.gradients(func, xs)</b> constructs symbolic partial derivatives of sum of <b>func</b> w.r.t. <i>x</i> in <b>xs</b>. \n",
    "\n",
    "Now, lets look at the derivitive w.r.t. <b>var_x</b>:\n",
    "$$ \\frac{\\partial \\:}{\\partial \\:x}\\left(2x^2 + 3xy\\right) = 4x + 3y $$\n"
   ]
  },
  {
   "cell_type": "code",
   "execution_count": 43,
   "metadata": {},
   "outputs": [
    {
     "name": "stdout",
     "output_type": "stream",
     "text": [
      "tf.Tensor(10.0, shape=(), dtype=float32)\n"
     ]
    }
   ],
   "source": [
    "var_grad = g.gradient(func_test, x) # Will compute to 10.0\n",
    "print(var_grad)"
   ]
  },
  {
   "cell_type": "markdown",
   "metadata": {},
   "source": [
    "the derivative w.r.t. <b>var_y</b>:\n",
    "$$ \\frac{\\partial \\:}{\\partial \\:y}\\left(2x^2 + 3xy\\right) = 3x $$\n"
   ]
  },
  {
   "cell_type": "code",
   "execution_count": 44,
   "metadata": {},
   "outputs": [
    {
     "name": "stdout",
     "output_type": "stream",
     "text": [
      "tf.Tensor(3.0, shape=(), dtype=float32)\n"
     ]
    }
   ],
   "source": [
    "var_grad = g.gradient(func_test, y) # Will compute to 3.0\n",
    "print(var_grad)"
   ]
  },
  {
   "cell_type": "markdown",
   "metadata": {},
   "source": [
    "Now, we can look at gradients w.r.t all variables:\n"
   ]
  },
  {
   "cell_type": "code",
   "execution_count": 45,
   "metadata": {},
   "outputs": [],
   "source": [
    "with tf.GradientTape() as tape:\n",
    "    # Forward pass.\n",
    "    output_words_prob = model(_input_data)\n",
    "    # Loss value for this batch.\n",
    "    loss  = crossentropy(_targets, output_words_prob)\n",
    "    cost = tf.reduce_sum(loss,axis=0) / batch_size"
   ]
  },
  {
   "cell_type": "code",
   "execution_count": 46,
   "metadata": {},
   "outputs": [],
   "source": [
    "# Get gradients of loss wrt the trainable variables.\n",
    "grad_t_list = tape.gradient(cost, tvars)"
   ]
  },
  {
   "cell_type": "code",
   "execution_count": 47,
   "metadata": {},
   "outputs": [
    {
     "name": "stdout",
     "output_type": "stream",
     "text": [
      "[<tensorflow.python.framework.indexed_slices.IndexedSlices object at 0x7fc46c7cf880>, <tf.Tensor: shape=(200, 1024), dtype=float32, numpy=\n",
      "array([[ 2.84334476e-07, -8.82195650e-10, -5.78136849e-07, ...,\n",
      "         4.69150585e-09,  4.33341683e-07, -3.56771096e-07],\n",
      "       [ 9.71484724e-07, -1.61421909e-07, -2.02754720e-07, ...,\n",
      "         7.95864707e-08, -4.43399486e-08,  5.42421162e-07],\n",
      "       [-2.63356640e-07,  8.53317488e-08,  9.67569207e-08, ...,\n",
      "         2.48494615e-07,  3.94878526e-07,  4.05437390e-08],\n",
      "       ...,\n",
      "       [-8.93576612e-07,  4.49489931e-07,  2.30770567e-07, ...,\n",
      "         5.44578356e-08, -1.04862664e-07, -1.71626795e-07],\n",
      "       [ 2.08285019e-06, -1.58859109e-07, -3.04502379e-08, ...,\n",
      "         8.60729017e-08, -4.17326447e-07, -1.03155031e-08],\n",
      "       [ 7.65794027e-07,  5.28925796e-07,  3.36325485e-07, ...,\n",
      "         2.66213249e-07, -1.62109473e-07,  6.93928484e-07]], dtype=float32)>, <tf.Tensor: shape=(256, 1024), dtype=float32, numpy=\n",
      "array([[-9.47929735e-09, -2.08053628e-08, -7.77744518e-08, ...,\n",
      "        -1.69888310e-07,  1.29736932e-08, -9.39494811e-08],\n",
      "       [-1.98181567e-07,  7.27755811e-09, -1.36711726e-08, ...,\n",
      "        -1.16825504e-07, -1.64395800e-07,  1.69970882e-08],\n",
      "       [ 1.47492116e-08,  6.64299762e-08, -9.83174431e-08, ...,\n",
      "         1.73149530e-08, -7.86077266e-08, -3.81494019e-08],\n",
      "       ...,\n",
      "       [-2.52957761e-07, -5.03207005e-08,  3.43963258e-08, ...,\n",
      "        -1.66409919e-07,  3.80910983e-08, -7.26109448e-08],\n",
      "       [-7.41099484e-08,  1.06055673e-07, -5.78235309e-08, ...,\n",
      "        -3.20080673e-09,  3.40533916e-07, -7.47380184e-08],\n",
      "       [-2.14681066e-07,  5.71561571e-08, -1.30509790e-07, ...,\n",
      "        -5.29070725e-08, -1.15064331e-07,  2.25599422e-07]], dtype=float32)>, <tf.Tensor: shape=(1024,), dtype=float32, numpy=\n",
      "array([-2.0656636e-05, -8.3299292e-06,  2.0688745e-05, ...,\n",
      "       -1.8008932e-05,  2.3742567e-05, -5.8953901e-06], dtype=float32)>, <tf.Tensor: shape=(256, 512), dtype=float32, numpy=\n",
      "array([[ 9.10699498e-08, -1.17152801e-07,  5.11950731e-08, ...,\n",
      "        -9.30034219e-08,  5.00674616e-07, -2.23950565e-07],\n",
      "       [ 8.78762947e-08,  8.23212503e-08, -2.14392429e-07, ...,\n",
      "        -8.28673947e-08, -1.09271156e-07,  7.47177609e-08],\n",
      "       [ 7.82918477e-08,  2.63246420e-07, -2.39374799e-07, ...,\n",
      "        -2.21912700e-07,  5.79497339e-10,  7.80663569e-08],\n",
      "       ...,\n",
      "       [-1.33037673e-07, -4.97690962e-07,  8.89898644e-08, ...,\n",
      "         4.15438620e-07,  1.68360756e-08,  1.35526932e-08],\n",
      "       [-9.23379844e-08,  1.56142789e-07, -4.22114077e-08, ...,\n",
      "         5.15176168e-08,  1.36598928e-08, -7.93579460e-08],\n",
      "       [ 5.93524803e-08,  2.95811958e-07, -2.97576037e-07, ...,\n",
      "        -4.54457876e-08,  1.96505230e-08, -1.58823838e-07]], dtype=float32)>, <tf.Tensor: shape=(128, 512), dtype=float32, numpy=\n",
      "array([[ 1.1984672e-07, -1.7548082e-08,  1.2360579e-07, ...,\n",
      "         2.0228055e-07,  1.3886141e-07, -6.3903542e-08],\n",
      "       [ 1.5272607e-07,  4.5165748e-07, -2.2257801e-07, ...,\n",
      "        -2.2489704e-07, -5.4760850e-08,  1.9221258e-07],\n",
      "       [-5.1397393e-09,  1.7932007e-07, -2.1206071e-07, ...,\n",
      "        -2.4049808e-07,  1.1206191e-07, -9.3572382e-08],\n",
      "       ...,\n",
      "       [-4.0732701e-08,  4.0263222e-07, -1.8670048e-07, ...,\n",
      "        -1.9021007e-07, -3.7976935e-07,  8.2782535e-08],\n",
      "       [ 1.8546292e-08, -4.7001532e-07, -2.9344692e-08, ...,\n",
      "         1.9281963e-07,  5.8396267e-07, -1.0758771e-07],\n",
      "       [-2.6305592e-08,  2.0143858e-08, -9.2709300e-08, ...,\n",
      "        -3.0940448e-08, -3.5114013e-08,  2.6286418e-07]], dtype=float32)>, <tf.Tensor: shape=(512,), dtype=float32, numpy=\n",
      "array([-2.69837456e-05, -7.22791956e-05,  2.21639493e-05,  1.93816741e-05,\n",
      "        1.64316898e-05, -8.44193983e-06,  1.65125639e-05, -1.29082091e-05,\n",
      "        9.66668886e-05,  4.02431942e-05, -2.40445643e-05,  2.62326994e-05,\n",
      "        2.28356657e-05, -3.63997287e-06,  7.36375478e-06, -1.14230397e-05,\n",
      "       -7.30692846e-05, -3.10294563e-05, -7.35756330e-05, -2.57967549e-05,\n",
      "        4.45649785e-05, -2.24541254e-05, -2.37620625e-05, -3.54723625e-06,\n",
      "       -1.87249643e-05, -4.53728790e-05, -1.29971795e-07,  3.12468183e-06,\n",
      "        2.85467177e-05,  4.05656465e-07, -2.20049824e-05,  2.99532112e-05,\n",
      "       -8.67223935e-06,  9.78910684e-05, -1.68541646e-06,  1.58731073e-05,\n",
      "       -1.40626817e-05,  8.51177720e-06,  4.23008969e-05, -6.50765287e-05,\n",
      "        2.54197876e-05,  3.56208402e-05,  7.15898614e-06, -7.08841389e-06,\n",
      "       -9.38995072e-06, -3.28504721e-05,  5.65823066e-05,  3.85038220e-05,\n",
      "        2.88618758e-05,  1.61214612e-05,  1.37022125e-05,  8.90205956e-06,\n",
      "        6.31755393e-05,  2.79111882e-05,  7.80098526e-06,  3.51263338e-06,\n",
      "       -2.07375124e-05,  1.43740035e-05, -3.77299034e-06, -1.09662487e-05,\n",
      "        2.29754223e-05, -1.44453752e-05,  7.49654646e-06,  3.85123712e-05,\n",
      "        3.86821885e-05, -3.23534259e-05, -9.79773358e-06, -3.17449212e-06,\n",
      "       -2.54142960e-05, -9.50117646e-06,  3.64786029e-05,  3.03079723e-05,\n",
      "        3.47740715e-05,  8.74460966e-06, -3.18459533e-05, -2.28750014e-05,\n",
      "        1.49620719e-05,  2.71360004e-05, -3.94380331e-05, -1.45466101e-05,\n",
      "       -3.52864736e-05,  2.17435409e-05,  1.29989139e-05, -2.96470353e-05,\n",
      "       -1.88070862e-05,  7.06120773e-06,  2.73571823e-05, -1.22491219e-05,\n",
      "       -4.12918189e-06,  3.07383270e-05, -5.81707973e-05, -6.49220747e-05,\n",
      "       -1.81373234e-05,  1.64272151e-05,  6.63262472e-05,  3.18950697e-05,\n",
      "       -5.91831304e-06,  2.37639815e-05,  1.05761632e-04,  3.32510608e-05,\n",
      "        2.53016879e-05,  1.26360083e-05, -5.19726336e-06, -1.88340709e-05,\n",
      "       -1.41148648e-05,  1.85540230e-05, -1.08309396e-05, -2.66077222e-05,\n",
      "        1.04461997e-05, -2.00134964e-05, -2.26595948e-05,  6.54110409e-06,\n",
      "       -5.17515437e-05, -1.41462897e-05,  1.46464899e-05, -8.86569796e-06,\n",
      "        3.86126449e-05, -3.21324005e-05, -8.14154773e-05, -2.08051679e-05,\n",
      "        3.10243086e-05, -4.31993685e-05, -4.51287451e-05, -1.64028879e-05,\n",
      "        5.72023164e-05,  1.38150608e-05,  7.24598431e-06, -2.73375517e-05,\n",
      "        4.39687483e-06, -9.79237884e-05,  4.01910766e-05,  1.87882142e-05,\n",
      "        6.73766863e-06,  2.02976989e-05,  7.40160431e-06, -2.29719044e-05,\n",
      "        1.63790057e-04,  8.03629082e-05, -3.00416832e-05,  1.78132104e-05,\n",
      "        2.57599440e-05, -6.56323937e-06, -2.42198985e-05, -1.98654488e-05,\n",
      "       -5.90640484e-05, -1.29973814e-05, -1.15233161e-04, -6.38493657e-05,\n",
      "        5.64067050e-05, -3.15684301e-05, -3.28155220e-05,  2.42120350e-05,\n",
      "       -3.89207089e-05, -6.93026086e-05,  5.44712429e-06,  1.74113375e-05,\n",
      "        1.00574325e-05,  1.77158654e-07, -3.03437955e-05,  4.64281693e-05,\n",
      "       -4.59507137e-05,  1.38435571e-04, -1.15981638e-05,  1.68059742e-05,\n",
      "       -3.30256153e-05, -2.56379717e-05,  4.19941898e-05, -7.46234073e-05,\n",
      "        4.69568840e-05,  6.37811609e-05,  1.97616464e-05, -9.07542926e-06,\n",
      "       -9.83046175e-06, -3.24658249e-05,  9.50703106e-05,  3.84640189e-05,\n",
      "        2.51687889e-05,  2.71183162e-05,  2.07526573e-05, -1.29950322e-05,\n",
      "        1.11774949e-04,  4.25774961e-05,  2.00302238e-05, -1.00175903e-05,\n",
      "       -3.51918970e-05, -3.85463682e-06, -4.96938537e-06, -3.71412461e-05,\n",
      "        1.36578101e-05, -2.36566484e-05,  1.47682067e-05,  5.60267072e-05,\n",
      "        4.52767054e-05, -5.39931316e-05, -1.90264982e-05,  9.26218672e-06,\n",
      "       -2.97695442e-05, -8.81214146e-06,  1.76672238e-05,  3.25898400e-05,\n",
      "        3.77014403e-05, -5.43667738e-06, -3.10540017e-05, -1.03511557e-05,\n",
      "        2.59264016e-05,  4.81952302e-05, -3.59617916e-05,  5.62231253e-06,\n",
      "       -6.12150470e-05,  2.66823517e-05, -9.36903598e-06, -1.02466738e-05,\n",
      "       -1.98338385e-05,  1.98741836e-05,  4.04828061e-05,  1.37461848e-05,\n",
      "       -8.14918985e-06,  3.00236952e-05, -5.28739329e-05, -9.55940632e-05,\n",
      "       -9.19249396e-06,  1.27720486e-05,  8.77557541e-05,  1.79520484e-05,\n",
      "        1.53868186e-05,  3.33782627e-05,  1.66717888e-04,  5.43981077e-05,\n",
      "        2.42588358e-05,  3.13705059e-05, -9.37221557e-07, -5.88052571e-05,\n",
      "       -9.89080581e-06,  1.10756337e-05, -2.22924718e-05, -3.39713952e-05,\n",
      "       -1.01748774e-05, -5.20153753e-06, -1.70974090e-05, -1.39629265e-06,\n",
      "       -6.54022078e-05, -2.50291760e-05,  1.04790033e-05, -3.02440003e-05,\n",
      "        5.96874233e-05, -7.55892506e-06, -6.45225518e-05,  9.46639557e-06,\n",
      "        6.17038095e-05, -3.49434522e-05,  1.71792854e-05, -1.36104954e-05,\n",
      "        9.00589657e-05,  1.61962944e-05,  1.91655345e-05, -5.59756118e-05,\n",
      "        1.15494840e-02,  3.84556465e-02, -3.95406038e-02, -7.69547885e-03,\n",
      "       -3.11344303e-03,  2.32044477e-02, -3.24216262e-02,  4.04364988e-03,\n",
      "       -5.63864484e-02,  4.67736535e-02,  2.13134289e-03, -3.17748077e-02,\n",
      "        7.01877773e-02, -6.39624149e-03,  2.33955011e-02,  6.03838032e-03,\n",
      "        2.99894549e-02, -4.74779047e-02, -7.11524487e-02,  4.16407473e-02,\n",
      "       -2.11301744e-02,  9.03357286e-04,  2.60072798e-02, -1.52389091e-02,\n",
      "        1.32866278e-02,  3.20291147e-02,  6.33179210e-04, -5.42714149e-02,\n",
      "       -1.83285419e-02, -1.72055624e-02, -3.16780917e-02, -2.17807516e-02,\n",
      "        7.20615759e-02,  4.50680740e-02,  3.81825566e-02, -9.85118328e-04,\n",
      "       -9.42712370e-03,  3.43499309e-03, -3.14769670e-02, -4.75288481e-02,\n",
      "        5.38073014e-03,  4.49538864e-02,  1.44904563e-02, -1.54810064e-02,\n",
      "        1.76191274e-02,  2.09848396e-02, -4.83353734e-02, -3.88449430e-03,\n",
      "        3.29170227e-02, -1.63842104e-02,  2.65418412e-03, -2.41777934e-02,\n",
      "       -1.43768452e-02,  1.78558473e-03, -4.41668555e-03, -2.03773938e-02,\n",
      "       -3.35915238e-02,  1.59119330e-02,  1.02855568e-03,  5.95393125e-03,\n",
      "        1.23464949e-02, -2.24505588e-02,  3.33899856e-02, -1.46816410e-02,\n",
      "       -6.02516346e-03, -4.05023545e-02,  2.85920538e-02, -8.32951441e-03,\n",
      "       -2.76733120e-03, -3.04146074e-02, -1.97552284e-03, -2.88540572e-02,\n",
      "        3.32110468e-03,  5.21644205e-03,  3.85362171e-02, -1.08213164e-02,\n",
      "       -4.21841536e-03,  2.36788262e-02,  7.14140432e-03, -5.19637838e-02,\n",
      "       -4.66091782e-02,  5.92060201e-03, -1.30644785e-02, -3.40483058e-03,\n",
      "        2.54730713e-02, -1.86326578e-02,  1.57732293e-02,  3.94528732e-04,\n",
      "       -7.46777374e-03, -1.72163714e-02,  5.52730411e-02,  2.10231580e-02,\n",
      "       -9.44103207e-03, -2.83550136e-02, -4.03747410e-02,  3.19144316e-03,\n",
      "        8.99769831e-04,  9.07182042e-03, -9.01820958e-02, -1.38519043e-02,\n",
      "        2.25835703e-02, -1.12323964e-03,  4.29434925e-02, -3.43065634e-02,\n",
      "       -6.36432841e-02, -6.98377611e-03, -4.19051573e-02,  5.71535528e-02,\n",
      "        5.43877576e-03,  2.65207589e-02, -2.71936189e-02,  5.70648909e-03,\n",
      "       -2.96908356e-02, -4.97186221e-02, -1.24890255e-02,  4.45594601e-02,\n",
      "        1.94909349e-02, -1.90283041e-02,  9.60475393e-03,  4.64033615e-03,\n",
      "       -3.11250873e-02,  1.72803495e-02,  2.41244901e-02,  1.79244895e-02,\n",
      "        3.83677632e-02,  1.12101389e-03,  1.84946787e-03,  4.13115472e-02,\n",
      "       -2.44146067e-05, -9.27779110e-05,  2.30397727e-05,  2.22194394e-05,\n",
      "        2.43613613e-05, -3.65225105e-06,  1.34366064e-05, -1.89834427e-05,\n",
      "        1.12854046e-04,  5.36628650e-05, -3.89330307e-05,  4.28702988e-05,\n",
      "        2.40321897e-05,  5.96306927e-06,  1.04260644e-05, -1.14984878e-05,\n",
      "       -6.73258328e-05, -1.80037514e-05, -7.55027286e-05, -2.35351763e-05,\n",
      "        5.63890135e-05, -2.24635478e-05, -2.79516171e-05,  3.81128802e-06,\n",
      "       -7.70344559e-06, -5.65342270e-05, -5.01587283e-06,  1.45857330e-05,\n",
      "        2.15082127e-05, -1.69548548e-06, -2.24112919e-05,  3.17568993e-05,\n",
      "       -7.02721445e-06,  1.05300234e-04,  6.85320629e-07,  1.71586398e-05,\n",
      "       -1.90775900e-05,  8.71369684e-06,  4.71637613e-05, -6.54313917e-05,\n",
      "        3.55252378e-05,  3.70953858e-05,  3.43959073e-06, -1.07347114e-05,\n",
      "       -1.14089853e-05, -3.96893738e-05,  8.36155305e-05,  3.97640943e-05,\n",
      "        2.78091593e-05,  2.00572977e-05,  2.17063316e-05, -4.35924085e-06,\n",
      "        7.23086268e-05,  2.40424215e-05,  1.25529514e-05,  4.38450479e-06,\n",
      "       -3.49359107e-05,  1.07664291e-05, -2.97701808e-06, -1.38348169e-05,\n",
      "        1.99735059e-05, -1.80867955e-05,  1.09296307e-05,  2.94457350e-05,\n",
      "        4.06057698e-05, -4.27348532e-05, -1.53898945e-05, -1.84904638e-06,\n",
      "       -2.55677714e-05, -5.76176990e-06,  3.05412723e-05,  2.40878853e-05,\n",
      "        2.98180148e-05,  1.37453026e-05, -3.27000598e-05, -9.05964225e-06,\n",
      "        7.40267205e-06,  2.83243171e-05, -3.92413931e-05, -2.27615892e-05,\n",
      "       -3.83595616e-05,  1.44906826e-05,  2.00137110e-05, -2.71937351e-05,\n",
      "       -1.80228963e-05,  6.26670862e-06,  2.59877070e-05,  3.31733645e-07,\n",
      "       -5.24841289e-06,  3.79324192e-05, -4.99903981e-05, -6.70859226e-05,\n",
      "       -2.02233259e-05,  1.28142219e-05,  6.83341932e-05,  3.29020186e-05,\n",
      "       -3.76377830e-06,  3.53602809e-05,  1.30925022e-04,  2.86250324e-05,\n",
      "        2.06169789e-05,  1.96114961e-05, -5.80433061e-06, -2.97533425e-05,\n",
      "       -1.15704879e-05,  1.99369606e-05, -1.64955727e-05, -2.82573819e-05,\n",
      "        1.08104950e-05, -2.07465491e-05, -3.19258288e-05,  1.67362650e-05,\n",
      "       -5.45998155e-05, -1.68677161e-05,  2.31937884e-06, -2.93343146e-06,\n",
      "        3.64094885e-05, -2.85052920e-05, -7.02246616e-05, -1.56177575e-05,\n",
      "        3.60782215e-05, -4.78160036e-05, -3.45693188e-05, -1.01486385e-05,\n",
      "        7.14945927e-05,  2.22484086e-05,  8.29041892e-06, -3.47257956e-05],\n",
      "      dtype=float32)>, <tf.Tensor: shape=(128, 10000), dtype=float32, numpy=\n",
      "array([[-9.9797419e-04, -8.1346289e-04, -1.3060535e-03, ...,\n",
      "         1.4436400e-06,  1.4428942e-06,  1.4432442e-06],\n",
      "       [ 2.2020561e-03,  3.3705402e-03,  3.7737396e-03, ...,\n",
      "        -6.9913012e-06, -6.9880648e-06, -6.9925823e-06],\n",
      "       [-2.7979637e-05,  1.4283611e-03, -9.7181095e-05, ...,\n",
      "        -1.5878078e-06, -1.5847959e-06, -1.5850046e-06],\n",
      "       ...,\n",
      "       [ 1.7296723e-03,  2.7860063e-03,  1.9125302e-03, ...,\n",
      "        -3.2021217e-06, -3.2034427e-06, -3.2065382e-06],\n",
      "       [-3.3426555e-03, -4.3313392e-03, -4.0058624e-03, ...,\n",
      "         6.5228328e-06,  6.5266804e-06,  6.5284075e-06],\n",
      "       [ 1.4064374e-03,  9.4170216e-04,  7.6370075e-04, ...,\n",
      "        -1.2820520e-06, -1.2807059e-06, -1.2818527e-06]], dtype=float32)>, <tf.Tensor: shape=(10000,), dtype=float32, numpy=\n",
      "array([-0.7979984 , -1.0313313 , -1.0313315 , ...,  0.00200008,\n",
      "        0.0019997 ,  0.00200025], dtype=float32)>]\n"
     ]
    }
   ],
   "source": [
    "print(grad_t_list)"
   ]
  },
  {
   "cell_type": "markdown",
   "metadata": {},
   "source": [
    "\n",
    "\n",
    "\n",
    "now, we have a list of tensors, t-list. We can use it to find clipped tensors. <b>clip_by_global_norm</b> clips values of multiple tensors by the ratio of the sum of their norms.\n",
    "\n",
    "<b>clip_by_global_norm</b> get <i>t-list</i> as input and returns 2 things:\n",
    "<ul>\n",
    "    <li>a list of clipped tensors, so called <i>list_clipped</i></li> \n",
    "    <li>the global norm (global_norm) of all tensors in t_list</li> \n",
    "</ul>\n"
   ]
  },
  {
   "cell_type": "code",
   "execution_count": 48,
   "metadata": {},
   "outputs": [
    {
     "data": {
      "text/plain": [
       "[<tensorflow.python.framework.indexed_slices.IndexedSlices at 0x7fc46c7cfa60>,\n",
       " <tf.Tensor: shape=(200, 1024), dtype=float32, numpy=\n",
       " array([[ 2.84334476e-07, -8.82195650e-10, -5.78136849e-07, ...,\n",
       "          4.69150585e-09,  4.33341683e-07, -3.56771096e-07],\n",
       "        [ 9.71484724e-07, -1.61421909e-07, -2.02754720e-07, ...,\n",
       "          7.95864707e-08, -4.43399486e-08,  5.42421162e-07],\n",
       "        [-2.63356640e-07,  8.53317488e-08,  9.67569207e-08, ...,\n",
       "          2.48494615e-07,  3.94878526e-07,  4.05437390e-08],\n",
       "        ...,\n",
       "        [-8.93576612e-07,  4.49489931e-07,  2.30770567e-07, ...,\n",
       "          5.44578356e-08, -1.04862664e-07, -1.71626795e-07],\n",
       "        [ 2.08285019e-06, -1.58859109e-07, -3.04502379e-08, ...,\n",
       "          8.60729017e-08, -4.17326447e-07, -1.03155031e-08],\n",
       "        [ 7.65794027e-07,  5.28925796e-07,  3.36325485e-07, ...,\n",
       "          2.66213249e-07, -1.62109473e-07,  6.93928484e-07]], dtype=float32)>,\n",
       " <tf.Tensor: shape=(256, 1024), dtype=float32, numpy=\n",
       " array([[-9.47929735e-09, -2.08053628e-08, -7.77744518e-08, ...,\n",
       "         -1.69888310e-07,  1.29736932e-08, -9.39494811e-08],\n",
       "        [-1.98181567e-07,  7.27755811e-09, -1.36711726e-08, ...,\n",
       "         -1.16825504e-07, -1.64395800e-07,  1.69970882e-08],\n",
       "        [ 1.47492116e-08,  6.64299762e-08, -9.83174431e-08, ...,\n",
       "          1.73149530e-08, -7.86077266e-08, -3.81494019e-08],\n",
       "        ...,\n",
       "        [-2.52957761e-07, -5.03207005e-08,  3.43963258e-08, ...,\n",
       "         -1.66409919e-07,  3.80910983e-08, -7.26109448e-08],\n",
       "        [-7.41099484e-08,  1.06055673e-07, -5.78235309e-08, ...,\n",
       "         -3.20080673e-09,  3.40533916e-07, -7.47380184e-08],\n",
       "        [-2.14681066e-07,  5.71561571e-08, -1.30509790e-07, ...,\n",
       "         -5.29070725e-08, -1.15064331e-07,  2.25599422e-07]], dtype=float32)>,\n",
       " <tf.Tensor: shape=(1024,), dtype=float32, numpy=\n",
       " array([-2.0656636e-05, -8.3299292e-06,  2.0688745e-05, ...,\n",
       "        -1.8008932e-05,  2.3742567e-05, -5.8953901e-06], dtype=float32)>,\n",
       " <tf.Tensor: shape=(256, 512), dtype=float32, numpy=\n",
       " array([[ 9.10699498e-08, -1.17152801e-07,  5.11950731e-08, ...,\n",
       "         -9.30034219e-08,  5.00674616e-07, -2.23950565e-07],\n",
       "        [ 8.78762947e-08,  8.23212503e-08, -2.14392429e-07, ...,\n",
       "         -8.28673947e-08, -1.09271156e-07,  7.47177609e-08],\n",
       "        [ 7.82918477e-08,  2.63246420e-07, -2.39374799e-07, ...,\n",
       "         -2.21912700e-07,  5.79497339e-10,  7.80663569e-08],\n",
       "        ...,\n",
       "        [-1.33037673e-07, -4.97690962e-07,  8.89898644e-08, ...,\n",
       "          4.15438620e-07,  1.68360756e-08,  1.35526932e-08],\n",
       "        [-9.23379844e-08,  1.56142789e-07, -4.22114077e-08, ...,\n",
       "          5.15176168e-08,  1.36598928e-08, -7.93579460e-08],\n",
       "        [ 5.93524803e-08,  2.95811958e-07, -2.97576037e-07, ...,\n",
       "         -4.54457876e-08,  1.96505230e-08, -1.58823838e-07]], dtype=float32)>,\n",
       " <tf.Tensor: shape=(128, 512), dtype=float32, numpy=\n",
       " array([[ 1.1984672e-07, -1.7548082e-08,  1.2360579e-07, ...,\n",
       "          2.0228055e-07,  1.3886141e-07, -6.3903542e-08],\n",
       "        [ 1.5272607e-07,  4.5165748e-07, -2.2257801e-07, ...,\n",
       "         -2.2489704e-07, -5.4760850e-08,  1.9221258e-07],\n",
       "        [-5.1397393e-09,  1.7932007e-07, -2.1206071e-07, ...,\n",
       "         -2.4049808e-07,  1.1206191e-07, -9.3572382e-08],\n",
       "        ...,\n",
       "        [-4.0732701e-08,  4.0263222e-07, -1.8670048e-07, ...,\n",
       "         -1.9021007e-07, -3.7976935e-07,  8.2782535e-08],\n",
       "        [ 1.8546292e-08, -4.7001532e-07, -2.9344692e-08, ...,\n",
       "          1.9281963e-07,  5.8396267e-07, -1.0758771e-07],\n",
       "        [-2.6305592e-08,  2.0143858e-08, -9.2709300e-08, ...,\n",
       "         -3.0940448e-08, -3.5114013e-08,  2.6286418e-07]], dtype=float32)>,\n",
       " <tf.Tensor: shape=(512,), dtype=float32, numpy=\n",
       " array([-2.69837456e-05, -7.22791956e-05,  2.21639493e-05,  1.93816741e-05,\n",
       "         1.64316898e-05, -8.44193983e-06,  1.65125639e-05, -1.29082091e-05,\n",
       "         9.66668886e-05,  4.02431942e-05, -2.40445643e-05,  2.62326994e-05,\n",
       "         2.28356657e-05, -3.63997287e-06,  7.36375478e-06, -1.14230397e-05,\n",
       "        -7.30692846e-05, -3.10294563e-05, -7.35756330e-05, -2.57967549e-05,\n",
       "         4.45649785e-05, -2.24541254e-05, -2.37620625e-05, -3.54723625e-06,\n",
       "        -1.87249643e-05, -4.53728790e-05, -1.29971795e-07,  3.12468183e-06,\n",
       "         2.85467177e-05,  4.05656465e-07, -2.20049824e-05,  2.99532112e-05,\n",
       "        -8.67223935e-06,  9.78910684e-05, -1.68541646e-06,  1.58731073e-05,\n",
       "        -1.40626817e-05,  8.51177720e-06,  4.23008969e-05, -6.50765287e-05,\n",
       "         2.54197876e-05,  3.56208402e-05,  7.15898614e-06, -7.08841389e-06,\n",
       "        -9.38995072e-06, -3.28504721e-05,  5.65823066e-05,  3.85038220e-05,\n",
       "         2.88618758e-05,  1.61214612e-05,  1.37022125e-05,  8.90205956e-06,\n",
       "         6.31755393e-05,  2.79111882e-05,  7.80098526e-06,  3.51263338e-06,\n",
       "        -2.07375124e-05,  1.43740035e-05, -3.77299034e-06, -1.09662487e-05,\n",
       "         2.29754223e-05, -1.44453752e-05,  7.49654646e-06,  3.85123712e-05,\n",
       "         3.86821885e-05, -3.23534259e-05, -9.79773358e-06, -3.17449212e-06,\n",
       "        -2.54142960e-05, -9.50117646e-06,  3.64786029e-05,  3.03079723e-05,\n",
       "         3.47740715e-05,  8.74460966e-06, -3.18459533e-05, -2.28750014e-05,\n",
       "         1.49620719e-05,  2.71360004e-05, -3.94380331e-05, -1.45466101e-05,\n",
       "        -3.52864736e-05,  2.17435409e-05,  1.29989139e-05, -2.96470353e-05,\n",
       "        -1.88070862e-05,  7.06120773e-06,  2.73571823e-05, -1.22491219e-05,\n",
       "        -4.12918189e-06,  3.07383270e-05, -5.81707973e-05, -6.49220747e-05,\n",
       "        -1.81373234e-05,  1.64272151e-05,  6.63262472e-05,  3.18950697e-05,\n",
       "        -5.91831304e-06,  2.37639815e-05,  1.05761632e-04,  3.32510608e-05,\n",
       "         2.53016879e-05,  1.26360083e-05, -5.19726336e-06, -1.88340709e-05,\n",
       "        -1.41148648e-05,  1.85540230e-05, -1.08309396e-05, -2.66077222e-05,\n",
       "         1.04461997e-05, -2.00134964e-05, -2.26595948e-05,  6.54110409e-06,\n",
       "        -5.17515437e-05, -1.41462897e-05,  1.46464899e-05, -8.86569796e-06,\n",
       "         3.86126449e-05, -3.21324005e-05, -8.14154773e-05, -2.08051679e-05,\n",
       "         3.10243086e-05, -4.31993685e-05, -4.51287451e-05, -1.64028879e-05,\n",
       "         5.72023164e-05,  1.38150608e-05,  7.24598431e-06, -2.73375517e-05,\n",
       "         4.39687483e-06, -9.79237884e-05,  4.01910766e-05,  1.87882142e-05,\n",
       "         6.73766863e-06,  2.02976989e-05,  7.40160431e-06, -2.29719044e-05,\n",
       "         1.63790057e-04,  8.03629082e-05, -3.00416832e-05,  1.78132104e-05,\n",
       "         2.57599440e-05, -6.56323937e-06, -2.42198985e-05, -1.98654488e-05,\n",
       "        -5.90640484e-05, -1.29973814e-05, -1.15233161e-04, -6.38493657e-05,\n",
       "         5.64067050e-05, -3.15684301e-05, -3.28155220e-05,  2.42120350e-05,\n",
       "        -3.89207089e-05, -6.93026086e-05,  5.44712429e-06,  1.74113375e-05,\n",
       "         1.00574325e-05,  1.77158654e-07, -3.03437955e-05,  4.64281693e-05,\n",
       "        -4.59507137e-05,  1.38435571e-04, -1.15981638e-05,  1.68059742e-05,\n",
       "        -3.30256153e-05, -2.56379717e-05,  4.19941898e-05, -7.46234073e-05,\n",
       "         4.69568840e-05,  6.37811609e-05,  1.97616464e-05, -9.07542926e-06,\n",
       "        -9.83046175e-06, -3.24658249e-05,  9.50703106e-05,  3.84640189e-05,\n",
       "         2.51687889e-05,  2.71183162e-05,  2.07526573e-05, -1.29950322e-05,\n",
       "         1.11774949e-04,  4.25774961e-05,  2.00302238e-05, -1.00175903e-05,\n",
       "        -3.51918970e-05, -3.85463682e-06, -4.96938537e-06, -3.71412461e-05,\n",
       "         1.36578101e-05, -2.36566484e-05,  1.47682067e-05,  5.60267072e-05,\n",
       "         4.52767054e-05, -5.39931316e-05, -1.90264982e-05,  9.26218672e-06,\n",
       "        -2.97695442e-05, -8.81214146e-06,  1.76672238e-05,  3.25898400e-05,\n",
       "         3.77014403e-05, -5.43667738e-06, -3.10540017e-05, -1.03511557e-05,\n",
       "         2.59264016e-05,  4.81952302e-05, -3.59617916e-05,  5.62231253e-06,\n",
       "        -6.12150470e-05,  2.66823517e-05, -9.36903598e-06, -1.02466738e-05,\n",
       "        -1.98338385e-05,  1.98741836e-05,  4.04828061e-05,  1.37461848e-05,\n",
       "        -8.14918985e-06,  3.00236952e-05, -5.28739329e-05, -9.55940632e-05,\n",
       "        -9.19249396e-06,  1.27720486e-05,  8.77557541e-05,  1.79520484e-05,\n",
       "         1.53868186e-05,  3.33782627e-05,  1.66717888e-04,  5.43981077e-05,\n",
       "         2.42588358e-05,  3.13705059e-05, -9.37221557e-07, -5.88052571e-05,\n",
       "        -9.89080581e-06,  1.10756337e-05, -2.22924718e-05, -3.39713952e-05,\n",
       "        -1.01748774e-05, -5.20153753e-06, -1.70974090e-05, -1.39629265e-06,\n",
       "        -6.54022078e-05, -2.50291760e-05,  1.04790033e-05, -3.02440003e-05,\n",
       "         5.96874233e-05, -7.55892506e-06, -6.45225518e-05,  9.46639557e-06,\n",
       "         6.17038095e-05, -3.49434522e-05,  1.71792854e-05, -1.36104954e-05,\n",
       "         9.00589657e-05,  1.61962944e-05,  1.91655345e-05, -5.59756118e-05,\n",
       "         1.15494840e-02,  3.84556465e-02, -3.95406038e-02, -7.69547885e-03,\n",
       "        -3.11344303e-03,  2.32044477e-02, -3.24216262e-02,  4.04364988e-03,\n",
       "        -5.63864484e-02,  4.67736535e-02,  2.13134289e-03, -3.17748077e-02,\n",
       "         7.01877773e-02, -6.39624149e-03,  2.33955011e-02,  6.03838032e-03,\n",
       "         2.99894549e-02, -4.74779047e-02, -7.11524487e-02,  4.16407473e-02,\n",
       "        -2.11301744e-02,  9.03357286e-04,  2.60072798e-02, -1.52389091e-02,\n",
       "         1.32866278e-02,  3.20291147e-02,  6.33179210e-04, -5.42714149e-02,\n",
       "        -1.83285419e-02, -1.72055624e-02, -3.16780917e-02, -2.17807516e-02,\n",
       "         7.20615759e-02,  4.50680740e-02,  3.81825566e-02, -9.85118328e-04,\n",
       "        -9.42712370e-03,  3.43499309e-03, -3.14769670e-02, -4.75288481e-02,\n",
       "         5.38073014e-03,  4.49538864e-02,  1.44904563e-02, -1.54810064e-02,\n",
       "         1.76191274e-02,  2.09848396e-02, -4.83353734e-02, -3.88449430e-03,\n",
       "         3.29170227e-02, -1.63842104e-02,  2.65418412e-03, -2.41777934e-02,\n",
       "        -1.43768452e-02,  1.78558473e-03, -4.41668555e-03, -2.03773938e-02,\n",
       "        -3.35915238e-02,  1.59119330e-02,  1.02855568e-03,  5.95393125e-03,\n",
       "         1.23464949e-02, -2.24505588e-02,  3.33899856e-02, -1.46816410e-02,\n",
       "        -6.02516346e-03, -4.05023545e-02,  2.85920538e-02, -8.32951441e-03,\n",
       "        -2.76733120e-03, -3.04146074e-02, -1.97552284e-03, -2.88540572e-02,\n",
       "         3.32110468e-03,  5.21644205e-03,  3.85362171e-02, -1.08213164e-02,\n",
       "        -4.21841536e-03,  2.36788262e-02,  7.14140432e-03, -5.19637838e-02,\n",
       "        -4.66091782e-02,  5.92060201e-03, -1.30644785e-02, -3.40483058e-03,\n",
       "         2.54730713e-02, -1.86326578e-02,  1.57732293e-02,  3.94528732e-04,\n",
       "        -7.46777374e-03, -1.72163714e-02,  5.52730411e-02,  2.10231580e-02,\n",
       "        -9.44103207e-03, -2.83550136e-02, -4.03747410e-02,  3.19144316e-03,\n",
       "         8.99769831e-04,  9.07182042e-03, -9.01820958e-02, -1.38519043e-02,\n",
       "         2.25835703e-02, -1.12323964e-03,  4.29434925e-02, -3.43065634e-02,\n",
       "        -6.36432841e-02, -6.98377611e-03, -4.19051573e-02,  5.71535528e-02,\n",
       "         5.43877576e-03,  2.65207589e-02, -2.71936189e-02,  5.70648909e-03,\n",
       "        -2.96908356e-02, -4.97186221e-02, -1.24890255e-02,  4.45594601e-02,\n",
       "         1.94909349e-02, -1.90283041e-02,  9.60475393e-03,  4.64033615e-03,\n",
       "        -3.11250873e-02,  1.72803495e-02,  2.41244901e-02,  1.79244895e-02,\n",
       "         3.83677632e-02,  1.12101389e-03,  1.84946787e-03,  4.13115472e-02,\n",
       "        -2.44146067e-05, -9.27779110e-05,  2.30397727e-05,  2.22194394e-05,\n",
       "         2.43613613e-05, -3.65225105e-06,  1.34366064e-05, -1.89834427e-05,\n",
       "         1.12854046e-04,  5.36628650e-05, -3.89330307e-05,  4.28702988e-05,\n",
       "         2.40321897e-05,  5.96306927e-06,  1.04260644e-05, -1.14984878e-05,\n",
       "        -6.73258328e-05, -1.80037514e-05, -7.55027286e-05, -2.35351763e-05,\n",
       "         5.63890135e-05, -2.24635478e-05, -2.79516171e-05,  3.81128802e-06,\n",
       "        -7.70344559e-06, -5.65342270e-05, -5.01587283e-06,  1.45857330e-05,\n",
       "         2.15082127e-05, -1.69548548e-06, -2.24112919e-05,  3.17568993e-05,\n",
       "        -7.02721445e-06,  1.05300234e-04,  6.85320629e-07,  1.71586398e-05,\n",
       "        -1.90775900e-05,  8.71369684e-06,  4.71637613e-05, -6.54313917e-05,\n",
       "         3.55252378e-05,  3.70953858e-05,  3.43959073e-06, -1.07347114e-05,\n",
       "        -1.14089853e-05, -3.96893738e-05,  8.36155305e-05,  3.97640943e-05,\n",
       "         2.78091593e-05,  2.00572977e-05,  2.17063316e-05, -4.35924085e-06,\n",
       "         7.23086268e-05,  2.40424215e-05,  1.25529514e-05,  4.38450479e-06,\n",
       "        -3.49359107e-05,  1.07664291e-05, -2.97701808e-06, -1.38348169e-05,\n",
       "         1.99735059e-05, -1.80867955e-05,  1.09296307e-05,  2.94457350e-05,\n",
       "         4.06057698e-05, -4.27348532e-05, -1.53898945e-05, -1.84904638e-06,\n",
       "        -2.55677714e-05, -5.76176990e-06,  3.05412723e-05,  2.40878853e-05,\n",
       "         2.98180148e-05,  1.37453026e-05, -3.27000598e-05, -9.05964225e-06,\n",
       "         7.40267205e-06,  2.83243171e-05, -3.92413931e-05, -2.27615892e-05,\n",
       "        -3.83595616e-05,  1.44906826e-05,  2.00137110e-05, -2.71937351e-05,\n",
       "        -1.80228963e-05,  6.26670862e-06,  2.59877070e-05,  3.31733645e-07,\n",
       "        -5.24841289e-06,  3.79324192e-05, -4.99903981e-05, -6.70859226e-05,\n",
       "        -2.02233259e-05,  1.28142219e-05,  6.83341932e-05,  3.29020186e-05,\n",
       "        -3.76377830e-06,  3.53602809e-05,  1.30925022e-04,  2.86250324e-05,\n",
       "         2.06169789e-05,  1.96114961e-05, -5.80433061e-06, -2.97533425e-05,\n",
       "        -1.15704879e-05,  1.99369606e-05, -1.64955727e-05, -2.82573819e-05,\n",
       "         1.08104950e-05, -2.07465491e-05, -3.19258288e-05,  1.67362650e-05,\n",
       "        -5.45998155e-05, -1.68677161e-05,  2.31937884e-06, -2.93343146e-06,\n",
       "         3.64094885e-05, -2.85052920e-05, -7.02246616e-05, -1.56177575e-05,\n",
       "         3.60782215e-05, -4.78160036e-05, -3.45693188e-05, -1.01486385e-05,\n",
       "         7.14945927e-05,  2.22484086e-05,  8.29041892e-06, -3.47257956e-05],\n",
       "       dtype=float32)>,\n",
       " <tf.Tensor: shape=(128, 10000), dtype=float32, numpy=\n",
       " array([[-9.9797419e-04, -8.1346289e-04, -1.3060535e-03, ...,\n",
       "          1.4436400e-06,  1.4428942e-06,  1.4432442e-06],\n",
       "        [ 2.2020561e-03,  3.3705402e-03,  3.7737396e-03, ...,\n",
       "         -6.9913012e-06, -6.9880648e-06, -6.9925823e-06],\n",
       "        [-2.7979637e-05,  1.4283611e-03, -9.7181095e-05, ...,\n",
       "         -1.5878078e-06, -1.5847959e-06, -1.5850046e-06],\n",
       "        ...,\n",
       "        [ 1.7296723e-03,  2.7860063e-03,  1.9125302e-03, ...,\n",
       "         -3.2021217e-06, -3.2034427e-06, -3.2065382e-06],\n",
       "        [-3.3426555e-03, -4.3313392e-03, -4.0058624e-03, ...,\n",
       "          6.5228328e-06,  6.5266804e-06,  6.5284075e-06],\n",
       "        [ 1.4064374e-03,  9.4170216e-04,  7.6370075e-04, ...,\n",
       "         -1.2820520e-06, -1.2807059e-06, -1.2818527e-06]], dtype=float32)>,\n",
       " <tf.Tensor: shape=(10000,), dtype=float32, numpy=\n",
       " array([-0.7979984 , -1.0313313 , -1.0313315 , ...,  0.00200008,\n",
       "         0.0019997 ,  0.00200025], dtype=float32)>]"
      ]
     },
     "execution_count": 48,
     "metadata": {},
     "output_type": "execute_result"
    }
   ],
   "source": [
    "# Define the gradient clipping threshold\n",
    "grads, _ = tf.clip_by_global_norm(grad_t_list, max_grad_norm)\n",
    "grads"
   ]
  },
  {
   "cell_type": "markdown",
   "metadata": {},
   "source": [
    "<h4> 4.Apply the optimizer to the variables/gradients tuple. </h4>\n"
   ]
  },
  {
   "cell_type": "code",
   "execution_count": 49,
   "metadata": {},
   "outputs": [],
   "source": [
    "# Create the training TensorFlow Operation through our optimizer\n",
    "train_op = optimizer.apply_gradients(zip(grads, tvars))"
   ]
  },
  {
   "cell_type": "markdown",
   "metadata": {},
   "source": [
    "<a id=\"ltsm\"></a>\n",
    "<h2>LSTM</h2>\n"
   ]
  },
  {
   "cell_type": "markdown",
   "metadata": {},
   "source": [
    "We learned how the model is build step by step. Noe, let's then create a Class that represents our model. This class needs a few things:\n",
    "<ul>\n",
    "    <li>We have to create the model in accordance with our defined hyperparameters</li>\n",
    "    <li>We have to create the LSTM cell structure and connect them with our RNN structure</li>\n",
    "    <li>We have to create the word embeddings and point them to the input data</li>\n",
    "    <li>We have to create the input structure for our RNN</li>\n",
    "    <li>We need to create a logistic structure to return the probability of our words</li>\n",
    "    <li>We need to create the loss and cost functions for our optimizer to work, and then create the optimizer</li>\n",
    "    <li>And finally, we need to create a training operation that can be run to actually train our model</li>\n",
    "</ul>\n"
   ]
  },
  {
   "cell_type": "code",
   "execution_count": 50,
   "metadata": {},
   "outputs": [],
   "source": [
    "class PTBModel(object):\n",
    "\n",
    "\n",
    "    def __init__(self):\n",
    "        ######################################\n",
    "        # Setting parameters for ease of use #\n",
    "        ######################################\n",
    "        self.batch_size = batch_size\n",
    "        self.num_steps = num_steps\n",
    "        self.hidden_size_l1 = hidden_size_l1\n",
    "        self.hidden_size_l2 = hidden_size_l2\n",
    "        self.vocab_size = vocab_size\n",
    "        self.embeding_vector_size = embeding_vector_size\n",
    "        # Create a variable for the learning rate\n",
    "        self._lr = 1.0\n",
    "        \n",
    "        ###############################################################################\n",
    "        # Initializing the model using keras Sequential API  #\n",
    "        ###############################################################################\n",
    "        \n",
    "        self._model = tf.keras.models.Sequential()\n",
    "        \n",
    "        ####################################################################\n",
    "        # Creating the word embeddings layer and adding it to the sequence #\n",
    "        ####################################################################\n",
    "        with tf.device(\"/cpu:0\"):\n",
    "            # Create the embeddings for our input data. Size is hidden size.\n",
    "            self._embedding_layer = tf.keras.layers.Embedding(self.vocab_size, self.embeding_vector_size,batch_input_shape=(self.batch_size, self.num_steps),trainable=True,name=\"embedding_vocab\")  #[10000x200]\n",
    "            self._model.add(self._embedding_layer)\n",
    "            \n",
    "\n",
    "        ##########################################################################\n",
    "        # Creating the LSTM cell structure and connect it with the RNN structure #\n",
    "        ##########################################################################\n",
    "        # Create the LSTM Cells. \n",
    "        # This creates only the structure for the LSTM and has to be associated with a RNN unit still.\n",
    "        # The argument  of LSTMCell is size of hidden layer, that is, the number of hidden units of the LSTM (inside A). \n",
    "        # LSTM cell processes one word at a time and computes probabilities of the possible continuations of the sentence.\n",
    "        lstm_cell_l1 = tf.keras.layers.LSTMCell(hidden_size_l1)\n",
    "        lstm_cell_l2 = tf.keras.layers.LSTMCell(hidden_size_l2)\n",
    "        \n",
    "\n",
    "        \n",
    "        # By taking in the LSTM cells as parameters, the StackedRNNCells function junctions the LSTM units to the RNN units.\n",
    "        # RNN cell composed sequentially of stacked simple cells.\n",
    "        stacked_lstm = tf.keras.layers.StackedRNNCells([lstm_cell_l1, lstm_cell_l2])\n",
    "\n",
    "\n",
    "        \n",
    "\n",
    "        ############################################\n",
    "        # Creating the input structure for our RNN #\n",
    "        ############################################\n",
    "        # Input structure is 20x[30x200]\n",
    "        # Considering each word is represended by a 200 dimentional vector, and we have 30 batchs, we create 30 word-vectors of size [30xx2000]\n",
    "        # The input structure is fed from the embeddings, which are filled in by the input data\n",
    "        # Feeding a batch of b sentences to a RNN:\n",
    "        # In step 1,  first word of each of the b sentences (in a batch) is input in parallel.  \n",
    "        # In step 2,  second word of each of the b sentences is input in parallel. \n",
    "        # The parallelism is only for efficiency.  \n",
    "        # Each sentence in a batch is handled in parallel, but the network sees one word of a sentence at a time and does the computations accordingly. \n",
    "        # All the computations involving the words of all sentences in a batch at a given time step are done in parallel. \n",
    "\n",
    "        ########################################################################################################\n",
    "        # Instantiating our RNN model and setting stateful to True to feed forward the state to the next layer #\n",
    "        ########################################################################################################\n",
    "        \n",
    "        self._RNNlayer  =  tf.keras.layers.RNN(stacked_lstm,[batch_size, num_steps],return_state=False,stateful=True,trainable=True)\n",
    "        \n",
    "        # Define the initial state, i.e., the model state for the very first data point\n",
    "        # It initialize the state of the LSTM memory. The memory state of the network is initialized with a vector of zeros and gets updated after reading each word.\n",
    "        self._initial_state = tf.Variable(tf.zeros([batch_size,embeding_vector_size]),trainable=False)\n",
    "        self._RNNlayer.inital_state = self._initial_state\n",
    "    \n",
    "        ############################################\n",
    "        # Adding RNN layer to keras sequential API #\n",
    "        ############################################        \n",
    "        self._model.add(self._RNNlayer)\n",
    "        \n",
    "        #self._model.add(tf.keras.layers.LSTM(hidden_size_l1,return_sequences=True,stateful=True))\n",
    "        #self._model.add(tf.keras.layers.LSTM(hidden_size_l2,return_sequences=True))\n",
    "        \n",
    "        \n",
    "        ####################################################################################################\n",
    "        # Instantiating a Dense layer that connects the output to the vocab_size  and adding layer to model#\n",
    "        ####################################################################################################\n",
    "        self._dense = tf.keras.layers.Dense(self.vocab_size)\n",
    "        self._model.add(self._dense)\n",
    " \n",
    "        \n",
    "        ####################################################################################################\n",
    "        # Adding softmax activation layer and deriving probability to each class and adding layer to model #\n",
    "        ####################################################################################################\n",
    "        self._activation = tf.keras.layers.Activation('softmax')\n",
    "        self._model.add(self._activation)\n",
    "\n",
    "        ##########################################################\n",
    "        # Instantiating the stochastic gradient decent optimizer #\n",
    "        ########################################################## \n",
    "        self._optimizer = tf.keras.optimizers.SGD(lr=self._lr, clipnorm=max_grad_norm)\n",
    "        \n",
    "        \n",
    "        ##############################################################################\n",
    "        # Compiling and summarizing the model stacked using the keras sequential API #\n",
    "        ##############################################################################\n",
    "        self._model.compile(loss=self.crossentropy, optimizer=self._optimizer)\n",
    "        self._model.summary()\n",
    "\n",
    "\n",
    "    def crossentropy(self,y_true, y_pred):\n",
    "        return tf.keras.losses.sparse_categorical_crossentropy(y_true, y_pred)\n",
    "\n",
    "    def train_batch(self,_input_data,_targets):\n",
    "        #################################################\n",
    "        # Creating the Training Operation for our Model #\n",
    "        #################################################\n",
    "        # Create a variable for the learning rate\n",
    "        self._lr = tf.Variable(0.0, trainable=False)\n",
    "        # Get all TensorFlow variables marked as \"trainable\" (i.e. all of them except _lr, which we just created)\n",
    "        tvars = self._model.trainable_variables\n",
    "        # Define the gradient clipping threshold\n",
    "        with tf.GradientTape() as tape:\n",
    "            # Forward pass.\n",
    "            output_words_prob = self._model(_input_data)\n",
    "            # Loss value for this batch.\n",
    "            loss  = self.crossentropy(_targets, output_words_prob)\n",
    "            # average across batch and reduce sum\n",
    "            cost = tf.reduce_sum(loss/ self.batch_size)\n",
    "        # Get gradients of loss wrt the trainable variables.\n",
    "        grad_t_list = tape.gradient(cost, tvars)\n",
    "        # Define the gradient clipping threshold\n",
    "        grads, _ = tf.clip_by_global_norm(grad_t_list, max_grad_norm)\n",
    "        # Create the training TensorFlow Operation through our optimizer\n",
    "        train_op = self._optimizer.apply_gradients(zip(grads, tvars))\n",
    "        return cost\n",
    "        \n",
    "    def test_batch(self,_input_data,_targets):\n",
    "        #################################################\n",
    "        # Creating the Testing Operation for our Model #\n",
    "        #################################################\n",
    "        output_words_prob = self._model(_input_data)\n",
    "        loss  = self.crossentropy(_targets, output_words_prob)\n",
    "        # average across batch and reduce sum\n",
    "        cost = tf.reduce_sum(loss/ self.batch_size)\n",
    "\n",
    "        return cost\n",
    "    @classmethod\n",
    "    def instance(cls) : \n",
    "        return PTBModel()"
   ]
  },
  {
   "cell_type": "markdown",
   "metadata": {},
   "source": [
    "With that, the actual structure of our Recurrent Neural Network with Long Short-Term Memory is finished. What remains for us to do is to actually create the methods to run through time -- that is, the <code>run_epoch</code> method to be run at each epoch and a <code>main</code> script which ties all of this together.\n",
    "\n",
    "What our <code>run_epoch</code> method should do is take our input data and feed it to the relevant operations. This will return at the very least the current result for the cost function.\n"
   ]
  },
  {
   "cell_type": "code",
   "execution_count": 51,
   "metadata": {},
   "outputs": [],
   "source": [
    "\n",
    "########################################################################################################################\n",
    "# run_one_epoch takes as parameters  the model instance, the data to be fed, training or testing mode and verbose info #\n",
    "########################################################################################################################\n",
    "def run_one_epoch(m, data,is_training=True,verbose=False):\n",
    "\n",
    "    #Define the epoch size based on the length of the data, batch size and the number of steps\n",
    "    epoch_size = ((len(data) // m.batch_size) - 1) // m.num_steps\n",
    "    start_time = time.time()\n",
    "    costs = 0.\n",
    "    iters = 0\n",
    "    \n",
    "    m._model.reset_states()\n",
    "    \n",
    "    #For each step and data point\n",
    "    for step, (x, y) in enumerate(ptb_iterator(data, m.batch_size, m.num_steps)):\n",
    "        \n",
    "        #Evaluate and return cost, state by running cost, final_state and the function passed as parameter\n",
    "        #y = tf.keras.utils.to_categorical(y, num_classes=vocab_size)\n",
    "        if is_training : \n",
    "            loss=  m.train_batch(x, y)\n",
    "        else :\n",
    "            loss = m.test_batch(x, y)\n",
    "                                   \n",
    "\n",
    "        #Add returned cost to costs (which keeps track of the total costs for this epoch)\n",
    "        costs += loss\n",
    "        \n",
    "        #Add number of steps to iteration counter\n",
    "        iters += m.num_steps\n",
    "\n",
    "        if verbose and step % (epoch_size // 10) == 10:\n",
    "            print(\"Itr %d of %d, perplexity: %.3f speed: %.0f wps\" % (step , epoch_size, np.exp(costs / iters), iters * m.batch_size / (time.time() - start_time)))\n",
    "        \n",
    "\n",
    "\n",
    "    # Returns the Perplexity rating for us to keep track of how the model is evolving\n",
    "    return np.exp(costs / iters)\n"
   ]
  },
  {
   "cell_type": "markdown",
   "metadata": {},
   "source": [
    "Now, we create the <code>main</code> method to tie everything together. The code here reads the data from the directory, using the <code>reader</code> helper module, and then trains and evaluates the model on both a testing and a validating subset of data.\n"
   ]
  },
  {
   "cell_type": "code",
   "execution_count": 52,
   "metadata": {},
   "outputs": [],
   "source": [
    "# Reads the data and separates it into training data, validation data and testing data\n",
    "raw_data = ptb_raw_data(data_dir)\n",
    "train_data, valid_data, test_data, _, _ = raw_data"
   ]
  },
  {
   "cell_type": "code",
   "execution_count": 54,
   "metadata": {},
   "outputs": [
    {
     "name": "stdout",
     "output_type": "stream",
     "text": [
      "Model: \"sequential_2\"\n",
      "_________________________________________________________________\n",
      " Layer (type)                Output Shape              Param #   \n",
      "=================================================================\n",
      " embedding_vocab (Embedding)  (30, 20, 200)            2000000   \n",
      "                                                                 \n",
      " rnn_2 (RNN)                 (30, 20, 128)             671088    \n",
      "                                                                 \n",
      " dense_2 (Dense)             (30, 20, 10000)           1290000   \n",
      "                                                                 \n",
      " activation_2 (Activation)   (30, 20, 10000)           0         \n",
      "                                                                 \n",
      "=================================================================\n",
      "Total params: 3,961,088\n",
      "Trainable params: 3,955,088\n",
      "Non-trainable params: 6,000\n",
      "_________________________________________________________________\n"
     ]
    },
    {
     "name": "stderr",
     "output_type": "stream",
     "text": [
      "/home/mj/.local/lib/python3.10/site-packages/keras/optimizers/optimizer_v2/gradient_descent.py:108: UserWarning: The `lr` argument is deprecated, use `learning_rate` instead.\n",
      "  super(SGD, self).__init__(name, **kwargs)\n"
     ]
    },
    {
     "name": "stdout",
     "output_type": "stream",
     "text": [
      "Epoch 1 : Learning rate: 1.000\n",
      "Itr 10 of 1549, perplexity: 4858.604 speed: 1848 wps\n",
      "Itr 164 of 1549, perplexity: 1091.536 speed: 1943 wps\n",
      "Itr 318 of 1549, perplexity: 839.033 speed: 1950 wps\n",
      "Itr 472 of 1549, perplexity: 691.802 speed: 1955 wps\n",
      "Itr 626 of 1549, perplexity: 588.235 speed: 1955 wps\n",
      "Itr 780 of 1549, perplexity: 521.144 speed: 1938 wps\n",
      "Itr 934 of 1549, perplexity: 468.676 speed: 1935 wps\n",
      "Itr 1088 of 1549, perplexity: 429.740 speed: 1940 wps\n",
      "Itr 1242 of 1549, perplexity: 400.101 speed: 1945 wps\n",
      "Itr 1396 of 1549, perplexity: 372.649 speed: 1947 wps\n",
      "Epoch 1 : Train Perplexity: 351.059\n",
      "Epoch 1 : Valid Perplexity: 209.271\n",
      "Epoch 2 : Learning rate: 1.000\n",
      "Itr 10 of 1549, perplexity: 232.837 speed: 1936 wps\n",
      "Itr 164 of 1549, perplexity: 207.477 speed: 1968 wps\n",
      "Itr 318 of 1549, perplexity: 199.067 speed: 1971 wps\n",
      "Itr 472 of 1549, perplexity: 190.815 speed: 1968 wps\n",
      "Itr 626 of 1549, perplexity: 182.083 speed: 1969 wps\n",
      "Itr 780 of 1549, perplexity: 178.551 speed: 1968 wps\n",
      "Itr 934 of 1549, perplexity: 174.573 speed: 1965 wps\n",
      "Itr 1088 of 1549, perplexity: 171.292 speed: 1967 wps\n",
      "Itr 1242 of 1549, perplexity: 169.005 speed: 1935 wps\n",
      "Itr 1396 of 1549, perplexity: 165.044 speed: 1910 wps\n",
      "Epoch 2 : Train Perplexity: 162.309\n",
      "Epoch 2 : Valid Perplexity: 162.396\n",
      "Epoch 3 : Learning rate: 1.000\n",
      "Itr 10 of 1549, perplexity: 159.867 speed: 1902 wps\n",
      "Itr 164 of 1549, perplexity: 145.928 speed: 1807 wps\n",
      "Itr 318 of 1549, perplexity: 142.537 speed: 1801 wps\n",
      "Itr 472 of 1549, perplexity: 137.826 speed: 1360 wps\n",
      "Itr 626 of 1549, perplexity: 132.736 speed: 1367 wps\n",
      "Itr 780 of 1549, perplexity: 131.605 speed: 1415 wps\n",
      "Itr 934 of 1549, perplexity: 129.875 speed: 1442 wps\n",
      "Itr 1088 of 1549, perplexity: 128.394 speed: 1486 wps\n",
      "Itr 1242 of 1549, perplexity: 127.594 speed: 1483 wps\n",
      "Itr 1396 of 1549, perplexity: 125.343 speed: 1501 wps\n",
      "Epoch 3 : Train Perplexity: 124.106\n",
      "Epoch 3 : Valid Perplexity: 143.606\n",
      "Test Perplexity: 139.202\n"
     ]
    }
   ],
   "source": [
    "# Instantiates the PTBModel class\n",
    "m=PTBModel.instance()   \n",
    "K = tf.keras.backend \n",
    "for i in range(3):\n",
    "    # Define the decay for this epoch\n",
    "    lr_decay = decay ** max(i - max_epoch_decay_lr, 0.0)\n",
    "    dcr = learning_rate * lr_decay\n",
    "    m._lr = dcr\n",
    "    K.set_value(m._model.optimizer.learning_rate,m._lr)\n",
    "    print(\"Epoch %d : Learning rate: %.3f\" % (i + 1, m._model.optimizer.learning_rate))\n",
    "    # Run the loop for this epoch in the training mode\n",
    "    train_perplexity = run_one_epoch(m, train_data,is_training=True,verbose=True)\n",
    "    print(\"Epoch %d : Train Perplexity: %.3f\" % (i + 1, train_perplexity))\n",
    "        \n",
    "    # Run the loop for this epoch in the validation mode\n",
    "    valid_perplexity = run_one_epoch(m, valid_data,is_training=False,verbose=False)\n",
    "    print(\"Epoch %d : Valid Perplexity: %.3f\" % (i + 1, valid_perplexity))\n",
    "    \n",
    "test_perplexity = run_one_epoch(m, test_data,is_training=False,verbose=False)\n",
    "print(\"Test Perplexity: %.3f\" % test_perplexity)"
   ]
  },
  {
   "cell_type": "markdown",
   "metadata": {},
   "source": [
    "As you can see, the model's perplexity rating drops very quickly after a few iterations. As was elaborated before, <b>lower Perplexity means that the model is more certain about its prediction</b>. As such, we can be sure that this model is performing well!\n"
   ]
  },
  {
   "cell_type": "markdown",
   "metadata": {},
   "source": [
    "-------\n"
   ]
  },
  {
   "cell_type": "markdown",
   "metadata": {},
   "source": [
    "### Thanks for completing this lesson!\n",
    "\n",
    "Notebook created by <a href=\"https://br.linkedin.com/in/walter-gomes-de-amorim-junior-624726121?utm_medium=Exinfluencer&utm_source=Exinfluencer&utm_content=000026UJ&utm_term=10006555&utm_id=NA-SkillsNetwork-Channel-SkillsNetworkCoursesIBMDeveloperSkillsNetworkDL0120ENSkillsNetwork954-2023-01-01\">Walter Gomes de Amorim Junior</a>, <a href = \"https://linkedin.com/in/saeedaghabozorgi\"> Saeed Aghabozorgi </a></h4>\n",
    "\n",
    "\n",
    "Updated to TF 2.X by  <a href=\"https://www.linkedin.com/in/samaya-madhavan?utm_medium=Exinfluencer&utm_source=Exinfluencer&utm_content=000026UJ&utm_term=10006555&utm_id=NA-SkillsNetwork-Channel-SkillsNetworkCoursesIBMDeveloperSkillsNetworkDL0120ENSkillsNetwork954-2023-01-01\"> Samaya Madhavan </a>\n"
   ]
  },
  {
   "cell_type": "markdown",
   "metadata": {},
   "source": [
    "<hr>\n",
    "\n",
    "Copyright &copy; 2018 [Cognitive Class](https://cocl.us/DX0108EN_CC). This notebook and its source code are released under the terms of the [MIT License](https://bigdatauniversity.com/mit-license/?utm_medium=Exinfluencer&utm_source=Exinfluencer&utm_content=000026UJ&utm_term=10006555&utm_id=NA-SkillsNetwork-Channel-SkillsNetworkCoursesIBMDeveloperSkillsNetworkDL0120ENSkillsNetwork954-2023-01-01).\n"
   ]
  }
 ],
 "metadata": {
  "kernelspec": {
   "display_name": "Python 3",
   "language": "python",
   "name": "python3"
  },
  "language_info": {
   "codemirror_mode": {
    "name": "ipython",
    "version": 3
   },
   "file_extension": ".py",
   "mimetype": "text/x-python",
   "name": "python",
   "nbconvert_exporter": "python",
   "pygments_lexer": "ipython3",
   "version": "3.10.12"
  }
 },
 "nbformat": 4,
 "nbformat_minor": 4
}
